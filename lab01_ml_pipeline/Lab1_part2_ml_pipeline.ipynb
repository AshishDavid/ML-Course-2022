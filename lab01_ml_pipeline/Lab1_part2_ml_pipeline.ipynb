{
  "cells": [
    {
      "cell_type": "markdown",
      "metadata": {
        "nbgrader": {
          "grade": false,
          "grade_id": "cell-86e0de040aac317a",
          "locked": true,
          "schema_version": 2,
          "solution": false
        },
        "id": "wftiIF12ZRz5"
      },
      "source": [
        "# Lab assignment №1, part 2\n",
        "\n",
        "This lab assignment consists of several parts. You are supposed to make some transformations, train some models, estimate the quality of the models and explain your results.\n",
        "\n",
        "Several comments:\n",
        "* Don't hesitate to ask questions, it's a good practice.\n",
        "* No private/public sharing, please. The copied assignments will be graded with 0 points.\n",
        "* Blocks of this lab will be graded separately."
      ]
    },
    {
      "cell_type": "markdown",
      "metadata": {
        "id": "f4SsHnHSZR0C"
      },
      "source": [
        "__*This is the second part of the assignment. First and third parts are waiting for you in the same directory.*__"
      ]
    },
    {
      "cell_type": "markdown",
      "metadata": {
        "nbgrader": {
          "grade": false,
          "grade_id": "cell-512ba712fc0fc065",
          "locked": true,
          "schema_version": 2,
          "solution": false
        },
        "id": "cR5UssE5ZR0E"
      },
      "source": [
        "## Part 2. Data preprocessing, model training and evaluation."
      ]
    },
    {
      "cell_type": "markdown",
      "metadata": {
        "nbgrader": {
          "grade": false,
          "grade_id": "cell-b656a4266174b009",
          "locked": true,
          "schema_version": 2,
          "solution": false
        },
        "id": "WW3pub_NZR0F"
      },
      "source": [
        "### 1. Reading the data\n",
        "Today we work with the [dataset](https://archive.ics.uci.edu/ml/datasets/Statlog+%28Vehicle+Silhouettes%29), describing different cars for multiclass ($k=4$) classification problem. The data is available below."
      ]
    },
    {
      "cell_type": "code",
      "execution_count": 32,
      "metadata": {
        "id": "BGo58AvVZR0G",
        "outputId": "6bd5d05a-ad8f-4a2f-d7be-e278be485f66",
        "colab": {
          "base_uri": "https://localhost:8080/"
        }
      },
      "outputs": [
        {
          "output_type": "stream",
          "name": "stdout",
          "text": [
            "--2022-11-26 13:39:24--  https://raw.githubusercontent.com/girafe-ai/ml-course/22f_made/homeworks/lab01_ml_pipeline/car_data.csv\n",
            "Resolving raw.githubusercontent.com (raw.githubusercontent.com)... 185.199.108.133, 185.199.109.133, 185.199.110.133, ...\n",
            "Connecting to raw.githubusercontent.com (raw.githubusercontent.com)|185.199.108.133|:443... connected.\n",
            "HTTP request sent, awaiting response... 200 OK\n",
            "Length: 58374 (57K) [text/plain]\n",
            "Saving to: ‘car_data.csv’\n",
            "\n",
            "\rcar_data.csv          0%[                    ]       0  --.-KB/s               \rcar_data.csv        100%[===================>]  57.01K  --.-KB/s    in 0.01s   \n",
            "\n",
            "2022-11-26 13:39:24 (5.17 MB/s) - ‘car_data.csv’ saved [58374/58374]\n",
            "\n"
          ]
        }
      ],
      "source": [
        "# If on colab, uncomment the following lines\n",
        "! wget https://raw.githubusercontent.com/girafe-ai/ml-course/22f_made/homeworks/lab01_ml_pipeline/car_data.csv"
      ]
    },
    {
      "cell_type": "code",
      "execution_count": 116,
      "metadata": {
        "nbgrader": {
          "grade": false,
          "grade_id": "cell-eebac6bfdf73d0bc",
          "locked": true,
          "schema_version": 2,
          "solution": false
        },
        "id": "oGo908cyZR0I",
        "outputId": "4862eccc-18e3-46b7-ccc1-f9e7108f1a3b",
        "colab": {
          "base_uri": "https://localhost:8080/"
        }
      },
      "outputs": [
        {
          "output_type": "stream",
          "name": "stdout",
          "text": [
            "(846, 19) (846,)\n",
            "(549, 19) (549,) (297, 19) (297,)\n"
          ]
        }
      ],
      "source": [
        "import pandas as pd\n",
        "import numpy as np\n",
        "from sklearn.model_selection import train_test_split\n",
        "\n",
        "dataset = pd.read_csv('car_data.csv', delimiter=',', header=None).values\n",
        "data = dataset[:, :-1].astype(int)\n",
        "target = dataset[:, -1]\n",
        "\n",
        "print(data.shape, target.shape)\n",
        "\n",
        "X_train, X_test, y_train, y_test = train_test_split(data, target, test_size=0.35)\n",
        "print(X_train.shape, y_train.shape, X_test.shape, y_test.shape)"
      ]
    },
    {
      "cell_type": "markdown",
      "metadata": {
        "nbgrader": {
          "grade": false,
          "grade_id": "cell-88b1a0f688568f2c",
          "locked": true,
          "schema_version": 2,
          "solution": false
        },
        "id": "DkjIa-4aZR0K"
      },
      "source": [
        "To get some insights about the dataset, `pandas` might be used. The `train` part is transformed to `pd.DataFrame` below."
      ]
    },
    {
      "cell_type": "code",
      "execution_count": 117,
      "metadata": {
        "id": "FDTU5Io4ZR0M",
        "outputId": "85d4edbd-3aa3-4cb3-9b86-3ff22e43acdd",
        "colab": {
          "base_uri": "https://localhost:8080/",
          "height": 519
        }
      },
      "outputs": [
        {
          "output_type": "execute_result",
          "data": {
            "text/plain": [
              "     0    1   2    3    4   5   6    7   8   9    10   11   12   13  14  15  \\\n",
              "0   458  103  57  105  221  69  11  218  30  24  173  226  706  250  73  10   \n",
              "1   410   89  45   77  188  64   9  161  41  20  151  190  390  174  66   4   \n",
              "2   584  100  51   89  199  65   6  201  32  23  159  219  622  205  74   6   \n",
              "3   261   91  39   88  189  63   9  175  38  21  132  197  457  156  69   0   \n",
              "4   438   91  49   86  195  63   8  177  37  21  156  203  473  201  67   7   \n",
              "5   585   85  35   64  129  57   6  116  57  17  125  138  200  123  65   1   \n",
              "6   149   93  36   64  165  69   8  136  49  18  136  161  279  127  67   2   \n",
              "7   795   83  40   53  114  53   6  132  53  18  140  142  247  157  86   8   \n",
              "8   267  100  46   81  187  61   9  166  40  20  154  189  415  175  63  13   \n",
              "9   318   89  37   51  111  54   5  120  56  17  127  138  213  147  82   7   \n",
              "10  692  108  51  100  206  63  10  196  34  23  159  214  576  201  65   7   \n",
              "11  733  114  57  102  181  52   6  257  26  28  169  287  968  261  85   2   \n",
              "12  421   98  48  101  195  61  11  207  31  23  152  227  650  193  71   5   \n",
              "13  189   90  36   78  179  64   8  157  42  19  126  182  367  142  66   1   \n",
              "14  568   86  43   69  123  54   6  150  46  19  144  174  325  177  87   3   \n",
              "\n",
              "    16   17   18  \n",
              "0    2  187  195  \n",
              "1    2  194  201  \n",
              "2    7  193  193  \n",
              "3   23  191  198  \n",
              "4    5  192  198  \n",
              "5   23  196  203  \n",
              "6   29  193  204  \n",
              "7    7  176  183  \n",
              "8    9  198  207  \n",
              "9    4  181  183  \n",
              "10  16  194  205  \n",
              "11  21  182  184  \n",
              "12   7  189  196  \n",
              "13  20  192  198  \n",
              "14   7  180  182  "
            ],
            "text/html": [
              "\n",
              "  <div id=\"df-622ad6bf-957a-4897-8c45-1cd5f1886c22\">\n",
              "    <div class=\"colab-df-container\">\n",
              "      <div>\n",
              "<style scoped>\n",
              "    .dataframe tbody tr th:only-of-type {\n",
              "        vertical-align: middle;\n",
              "    }\n",
              "\n",
              "    .dataframe tbody tr th {\n",
              "        vertical-align: top;\n",
              "    }\n",
              "\n",
              "    .dataframe thead th {\n",
              "        text-align: right;\n",
              "    }\n",
              "</style>\n",
              "<table border=\"1\" class=\"dataframe\">\n",
              "  <thead>\n",
              "    <tr style=\"text-align: right;\">\n",
              "      <th></th>\n",
              "      <th>0</th>\n",
              "      <th>1</th>\n",
              "      <th>2</th>\n",
              "      <th>3</th>\n",
              "      <th>4</th>\n",
              "      <th>5</th>\n",
              "      <th>6</th>\n",
              "      <th>7</th>\n",
              "      <th>8</th>\n",
              "      <th>9</th>\n",
              "      <th>10</th>\n",
              "      <th>11</th>\n",
              "      <th>12</th>\n",
              "      <th>13</th>\n",
              "      <th>14</th>\n",
              "      <th>15</th>\n",
              "      <th>16</th>\n",
              "      <th>17</th>\n",
              "      <th>18</th>\n",
              "    </tr>\n",
              "  </thead>\n",
              "  <tbody>\n",
              "    <tr>\n",
              "      <th>0</th>\n",
              "      <td>458</td>\n",
              "      <td>103</td>\n",
              "      <td>57</td>\n",
              "      <td>105</td>\n",
              "      <td>221</td>\n",
              "      <td>69</td>\n",
              "      <td>11</td>\n",
              "      <td>218</td>\n",
              "      <td>30</td>\n",
              "      <td>24</td>\n",
              "      <td>173</td>\n",
              "      <td>226</td>\n",
              "      <td>706</td>\n",
              "      <td>250</td>\n",
              "      <td>73</td>\n",
              "      <td>10</td>\n",
              "      <td>2</td>\n",
              "      <td>187</td>\n",
              "      <td>195</td>\n",
              "    </tr>\n",
              "    <tr>\n",
              "      <th>1</th>\n",
              "      <td>410</td>\n",
              "      <td>89</td>\n",
              "      <td>45</td>\n",
              "      <td>77</td>\n",
              "      <td>188</td>\n",
              "      <td>64</td>\n",
              "      <td>9</td>\n",
              "      <td>161</td>\n",
              "      <td>41</td>\n",
              "      <td>20</td>\n",
              "      <td>151</td>\n",
              "      <td>190</td>\n",
              "      <td>390</td>\n",
              "      <td>174</td>\n",
              "      <td>66</td>\n",
              "      <td>4</td>\n",
              "      <td>2</td>\n",
              "      <td>194</td>\n",
              "      <td>201</td>\n",
              "    </tr>\n",
              "    <tr>\n",
              "      <th>2</th>\n",
              "      <td>584</td>\n",
              "      <td>100</td>\n",
              "      <td>51</td>\n",
              "      <td>89</td>\n",
              "      <td>199</td>\n",
              "      <td>65</td>\n",
              "      <td>6</td>\n",
              "      <td>201</td>\n",
              "      <td>32</td>\n",
              "      <td>23</td>\n",
              "      <td>159</td>\n",
              "      <td>219</td>\n",
              "      <td>622</td>\n",
              "      <td>205</td>\n",
              "      <td>74</td>\n",
              "      <td>6</td>\n",
              "      <td>7</td>\n",
              "      <td>193</td>\n",
              "      <td>193</td>\n",
              "    </tr>\n",
              "    <tr>\n",
              "      <th>3</th>\n",
              "      <td>261</td>\n",
              "      <td>91</td>\n",
              "      <td>39</td>\n",
              "      <td>88</td>\n",
              "      <td>189</td>\n",
              "      <td>63</td>\n",
              "      <td>9</td>\n",
              "      <td>175</td>\n",
              "      <td>38</td>\n",
              "      <td>21</td>\n",
              "      <td>132</td>\n",
              "      <td>197</td>\n",
              "      <td>457</td>\n",
              "      <td>156</td>\n",
              "      <td>69</td>\n",
              "      <td>0</td>\n",
              "      <td>23</td>\n",
              "      <td>191</td>\n",
              "      <td>198</td>\n",
              "    </tr>\n",
              "    <tr>\n",
              "      <th>4</th>\n",
              "      <td>438</td>\n",
              "      <td>91</td>\n",
              "      <td>49</td>\n",
              "      <td>86</td>\n",
              "      <td>195</td>\n",
              "      <td>63</td>\n",
              "      <td>8</td>\n",
              "      <td>177</td>\n",
              "      <td>37</td>\n",
              "      <td>21</td>\n",
              "      <td>156</td>\n",
              "      <td>203</td>\n",
              "      <td>473</td>\n",
              "      <td>201</td>\n",
              "      <td>67</td>\n",
              "      <td>7</td>\n",
              "      <td>5</td>\n",
              "      <td>192</td>\n",
              "      <td>198</td>\n",
              "    </tr>\n",
              "    <tr>\n",
              "      <th>5</th>\n",
              "      <td>585</td>\n",
              "      <td>85</td>\n",
              "      <td>35</td>\n",
              "      <td>64</td>\n",
              "      <td>129</td>\n",
              "      <td>57</td>\n",
              "      <td>6</td>\n",
              "      <td>116</td>\n",
              "      <td>57</td>\n",
              "      <td>17</td>\n",
              "      <td>125</td>\n",
              "      <td>138</td>\n",
              "      <td>200</td>\n",
              "      <td>123</td>\n",
              "      <td>65</td>\n",
              "      <td>1</td>\n",
              "      <td>23</td>\n",
              "      <td>196</td>\n",
              "      <td>203</td>\n",
              "    </tr>\n",
              "    <tr>\n",
              "      <th>6</th>\n",
              "      <td>149</td>\n",
              "      <td>93</td>\n",
              "      <td>36</td>\n",
              "      <td>64</td>\n",
              "      <td>165</td>\n",
              "      <td>69</td>\n",
              "      <td>8</td>\n",
              "      <td>136</td>\n",
              "      <td>49</td>\n",
              "      <td>18</td>\n",
              "      <td>136</td>\n",
              "      <td>161</td>\n",
              "      <td>279</td>\n",
              "      <td>127</td>\n",
              "      <td>67</td>\n",
              "      <td>2</td>\n",
              "      <td>29</td>\n",
              "      <td>193</td>\n",
              "      <td>204</td>\n",
              "    </tr>\n",
              "    <tr>\n",
              "      <th>7</th>\n",
              "      <td>795</td>\n",
              "      <td>83</td>\n",
              "      <td>40</td>\n",
              "      <td>53</td>\n",
              "      <td>114</td>\n",
              "      <td>53</td>\n",
              "      <td>6</td>\n",
              "      <td>132</td>\n",
              "      <td>53</td>\n",
              "      <td>18</td>\n",
              "      <td>140</td>\n",
              "      <td>142</td>\n",
              "      <td>247</td>\n",
              "      <td>157</td>\n",
              "      <td>86</td>\n",
              "      <td>8</td>\n",
              "      <td>7</td>\n",
              "      <td>176</td>\n",
              "      <td>183</td>\n",
              "    </tr>\n",
              "    <tr>\n",
              "      <th>8</th>\n",
              "      <td>267</td>\n",
              "      <td>100</td>\n",
              "      <td>46</td>\n",
              "      <td>81</td>\n",
              "      <td>187</td>\n",
              "      <td>61</td>\n",
              "      <td>9</td>\n",
              "      <td>166</td>\n",
              "      <td>40</td>\n",
              "      <td>20</td>\n",
              "      <td>154</td>\n",
              "      <td>189</td>\n",
              "      <td>415</td>\n",
              "      <td>175</td>\n",
              "      <td>63</td>\n",
              "      <td>13</td>\n",
              "      <td>9</td>\n",
              "      <td>198</td>\n",
              "      <td>207</td>\n",
              "    </tr>\n",
              "    <tr>\n",
              "      <th>9</th>\n",
              "      <td>318</td>\n",
              "      <td>89</td>\n",
              "      <td>37</td>\n",
              "      <td>51</td>\n",
              "      <td>111</td>\n",
              "      <td>54</td>\n",
              "      <td>5</td>\n",
              "      <td>120</td>\n",
              "      <td>56</td>\n",
              "      <td>17</td>\n",
              "      <td>127</td>\n",
              "      <td>138</td>\n",
              "      <td>213</td>\n",
              "      <td>147</td>\n",
              "      <td>82</td>\n",
              "      <td>7</td>\n",
              "      <td>4</td>\n",
              "      <td>181</td>\n",
              "      <td>183</td>\n",
              "    </tr>\n",
              "    <tr>\n",
              "      <th>10</th>\n",
              "      <td>692</td>\n",
              "      <td>108</td>\n",
              "      <td>51</td>\n",
              "      <td>100</td>\n",
              "      <td>206</td>\n",
              "      <td>63</td>\n",
              "      <td>10</td>\n",
              "      <td>196</td>\n",
              "      <td>34</td>\n",
              "      <td>23</td>\n",
              "      <td>159</td>\n",
              "      <td>214</td>\n",
              "      <td>576</td>\n",
              "      <td>201</td>\n",
              "      <td>65</td>\n",
              "      <td>7</td>\n",
              "      <td>16</td>\n",
              "      <td>194</td>\n",
              "      <td>205</td>\n",
              "    </tr>\n",
              "    <tr>\n",
              "      <th>11</th>\n",
              "      <td>733</td>\n",
              "      <td>114</td>\n",
              "      <td>57</td>\n",
              "      <td>102</td>\n",
              "      <td>181</td>\n",
              "      <td>52</td>\n",
              "      <td>6</td>\n",
              "      <td>257</td>\n",
              "      <td>26</td>\n",
              "      <td>28</td>\n",
              "      <td>169</td>\n",
              "      <td>287</td>\n",
              "      <td>968</td>\n",
              "      <td>261</td>\n",
              "      <td>85</td>\n",
              "      <td>2</td>\n",
              "      <td>21</td>\n",
              "      <td>182</td>\n",
              "      <td>184</td>\n",
              "    </tr>\n",
              "    <tr>\n",
              "      <th>12</th>\n",
              "      <td>421</td>\n",
              "      <td>98</td>\n",
              "      <td>48</td>\n",
              "      <td>101</td>\n",
              "      <td>195</td>\n",
              "      <td>61</td>\n",
              "      <td>11</td>\n",
              "      <td>207</td>\n",
              "      <td>31</td>\n",
              "      <td>23</td>\n",
              "      <td>152</td>\n",
              "      <td>227</td>\n",
              "      <td>650</td>\n",
              "      <td>193</td>\n",
              "      <td>71</td>\n",
              "      <td>5</td>\n",
              "      <td>7</td>\n",
              "      <td>189</td>\n",
              "      <td>196</td>\n",
              "    </tr>\n",
              "    <tr>\n",
              "      <th>13</th>\n",
              "      <td>189</td>\n",
              "      <td>90</td>\n",
              "      <td>36</td>\n",
              "      <td>78</td>\n",
              "      <td>179</td>\n",
              "      <td>64</td>\n",
              "      <td>8</td>\n",
              "      <td>157</td>\n",
              "      <td>42</td>\n",
              "      <td>19</td>\n",
              "      <td>126</td>\n",
              "      <td>182</td>\n",
              "      <td>367</td>\n",
              "      <td>142</td>\n",
              "      <td>66</td>\n",
              "      <td>1</td>\n",
              "      <td>20</td>\n",
              "      <td>192</td>\n",
              "      <td>198</td>\n",
              "    </tr>\n",
              "    <tr>\n",
              "      <th>14</th>\n",
              "      <td>568</td>\n",
              "      <td>86</td>\n",
              "      <td>43</td>\n",
              "      <td>69</td>\n",
              "      <td>123</td>\n",
              "      <td>54</td>\n",
              "      <td>6</td>\n",
              "      <td>150</td>\n",
              "      <td>46</td>\n",
              "      <td>19</td>\n",
              "      <td>144</td>\n",
              "      <td>174</td>\n",
              "      <td>325</td>\n",
              "      <td>177</td>\n",
              "      <td>87</td>\n",
              "      <td>3</td>\n",
              "      <td>7</td>\n",
              "      <td>180</td>\n",
              "      <td>182</td>\n",
              "    </tr>\n",
              "  </tbody>\n",
              "</table>\n",
              "</div>\n",
              "      <button class=\"colab-df-convert\" onclick=\"convertToInteractive('df-622ad6bf-957a-4897-8c45-1cd5f1886c22')\"\n",
              "              title=\"Convert this dataframe to an interactive table.\"\n",
              "              style=\"display:none;\">\n",
              "        \n",
              "  <svg xmlns=\"http://www.w3.org/2000/svg\" height=\"24px\"viewBox=\"0 0 24 24\"\n",
              "       width=\"24px\">\n",
              "    <path d=\"M0 0h24v24H0V0z\" fill=\"none\"/>\n",
              "    <path d=\"M18.56 5.44l.94 2.06.94-2.06 2.06-.94-2.06-.94-.94-2.06-.94 2.06-2.06.94zm-11 1L8.5 8.5l.94-2.06 2.06-.94-2.06-.94L8.5 2.5l-.94 2.06-2.06.94zm10 10l.94 2.06.94-2.06 2.06-.94-2.06-.94-.94-2.06-.94 2.06-2.06.94z\"/><path d=\"M17.41 7.96l-1.37-1.37c-.4-.4-.92-.59-1.43-.59-.52 0-1.04.2-1.43.59L10.3 9.45l-7.72 7.72c-.78.78-.78 2.05 0 2.83L4 21.41c.39.39.9.59 1.41.59.51 0 1.02-.2 1.41-.59l7.78-7.78 2.81-2.81c.8-.78.8-2.07 0-2.86zM5.41 20L4 18.59l7.72-7.72 1.47 1.35L5.41 20z\"/>\n",
              "  </svg>\n",
              "      </button>\n",
              "      \n",
              "  <style>\n",
              "    .colab-df-container {\n",
              "      display:flex;\n",
              "      flex-wrap:wrap;\n",
              "      gap: 12px;\n",
              "    }\n",
              "\n",
              "    .colab-df-convert {\n",
              "      background-color: #E8F0FE;\n",
              "      border: none;\n",
              "      border-radius: 50%;\n",
              "      cursor: pointer;\n",
              "      display: none;\n",
              "      fill: #1967D2;\n",
              "      height: 32px;\n",
              "      padding: 0 0 0 0;\n",
              "      width: 32px;\n",
              "    }\n",
              "\n",
              "    .colab-df-convert:hover {\n",
              "      background-color: #E2EBFA;\n",
              "      box-shadow: 0px 1px 2px rgba(60, 64, 67, 0.3), 0px 1px 3px 1px rgba(60, 64, 67, 0.15);\n",
              "      fill: #174EA6;\n",
              "    }\n",
              "\n",
              "    [theme=dark] .colab-df-convert {\n",
              "      background-color: #3B4455;\n",
              "      fill: #D2E3FC;\n",
              "    }\n",
              "\n",
              "    [theme=dark] .colab-df-convert:hover {\n",
              "      background-color: #434B5C;\n",
              "      box-shadow: 0px 1px 3px 1px rgba(0, 0, 0, 0.15);\n",
              "      filter: drop-shadow(0px 1px 2px rgba(0, 0, 0, 0.3));\n",
              "      fill: #FFFFFF;\n",
              "    }\n",
              "  </style>\n",
              "\n",
              "      <script>\n",
              "        const buttonEl =\n",
              "          document.querySelector('#df-622ad6bf-957a-4897-8c45-1cd5f1886c22 button.colab-df-convert');\n",
              "        buttonEl.style.display =\n",
              "          google.colab.kernel.accessAllowed ? 'block' : 'none';\n",
              "\n",
              "        async function convertToInteractive(key) {\n",
              "          const element = document.querySelector('#df-622ad6bf-957a-4897-8c45-1cd5f1886c22');\n",
              "          const dataTable =\n",
              "            await google.colab.kernel.invokeFunction('convertToInteractive',\n",
              "                                                     [key], {});\n",
              "          if (!dataTable) return;\n",
              "\n",
              "          const docLinkHtml = 'Like what you see? Visit the ' +\n",
              "            '<a target=\"_blank\" href=https://colab.research.google.com/notebooks/data_table.ipynb>data table notebook</a>'\n",
              "            + ' to learn more about interactive tables.';\n",
              "          element.innerHTML = '';\n",
              "          dataTable['output_type'] = 'display_data';\n",
              "          await google.colab.output.renderOutput(dataTable, element);\n",
              "          const docLink = document.createElement('div');\n",
              "          docLink.innerHTML = docLinkHtml;\n",
              "          element.appendChild(docLink);\n",
              "        }\n",
              "      </script>\n",
              "    </div>\n",
              "  </div>\n",
              "  "
            ]
          },
          "metadata": {},
          "execution_count": 117
        }
      ],
      "source": [
        "X_train_pd = pd.DataFrame(X_train)\n",
        "\n",
        "# First 15 rows of our dataset.\n",
        "X_train_pd.head(15)"
      ]
    },
    {
      "cell_type": "markdown",
      "metadata": {
        "nbgrader": {
          "grade": false,
          "grade_id": "cell-98e7d91d77d65fcf",
          "locked": true,
          "schema_version": 2,
          "solution": false
        },
        "id": "bZpWr6DWZR0O"
      },
      "source": [
        "Methods `describe` and `info` deliver some useful information."
      ]
    },
    {
      "cell_type": "code",
      "execution_count": 118,
      "metadata": {
        "id": "v5MV3-DuZR0P",
        "outputId": "3b53c5fa-21c4-4dbb-92aa-a25d4d84c670",
        "colab": {
          "base_uri": "https://localhost:8080/",
          "height": 364
        }
      },
      "outputs": [
        {
          "output_type": "execute_result",
          "data": {
            "text/plain": [
              "               0           1           2           3           4           5   \\\n",
              "count  549.000000  549.000000  549.000000  549.000000  549.000000  549.000000   \n",
              "mean   425.965392   93.300546   44.559199   81.355191  166.814208   61.183971   \n",
              "std    247.418365    8.055624    6.193257   15.732929   32.634032    6.724291   \n",
              "min      0.000000   77.000000   33.000000   40.000000  104.000000   47.000000   \n",
              "25%    210.000000   87.000000   39.000000   70.000000  139.000000   57.000000   \n",
              "50%    430.000000   92.000000   44.000000   78.000000  164.000000   61.000000   \n",
              "75%    640.000000   99.000000   49.000000   96.000000  194.000000   65.000000   \n",
              "max    845.000000  119.000000   59.000000  112.000000  322.000000  133.000000   \n",
              "\n",
              "               6           7           8           9           10          11  \\\n",
              "count  549.000000  549.000000  549.000000  549.000000  549.000000  549.000000   \n",
              "mean     8.276867  167.615665   41.282332   20.491803  147.265938  187.191257   \n",
              "std      3.461445   33.611778    7.895443    2.624009   14.469902   31.767831   \n",
              "min      2.000000  112.000000   26.000000   17.000000  118.000000  130.000000   \n",
              "25%      7.000000  145.000000   34.000000   19.000000  136.000000  166.000000   \n",
              "50%      8.000000  156.000000   43.000000   19.000000  145.000000  176.000000   \n",
              "75%     10.000000  196.000000   46.000000   23.000000  158.000000  214.000000   \n",
              "max     55.000000  265.000000   61.000000   29.000000  188.000000  288.000000   \n",
              "\n",
              "                12          13          14          15          16  \\\n",
              "count   549.000000  549.000000  549.000000  549.000000  549.000000   \n",
              "mean    434.021858  173.533698   72.382514    6.229508   12.672131   \n",
              "std     179.526078   33.203273    6.845222    4.893218    8.840949   \n",
              "min     184.000000  112.000000   59.000000    0.000000    0.000000   \n",
              "25%     314.000000  148.000000   67.000000    2.000000    6.000000   \n",
              "50%     358.000000  172.000000   71.000000    5.000000   11.000000   \n",
              "75%     575.000000  196.000000   76.000000    9.000000   19.000000   \n",
              "max    1018.000000  268.000000   99.000000   22.000000   41.000000   \n",
              "\n",
              "               17          18  \n",
              "count  549.000000  549.000000  \n",
              "mean   188.854281  195.417122  \n",
              "std      6.368883    7.701725  \n",
              "min    176.000000  181.000000  \n",
              "25%    184.000000  189.000000  \n",
              "50%    188.000000  196.000000  \n",
              "75%    193.000000  201.000000  \n",
              "max    206.000000  211.000000  "
            ],
            "text/html": [
              "\n",
              "  <div id=\"df-e0d87bbe-4f2a-489e-b3ad-aff6e8d2a8c0\">\n",
              "    <div class=\"colab-df-container\">\n",
              "      <div>\n",
              "<style scoped>\n",
              "    .dataframe tbody tr th:only-of-type {\n",
              "        vertical-align: middle;\n",
              "    }\n",
              "\n",
              "    .dataframe tbody tr th {\n",
              "        vertical-align: top;\n",
              "    }\n",
              "\n",
              "    .dataframe thead th {\n",
              "        text-align: right;\n",
              "    }\n",
              "</style>\n",
              "<table border=\"1\" class=\"dataframe\">\n",
              "  <thead>\n",
              "    <tr style=\"text-align: right;\">\n",
              "      <th></th>\n",
              "      <th>0</th>\n",
              "      <th>1</th>\n",
              "      <th>2</th>\n",
              "      <th>3</th>\n",
              "      <th>4</th>\n",
              "      <th>5</th>\n",
              "      <th>6</th>\n",
              "      <th>7</th>\n",
              "      <th>8</th>\n",
              "      <th>9</th>\n",
              "      <th>10</th>\n",
              "      <th>11</th>\n",
              "      <th>12</th>\n",
              "      <th>13</th>\n",
              "      <th>14</th>\n",
              "      <th>15</th>\n",
              "      <th>16</th>\n",
              "      <th>17</th>\n",
              "      <th>18</th>\n",
              "    </tr>\n",
              "  </thead>\n",
              "  <tbody>\n",
              "    <tr>\n",
              "      <th>count</th>\n",
              "      <td>549.000000</td>\n",
              "      <td>549.000000</td>\n",
              "      <td>549.000000</td>\n",
              "      <td>549.000000</td>\n",
              "      <td>549.000000</td>\n",
              "      <td>549.000000</td>\n",
              "      <td>549.000000</td>\n",
              "      <td>549.000000</td>\n",
              "      <td>549.000000</td>\n",
              "      <td>549.000000</td>\n",
              "      <td>549.000000</td>\n",
              "      <td>549.000000</td>\n",
              "      <td>549.000000</td>\n",
              "      <td>549.000000</td>\n",
              "      <td>549.000000</td>\n",
              "      <td>549.000000</td>\n",
              "      <td>549.000000</td>\n",
              "      <td>549.000000</td>\n",
              "      <td>549.000000</td>\n",
              "    </tr>\n",
              "    <tr>\n",
              "      <th>mean</th>\n",
              "      <td>425.965392</td>\n",
              "      <td>93.300546</td>\n",
              "      <td>44.559199</td>\n",
              "      <td>81.355191</td>\n",
              "      <td>166.814208</td>\n",
              "      <td>61.183971</td>\n",
              "      <td>8.276867</td>\n",
              "      <td>167.615665</td>\n",
              "      <td>41.282332</td>\n",
              "      <td>20.491803</td>\n",
              "      <td>147.265938</td>\n",
              "      <td>187.191257</td>\n",
              "      <td>434.021858</td>\n",
              "      <td>173.533698</td>\n",
              "      <td>72.382514</td>\n",
              "      <td>6.229508</td>\n",
              "      <td>12.672131</td>\n",
              "      <td>188.854281</td>\n",
              "      <td>195.417122</td>\n",
              "    </tr>\n",
              "    <tr>\n",
              "      <th>std</th>\n",
              "      <td>247.418365</td>\n",
              "      <td>8.055624</td>\n",
              "      <td>6.193257</td>\n",
              "      <td>15.732929</td>\n",
              "      <td>32.634032</td>\n",
              "      <td>6.724291</td>\n",
              "      <td>3.461445</td>\n",
              "      <td>33.611778</td>\n",
              "      <td>7.895443</td>\n",
              "      <td>2.624009</td>\n",
              "      <td>14.469902</td>\n",
              "      <td>31.767831</td>\n",
              "      <td>179.526078</td>\n",
              "      <td>33.203273</td>\n",
              "      <td>6.845222</td>\n",
              "      <td>4.893218</td>\n",
              "      <td>8.840949</td>\n",
              "      <td>6.368883</td>\n",
              "      <td>7.701725</td>\n",
              "    </tr>\n",
              "    <tr>\n",
              "      <th>min</th>\n",
              "      <td>0.000000</td>\n",
              "      <td>77.000000</td>\n",
              "      <td>33.000000</td>\n",
              "      <td>40.000000</td>\n",
              "      <td>104.000000</td>\n",
              "      <td>47.000000</td>\n",
              "      <td>2.000000</td>\n",
              "      <td>112.000000</td>\n",
              "      <td>26.000000</td>\n",
              "      <td>17.000000</td>\n",
              "      <td>118.000000</td>\n",
              "      <td>130.000000</td>\n",
              "      <td>184.000000</td>\n",
              "      <td>112.000000</td>\n",
              "      <td>59.000000</td>\n",
              "      <td>0.000000</td>\n",
              "      <td>0.000000</td>\n",
              "      <td>176.000000</td>\n",
              "      <td>181.000000</td>\n",
              "    </tr>\n",
              "    <tr>\n",
              "      <th>25%</th>\n",
              "      <td>210.000000</td>\n",
              "      <td>87.000000</td>\n",
              "      <td>39.000000</td>\n",
              "      <td>70.000000</td>\n",
              "      <td>139.000000</td>\n",
              "      <td>57.000000</td>\n",
              "      <td>7.000000</td>\n",
              "      <td>145.000000</td>\n",
              "      <td>34.000000</td>\n",
              "      <td>19.000000</td>\n",
              "      <td>136.000000</td>\n",
              "      <td>166.000000</td>\n",
              "      <td>314.000000</td>\n",
              "      <td>148.000000</td>\n",
              "      <td>67.000000</td>\n",
              "      <td>2.000000</td>\n",
              "      <td>6.000000</td>\n",
              "      <td>184.000000</td>\n",
              "      <td>189.000000</td>\n",
              "    </tr>\n",
              "    <tr>\n",
              "      <th>50%</th>\n",
              "      <td>430.000000</td>\n",
              "      <td>92.000000</td>\n",
              "      <td>44.000000</td>\n",
              "      <td>78.000000</td>\n",
              "      <td>164.000000</td>\n",
              "      <td>61.000000</td>\n",
              "      <td>8.000000</td>\n",
              "      <td>156.000000</td>\n",
              "      <td>43.000000</td>\n",
              "      <td>19.000000</td>\n",
              "      <td>145.000000</td>\n",
              "      <td>176.000000</td>\n",
              "      <td>358.000000</td>\n",
              "      <td>172.000000</td>\n",
              "      <td>71.000000</td>\n",
              "      <td>5.000000</td>\n",
              "      <td>11.000000</td>\n",
              "      <td>188.000000</td>\n",
              "      <td>196.000000</td>\n",
              "    </tr>\n",
              "    <tr>\n",
              "      <th>75%</th>\n",
              "      <td>640.000000</td>\n",
              "      <td>99.000000</td>\n",
              "      <td>49.000000</td>\n",
              "      <td>96.000000</td>\n",
              "      <td>194.000000</td>\n",
              "      <td>65.000000</td>\n",
              "      <td>10.000000</td>\n",
              "      <td>196.000000</td>\n",
              "      <td>46.000000</td>\n",
              "      <td>23.000000</td>\n",
              "      <td>158.000000</td>\n",
              "      <td>214.000000</td>\n",
              "      <td>575.000000</td>\n",
              "      <td>196.000000</td>\n",
              "      <td>76.000000</td>\n",
              "      <td>9.000000</td>\n",
              "      <td>19.000000</td>\n",
              "      <td>193.000000</td>\n",
              "      <td>201.000000</td>\n",
              "    </tr>\n",
              "    <tr>\n",
              "      <th>max</th>\n",
              "      <td>845.000000</td>\n",
              "      <td>119.000000</td>\n",
              "      <td>59.000000</td>\n",
              "      <td>112.000000</td>\n",
              "      <td>322.000000</td>\n",
              "      <td>133.000000</td>\n",
              "      <td>55.000000</td>\n",
              "      <td>265.000000</td>\n",
              "      <td>61.000000</td>\n",
              "      <td>29.000000</td>\n",
              "      <td>188.000000</td>\n",
              "      <td>288.000000</td>\n",
              "      <td>1018.000000</td>\n",
              "      <td>268.000000</td>\n",
              "      <td>99.000000</td>\n",
              "      <td>22.000000</td>\n",
              "      <td>41.000000</td>\n",
              "      <td>206.000000</td>\n",
              "      <td>211.000000</td>\n",
              "    </tr>\n",
              "  </tbody>\n",
              "</table>\n",
              "</div>\n",
              "      <button class=\"colab-df-convert\" onclick=\"convertToInteractive('df-e0d87bbe-4f2a-489e-b3ad-aff6e8d2a8c0')\"\n",
              "              title=\"Convert this dataframe to an interactive table.\"\n",
              "              style=\"display:none;\">\n",
              "        \n",
              "  <svg xmlns=\"http://www.w3.org/2000/svg\" height=\"24px\"viewBox=\"0 0 24 24\"\n",
              "       width=\"24px\">\n",
              "    <path d=\"M0 0h24v24H0V0z\" fill=\"none\"/>\n",
              "    <path d=\"M18.56 5.44l.94 2.06.94-2.06 2.06-.94-2.06-.94-.94-2.06-.94 2.06-2.06.94zm-11 1L8.5 8.5l.94-2.06 2.06-.94-2.06-.94L8.5 2.5l-.94 2.06-2.06.94zm10 10l.94 2.06.94-2.06 2.06-.94-2.06-.94-.94-2.06-.94 2.06-2.06.94z\"/><path d=\"M17.41 7.96l-1.37-1.37c-.4-.4-.92-.59-1.43-.59-.52 0-1.04.2-1.43.59L10.3 9.45l-7.72 7.72c-.78.78-.78 2.05 0 2.83L4 21.41c.39.39.9.59 1.41.59.51 0 1.02-.2 1.41-.59l7.78-7.78 2.81-2.81c.8-.78.8-2.07 0-2.86zM5.41 20L4 18.59l7.72-7.72 1.47 1.35L5.41 20z\"/>\n",
              "  </svg>\n",
              "      </button>\n",
              "      \n",
              "  <style>\n",
              "    .colab-df-container {\n",
              "      display:flex;\n",
              "      flex-wrap:wrap;\n",
              "      gap: 12px;\n",
              "    }\n",
              "\n",
              "    .colab-df-convert {\n",
              "      background-color: #E8F0FE;\n",
              "      border: none;\n",
              "      border-radius: 50%;\n",
              "      cursor: pointer;\n",
              "      display: none;\n",
              "      fill: #1967D2;\n",
              "      height: 32px;\n",
              "      padding: 0 0 0 0;\n",
              "      width: 32px;\n",
              "    }\n",
              "\n",
              "    .colab-df-convert:hover {\n",
              "      background-color: #E2EBFA;\n",
              "      box-shadow: 0px 1px 2px rgba(60, 64, 67, 0.3), 0px 1px 3px 1px rgba(60, 64, 67, 0.15);\n",
              "      fill: #174EA6;\n",
              "    }\n",
              "\n",
              "    [theme=dark] .colab-df-convert {\n",
              "      background-color: #3B4455;\n",
              "      fill: #D2E3FC;\n",
              "    }\n",
              "\n",
              "    [theme=dark] .colab-df-convert:hover {\n",
              "      background-color: #434B5C;\n",
              "      box-shadow: 0px 1px 3px 1px rgba(0, 0, 0, 0.15);\n",
              "      filter: drop-shadow(0px 1px 2px rgba(0, 0, 0, 0.3));\n",
              "      fill: #FFFFFF;\n",
              "    }\n",
              "  </style>\n",
              "\n",
              "      <script>\n",
              "        const buttonEl =\n",
              "          document.querySelector('#df-e0d87bbe-4f2a-489e-b3ad-aff6e8d2a8c0 button.colab-df-convert');\n",
              "        buttonEl.style.display =\n",
              "          google.colab.kernel.accessAllowed ? 'block' : 'none';\n",
              "\n",
              "        async function convertToInteractive(key) {\n",
              "          const element = document.querySelector('#df-e0d87bbe-4f2a-489e-b3ad-aff6e8d2a8c0');\n",
              "          const dataTable =\n",
              "            await google.colab.kernel.invokeFunction('convertToInteractive',\n",
              "                                                     [key], {});\n",
              "          if (!dataTable) return;\n",
              "\n",
              "          const docLinkHtml = 'Like what you see? Visit the ' +\n",
              "            '<a target=\"_blank\" href=https://colab.research.google.com/notebooks/data_table.ipynb>data table notebook</a>'\n",
              "            + ' to learn more about interactive tables.';\n",
              "          element.innerHTML = '';\n",
              "          dataTable['output_type'] = 'display_data';\n",
              "          await google.colab.output.renderOutput(dataTable, element);\n",
              "          const docLink = document.createElement('div');\n",
              "          docLink.innerHTML = docLinkHtml;\n",
              "          element.appendChild(docLink);\n",
              "        }\n",
              "      </script>\n",
              "    </div>\n",
              "  </div>\n",
              "  "
            ]
          },
          "metadata": {},
          "execution_count": 118
        }
      ],
      "source": [
        "X_train_pd.describe()"
      ]
    },
    {
      "cell_type": "code",
      "execution_count": 119,
      "metadata": {
        "id": "ju1zQwV0ZR0R",
        "outputId": "ccc6e02e-94a0-4225-b290-6f04ffe8682e",
        "colab": {
          "base_uri": "https://localhost:8080/"
        }
      },
      "outputs": [
        {
          "output_type": "stream",
          "name": "stdout",
          "text": [
            "<class 'pandas.core.frame.DataFrame'>\n",
            "RangeIndex: 549 entries, 0 to 548\n",
            "Data columns (total 19 columns):\n",
            " #   Column  Non-Null Count  Dtype\n",
            "---  ------  --------------  -----\n",
            " 0   0       549 non-null    int64\n",
            " 1   1       549 non-null    int64\n",
            " 2   2       549 non-null    int64\n",
            " 3   3       549 non-null    int64\n",
            " 4   4       549 non-null    int64\n",
            " 5   5       549 non-null    int64\n",
            " 6   6       549 non-null    int64\n",
            " 7   7       549 non-null    int64\n",
            " 8   8       549 non-null    int64\n",
            " 9   9       549 non-null    int64\n",
            " 10  10      549 non-null    int64\n",
            " 11  11      549 non-null    int64\n",
            " 12  12      549 non-null    int64\n",
            " 13  13      549 non-null    int64\n",
            " 14  14      549 non-null    int64\n",
            " 15  15      549 non-null    int64\n",
            " 16  16      549 non-null    int64\n",
            " 17  17      549 non-null    int64\n",
            " 18  18      549 non-null    int64\n",
            "dtypes: int64(19)\n",
            "memory usage: 81.6 KB\n"
          ]
        }
      ],
      "source": [
        "X_train_pd.info()"
      ]
    },
    {
      "cell_type": "markdown",
      "metadata": {
        "nbgrader": {
          "grade": false,
          "grade_id": "cell-be844269be69c387",
          "locked": true,
          "schema_version": 2,
          "solution": false
        },
        "id": "vZxnoqe2ZR0T"
      },
      "source": [
        "### 2. Machine Learning pipeline\n",
        "Here you are supposed to perform the desired transformations. Please, explain your results briefly after each task."
      ]
    },
    {
      "cell_type": "markdown",
      "metadata": {
        "id": "ORp3N6Q7ZR0T"
      },
      "source": [
        "#### 2.0. Data preprocessing\n",
        "* Make some transformations of the dataset (if necessary). Briefly explain the transformations"
      ]
    },
    {
      "cell_type": "code",
      "execution_count": 120,
      "metadata": {
        "nbgrader": {
          "grade": true,
          "grade_id": "cell-a1514aa189a49fca",
          "locked": false,
          "points": 15,
          "schema_version": 2,
          "solution": true
        },
        "id": "3qavUI2pZR0U"
      },
      "outputs": [],
      "source": [
        "from sklearn.preprocessing import StandardScaler\n",
        "scaler = StandardScaler()\n",
        "X_train_scaled = scaler.fit_transform(X_train)\n",
        "X_test_scaled = scaler.fit_transform(X_test)\n",
        "#As we can see from the dataset that it's a normal distribution dataset.\n",
        "# So, we are using StandardScaler standardization technique to apply ML algorithms quickly and accurately."
      ]
    },
    {
      "cell_type": "markdown",
      "metadata": {
        "id": "lqHUNRijZR0V"
      },
      "source": [
        "#### 2.1. Basic logistic regression\n",
        "* Find optimal hyperparameters for logistic regression with cross-validation on the `train` data (small grid/random search is enough, no need to find the *best* parameters).\n",
        "\n",
        "* Estimate the model quality with `f1` and `accuracy` scores.\n",
        "* Plot a ROC-curve for the trained model. For the multiclass case you might use `scikitplot` library (e.g. `scikitplot.metrics.plot_roc(test_labels, predicted_proba)`).\n",
        "\n",
        "*Note: please, use the following hyperparameters for logistic regression: `multi_class='multinomial'`, `solver='saga'` `tol=1e-3` and ` max_iter=500`.*"
      ]
    },
    {
      "cell_type": "code",
      "execution_count": 121,
      "metadata": {
        "nbgrader": {
          "grade": true,
          "grade_id": "cell-1dd5ad5d0845cbbb",
          "locked": false,
          "points": 5,
          "schema_version": 2,
          "solution": true
        },
        "id": "ZvrSFBoQZR0V"
      },
      "outputs": [],
      "source": [
        "from sklearn.linear_model import LogisticRegression\n",
        "logreg = LogisticRegression(multi_class='multinomial', solver='saga', tol=1e-3, max_iter=500)\n",
        "from sklearn import metrics\n",
        "#logreg.fit(X_train_scaled,y_train)\n",
        "#y_pred = logreg.predict(X_test_scaled)\n",
        "#print(\"Accuracy:\",metrics.accuracy_score(y_test, y_pred))\n",
        "#print(\"Accuracy:\",logreg.score(X_test_scaled, y_test))"
      ]
    },
    {
      "cell_type": "code",
      "source": [
        "param_grid = {'penalty' : ['l1', 'l2'],\n",
        "              'C' : np.logspace(-3, 3, 7)}\n",
        "from sklearn.model_selection import GridSearchCV\n",
        "clf = GridSearchCV(logreg, param_grid=param_grid, verbose=True, cv = 10, scoring='accuracy')\n",
        "best_clf = clf.fit(X_train_scaled, y_train)\n",
        "print(\"Tuned Hyperparameters :\", clf.best_params_)\n",
        "print(\"Accuracy :\",clf.best_score_)"
      ],
      "metadata": {
        "id": "GG9EahxT4F64",
        "outputId": "fae69e06-23c3-4c31-edbe-25525ac276ba",
        "colab": {
          "base_uri": "https://localhost:8080/"
        }
      },
      "execution_count": 122,
      "outputs": [
        {
          "output_type": "stream",
          "name": "stdout",
          "text": [
            "Fitting 10 folds for each of 14 candidates, totalling 140 fits\n",
            "Tuned Hyperparameters : {'C': 100.0, 'penalty': 'l1'}\n",
            "Accuracy : 0.8088552188552189\n"
          ]
        }
      ]
    },
    {
      "cell_type": "code",
      "execution_count": 123,
      "metadata": {
        "id": "omv7fW8RZR0W",
        "outputId": "02587877-5e1a-48ce-d524-c4d0ef70f77e",
        "colab": {
          "base_uri": "https://localhost:8080/"
        }
      },
      "outputs": [
        {
          "output_type": "stream",
          "name": "stdout",
          "text": [
            "Cross-Validation Accuracy Scores [0.72727273 0.70909091 0.67272727 0.70909091 0.61818182 0.70909091\n",
            " 0.67272727 0.78181818 0.61818182 0.83333333]\n"
          ]
        }
      ],
      "source": [
        "# You might use this command to install scikit-plot. \n",
        "# Warning, if you a running locally, don't call pip from within jupyter, call it from terminal in the corresponding \n",
        "# virtual environment instead\n",
        "\n",
        "# ! pip install scikit-plot\n",
        "from sklearn.model_selection import cross_val_score\n",
        "\n",
        "scores = cross_val_score(logreg, X_train, y_train, cv=10)\n",
        "print('Cross-Validation Accuracy Scores', scores)"
      ]
    },
    {
      "cell_type": "code",
      "source": [
        "from sklearn.metrics import f1_score\n",
        "import scikitplot as sckpl\n",
        "from matplotlib import pyplot as plt\n",
        "y_predicted = clf.predict(X_test_scaled)\n",
        "print(\"F1 score of this model: \", f1_score(y_test, y_predicted, average='macro'))\n",
        "print(\"Accuracy score of this model: \", clf.score(X_test_scaled, y_test))\n",
        "    \n",
        "# Plot the ROC-curve\n",
        "predicted_proba = clf.predict_proba(X_test_scaled)\n",
        "sckpl.metrics.plot_roc(y_test, predicted_proba)\n",
        "plt.show()"
      ],
      "metadata": {
        "id": "dPPi-LYaIhyp",
        "outputId": "888e5c48-3caf-4a5b-ffa1-dc539a13cb66",
        "colab": {
          "base_uri": "https://localhost:8080/",
          "height": 331
        }
      },
      "execution_count": 125,
      "outputs": [
        {
          "output_type": "stream",
          "name": "stdout",
          "text": [
            "F1 score of this model:  0.7588458964391801\n",
            "Accuracy score of this model:  0.7542087542087542\n"
          ]
        },
        {
          "output_type": "display_data",
          "data": {
            "text/plain": [
              "<Figure size 432x288 with 1 Axes>"
            ],
            "image/png": "[encoded data removed]"
          },
          "metadata": {
            "needs_background": "light"
          }
        }
      ]
    },
    {
      "cell_type": "markdown",
      "metadata": {
        "id": "ByAhB_suZR0X"
      },
      "source": [
        "#### 2.2. PCA: explained variance plot\n",
        "* Apply the PCA to the train part of the data. Build the explaided variance plot. "
      ]
    },
    {
      "cell_type": "code",
      "execution_count": 126,
      "metadata": {
        "nbgrader": {
          "grade": true,
          "grade_id": "cell-c6c614740bce090e",
          "locked": false,
          "points": 10,
          "schema_version": 2,
          "solution": true
        },
        "id": "5WM-g1yRZR0X",
        "outputId": "5e580df4-615f-4093-81f5-45a2fe032104",
        "colab": {
          "base_uri": "https://localhost:8080/",
          "height": 297
        }
      },
      "outputs": [
        {
          "output_type": "display_data",
          "data": {
            "text/plain": [
              "<Figure size 432x288 with 1 Axes>"
            ],
            "image/png": "[encoded data removed]"
          },
          "metadata": {
            "needs_background": "light"
          }
        }
      ],
      "source": [
        "from sklearn.decomposition import PCA\n",
        "pca = PCA()\n",
        "X_train_pca = pca.fit_transform(X_train_scaled)\n",
        "exp_var_pca = pca.explained_variance_ratio_\n",
        "cum_sum_eigenvalues = np.cumsum(exp_var_pca)\n",
        "plt.bar(range(0,len(exp_var_pca)), exp_var_pca, alpha=0.5, align='center', label='Individual explained variance')\n",
        "plt.step(range(0,len(cum_sum_eigenvalues)), cum_sum_eigenvalues, where='mid',label='Cumulative explained variance')\n",
        "plt.ylabel('Explained variance ratio')\n",
        "plt.xlabel('Principal component index')\n",
        "plt.legend(loc='best')\n",
        "plt.tight_layout()\n",
        "plt.show()"
      ]
    },
    {
      "cell_type": "markdown",
      "metadata": {
        "nbgrader": {
          "grade": false,
          "grade_id": "cell-0c1fe666f52fe53c",
          "locked": true,
          "schema_version": 2,
          "solution": false
        },
        "id": "qZLHpUKhZR0X"
      },
      "source": [
        "#### 2.3. PCA trasformation\n",
        "* Select the appropriate number of components. Briefly explain your choice. Should you normalize the data?\n",
        "\n",
        "*Use `fit` and `transform` methods to transform the `train` and `test` parts.*"
      ]
    },
    {
      "cell_type": "code",
      "execution_count": 127,
      "metadata": {
        "nbgrader": {
          "grade": true,
          "grade_id": "cell-96ab18d96473ef71",
          "locked": false,
          "points": 5,
          "schema_version": 2,
          "solution": true
        },
        "id": "ioJwMSxQZR0Y",
        "outputId": "2aeee966-63bb-4dc9-c174-08905865896a",
        "colab": {
          "base_uri": "https://localhost:8080/",
          "height": 295
        }
      },
      "outputs": [
        {
          "output_type": "display_data",
          "data": {
            "text/plain": [
              "<Figure size 432x288 with 1 Axes>"
            ],
            "image/png": "[encoded data removed]"
          },
          "metadata": {
            "needs_background": "light"
          }
        }
      ],
      "source": [
        "pca = PCA(n_components=16)\n",
        "#appropriate number of components are 16 as we other feature’s variance\n",
        "# is not very significant.\n",
        "X_train_pca_scaled = pca.fit_transform(X_train_scaled)\n",
        "plt.bar(\n",
        "    range(1,len(pca.explained_variance_)+1),\n",
        "    pca.explained_variance_\n",
        "    )\n",
        "X_test_pca_scaled = pca.fit_transform(X_test_scaled) \n",
        "plt.xlabel('PCA Feature')\n",
        "plt.ylabel('Explained variance')\n",
        "plt.title('Feature Explained Variance')\n",
        "plt.show()"
      ]
    },
    {
      "cell_type": "markdown",
      "metadata": {
        "id": "yMSApTvoZR0Z"
      },
      "source": [
        "**Note: From this point `sklearn` [Pipeline](https://scikit-learn.org/stable/modules/compose.html) might be useful to perform transformations on the data. Refer to the [docs](https://scikit-learn.org/stable/modules/generated/sklearn.pipeline.Pipeline.html) for more information.**"
      ]
    },
    {
      "cell_type": "markdown",
      "metadata": {
        "nbgrader": {
          "grade": false,
          "grade_id": "cell-d28b58a35c94e988",
          "locked": true,
          "schema_version": 2,
          "solution": false
        },
        "id": "AJyvShztZR0Z"
      },
      "source": [
        "#### 2.4. Logistic regression on PCA-preprocessed data.\n",
        "* Find optimal hyperparameters for logistic regression with cross-validation on the transformed by PCA `train` data.\n",
        "\n",
        "* Estimate the model quality with `f1` and `accuracy` scores.\n",
        "* Plot a ROC-curve for the trained model. For the multiclass case you might use `scikitplot` library (e.g. `scikitplot.metrics.plot_roc(test_labels, predicted_proba)`).\n",
        "\n",
        "*Note: please, use the following hyperparameters for logistic regression: `multi_class='multinomial'`, `solver='saga'` and `tol=1e-3`*"
      ]
    },
    {
      "cell_type": "code",
      "execution_count": 128,
      "metadata": {
        "nbgrader": {
          "grade": true,
          "grade_id": "cell-12d53ea45258fa82",
          "locked": false,
          "points": 5,
          "schema_version": 2,
          "solution": true
        },
        "id": "cBe6l-4WZR0a",
        "outputId": "3a13e30c-b37f-4cbe-b99f-67e649789e37",
        "colab": {
          "base_uri": "https://localhost:8080/"
        }
      },
      "outputs": [
        {
          "output_type": "stream",
          "name": "stdout",
          "text": [
            "Fitting 10 folds for each of 14 candidates, totalling 140 fits\n",
            "Tuned Hyperparameters : {'C': 1.0, 'penalty': 'l1'}\n",
            "Accuracy : 0.7997643097643098\n",
            "F1 score of this model:  0.444049503242427\n"
          ]
        }
      ],
      "source": [
        "import warnings\n",
        "warnings.filterwarnings('ignore')\n",
        "param_grid = {'penalty' : ['l1', 'l2'],\n",
        "              'C' : np.logspace(-3, 3, 7)}\n",
        "clf = GridSearchCV(logreg, param_grid=param_grid, verbose=True, cv = 10, scoring='accuracy')\n",
        "clf.fit(X_train_pca_scaled, y_train)\n",
        "print(\"Tuned Hyperparameters :\", clf.best_params_)\n",
        "print(\"Accuracy :\",clf.best_score_)\n",
        "y_predicted_pca = clf.predict(X_test_pca_scaled)\n",
        "print(\"F1 score of this model: \", f1_score(y_test, y_predicted_pca, average='macro'))"
      ]
    },
    {
      "cell_type": "markdown",
      "metadata": {
        "nbgrader": {
          "grade": false,
          "grade_id": "cell-4fbf16c64076e139",
          "locked": true,
          "schema_version": 2,
          "solution": false
        },
        "id": "USytxscoZR0a"
      },
      "source": [
        "#### 2.5. Decision tree\n",
        "* Now train a desicion tree on the same data. Find optimal tree depth (`max_depth`) using cross-validation.\n",
        "\n",
        "* Measure the model quality using the same metrics you used above."
      ]
    },
    {
      "cell_type": "code",
      "execution_count": 146,
      "metadata": {
        "nbgrader": {
          "grade": true,
          "grade_id": "cell-748ed20b51c67fab",
          "locked": false,
          "points": 15,
          "schema_version": 2,
          "solution": true
        },
        "id": "uyLxxf7uZR0a",
        "outputId": "d595c47e-40c5-45bc-8155-51810dae9f4b",
        "colab": {
          "base_uri": "https://localhost:8080/"
        }
      },
      "outputs": [
        {
          "output_type": "stream",
          "name": "stdout",
          "text": [
            "{'criterion': 'entropy', 'max_depth': 145}\n",
            "Accuracy : 0.6885237698081734\n",
            "F1 score of this model:  0.3815845808201923\n"
          ]
        }
      ],
      "source": [
        "from sklearn.tree import DecisionTreeClassifier\n",
        "clf = DecisionTreeClassifier()\n",
        "\n",
        "param_dict = {\n",
        "    'max_depth': list(range(0, 500)),\n",
        "    'criterion': ['gini', 'entropy']\n",
        "}\n",
        "clf = GridSearchCV(clf, param_dict, cv=5)\n",
        "clf.fit(X_train_pca_scaled, y_train)\n",
        "print(clf.best_params_)\n",
        "print(\"Accuracy :\",clf.best_score_)\n",
        "y_predicted_dc_tree = clf.predict(X_test_pca_scaled)\n",
        "print(\"F1 score of this model: \", f1_score(y_test, y_predicted_dc_tree, average='macro'))"
      ]
    },
    {
      "cell_type": "markdown",
      "metadata": {
        "nbgrader": {
          "grade": false,
          "grade_id": "cell-9eadd4d8a03ae67a",
          "locked": true,
          "schema_version": 2,
          "solution": false
        },
        "id": "Uf-snyb2ZR0b"
      },
      "source": [
        "#### 2.6. Bagging.\n",
        "Here starts the ensembling part.\n",
        "\n",
        "First we will use the __Bagging__ approach. Build an ensemble of $N$ algorithms varying N from $N_{min}=2$ to $N_{max}=100$ (with step 5).\n",
        "\n",
        "We will build two ensembles: of logistic regressions and of decision trees.\n",
        "\n",
        "*Comment: each ensemble should be constructed from models of the same family, so logistic regressions should not be mixed up with decision trees.*\n",
        "\n",
        "\n",
        "*Hint 1: To build a __Bagging__ ensebmle varying the ensemble size efficiently you might generate $N_{max}$ subsets of `train` data (of the same size as the original dataset) using bootstrap procedure once. Then you train a new instance of logistic regression/decision tree with optimal hyperparameters you estimated before on each subset (so you train it from scratch). Finally, to get an ensemble of $N$ models you average the $N$ out of $N_{max}$ models predictions.*\n",
        "\n",
        "*Hint 2: sklearn might help you with this taks. Some appropriate function/class might be out there.*\n",
        "\n",
        "* Plot `f1` and `accuracy` scores plots w.r.t. the size of the ensemble.\n",
        "\n",
        "* Briefly analyse the plot. What is the optimal number of algorithms? Explain your answer.\n",
        "\n",
        "* How do you think, are the hyperparameters for the decision trees you found in 2.5 optimal for trees used in ensemble? "
      ]
    },
    {
      "cell_type": "code",
      "execution_count": null,
      "metadata": {
        "nbgrader": {
          "grade": true,
          "grade_id": "cell-8fc95a2b206bdae1",
          "locked": false,
          "points": 35,
          "schema_version": 2,
          "solution": true
        },
        "id": "MKbywNoqZR0c"
      },
      "outputs": [],
      "source": [
        "from sklearn.ensemble import BaggingClassifier"
      ]
    },
    {
      "cell_type": "code",
      "execution_count": null,
      "metadata": {
        "id": "M9zhQQrkZR0c"
      },
      "outputs": [],
      "source": []
    },
    {
      "cell_type": "markdown",
      "metadata": {
        "nbgrader": {
          "grade": false,
          "grade_id": "cell-241b7691ab44cbfb",
          "locked": true,
          "schema_version": 2,
          "solution": false
        },
        "id": "nPxIcKGVZR0d"
      },
      "source": [
        "#### 2.7. Random Forest\n",
        "Now we will work with the Random Forest (its `sklearn` implementation).\n",
        "\n",
        "* * Plot `f1` and `accuracy` scores plots w.r.t. the number of trees in Random Forest.\n",
        "\n",
        "* What is the optimal number of trees you've got? Is it different from the optimal number of logistic regressions/decision trees in 2.6? Explain the results briefly."
      ]
    },
    {
      "cell_type": "code",
      "execution_count": 152,
      "metadata": {
        "nbgrader": {
          "grade": true,
          "grade_id": "cell-888755d0f3d91620",
          "locked": false,
          "points": 15,
          "schema_version": 2,
          "solution": true
        },
        "id": "c-eM2ncCZR0d",
        "outputId": "42621948-1bcc-48a7-e33c-8e7a47d9a77f",
        "colab": {
          "base_uri": "https://localhost:8080/",
          "height": 624
        }
      },
      "outputs": [
        {
          "output_type": "display_data",
          "data": {
            "text/plain": [
              "<Figure size 1008x720 with 1 Axes>"
            ],
            "image/png": "[encoded data removed]"
          },
          "metadata": {
            "needs_background": "light"
          }
        },
        {
          "output_type": "stream",
          "name": "stdout",
          "text": [
            "Optimal number of trees:  42 .\n"
          ]
        }
      ],
      "source": [
        "from sklearn.ensemble import RandomForestClassifier\n",
        "N = np.arange(2, 100, 5)\n",
        "accuracy_list = []\n",
        "f1_list = []\n",
        "for i in N:\n",
        "  randforest_classifier = RandomForestClassifier(n_estimators=i, n_jobs = -1)\n",
        "  randforest_classifier.fit(X_train_pca_scaled, y_train)\n",
        "  accuracy_list.append(metrics.accuracy_score(y_test, randforest_classifier.predict(X_test_pca_scaled)))\n",
        "  f1_list.append(f1_score(y_test, randforest_classifier.predict(X_test_pca_scaled), average = 'weighted'))\n",
        "\n",
        "plt.figure(figsize=(14, 10))\n",
        "plt.plot(N, accuracy_list, label = 'accuracy')\n",
        "plt.plot(N, f1_list, label = \"f1\")\n",
        "plt.xlabel(\"Trees Number\")\n",
        "plt.ylabel(\"score\")\n",
        "plt.legend(loc = 'lower right')\n",
        "plt.show()\n",
        "print(\"Optimal number of trees: \", N[np.argmax(accuracy_list)], \".\")"
      ]
    },
    {
      "cell_type": "markdown",
      "metadata": {
        "nbgrader": {
          "grade": false,
          "grade_id": "cell-99191c0852538d4d",
          "locked": true,
          "schema_version": 2,
          "solution": false
        },
        "id": "Rz1dhIS4ZR0e"
      },
      "source": [
        "#### 2.8. Learning curve\n",
        "Your goal is to estimate, how does the model behaviour change with the increase of the `train` dataset size.\n",
        "\n",
        "* Split the training data into 10 equal (almost) parts. Then train the models from above (Logistic regression, Desicion Tree, Random Forest) with optimal hyperparameters you have selected on 1 part, 2 parts (combined, so the train size in increased by 2 times), 3 parts and so on.\n",
        "\n",
        "* Build a plot of `accuracy` and `f1` scores on `test` part, varying the `train` dataset size (so the axes will be score - dataset size.\n",
        "\n",
        "* Analyse the final plot. Can you make any conlusions using it? "
      ]
    },
    {
      "cell_type": "code",
      "execution_count": null,
      "metadata": {
        "nbgrader": {
          "grade": true,
          "grade_id": "cell-e39bc7e7dff61ff9",
          "locked": false,
          "points": 15,
          "schema_version": 2,
          "solution": true
        },
        "id": "r_OL-X4rZR0e"
      },
      "outputs": [],
      "source": []
    }
  ],
  "metadata": {
    "celltoolbar": "Create Assignment",
    "kernelspec": {
      "display_name": "Py3 Research",
      "language": "python",
      "name": "py3_research_kernel"
    },
    "language_info": {
      "codemirror_mode": {
        "name": "ipython",
        "version": 3
      },
      "file_extension": ".py",
      "mimetype": "text/x-python",
      "name": "python",
      "nbconvert_exporter": "python",
      "pygments_lexer": "ipython3",
      "version": "3.9.7"
    },
    "toc": {
      "base_numbering": 1,
      "nav_menu": {},
      "number_sections": false,
      "sideBar": true,
      "skip_h1_title": false,
      "title_cell": "Table of Contents",
      "title_sidebar": "Contents",
      "toc_cell": false,
      "toc_position": {},
      "toc_section_display": true,
      "toc_window_display": false
    },
    "colab": {
      "provenance": []
    }
  },
  "nbformat": 4,
  "nbformat_minor": 0
}
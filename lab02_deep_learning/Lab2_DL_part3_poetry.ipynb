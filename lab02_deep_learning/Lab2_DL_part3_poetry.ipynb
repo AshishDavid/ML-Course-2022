{
  "cells": [
    {
      "cell_type": "markdown",
      "metadata": {
        "id": "view-in-github",
        "colab_type": "text"
      },
      "source": [
        "<a href=\"https://colab.research.google.com/github/AshishDavid/ML-Course-2022/blob/main/lab02_deep_learning/Lab2_DL_part3_poetry.ipynb\" target=\"_parent\"><img src=\"https://colab.research.google.com/assets/colab-badge.svg\" alt=\"Open In Colab\"/></a>"
      ]
    },
    {
      "cell_type": "markdown",
      "metadata": {
        "id": "rPNyOT_ejx1r"
      },
      "source": [
        "## Lab 2"
      ]
    },
    {
      "cell_type": "markdown",
      "metadata": {
        "id": "CQvMGpnwjx1y"
      },
      "source": [
        "### Part 3. Poetry generation\n",
        "\n",
        "Let's try to generate some poetry using RNNs. \n",
        "\n",
        "You have several choices here: \n",
        "\n",
        "* The Shakespeare sonnets, file `sonnets.txt` available in the notebook directory.\n",
        "\n",
        "* Роман в стихах \"Евгений Онегин\" Александра Сергеевича Пушкина. В предобработанном виде доступен по [ссылке](https://github.com/attatrol/data_sources/blob/master/onegin.txt).\n",
        "\n",
        "* Some other text source, if it will be approved by the course staff.\n",
        "\n",
        "Text generation can be designed in several steps:\n",
        "    \n",
        "1. Data loading.\n",
        "2. Dictionary generation.\n",
        "3. Data preprocessing.\n",
        "4. Model (neural network) training.\n",
        "5. Text generation (model evaluation).\n"
      ]
    },
    {
      "cell_type": "code",
      "execution_count": 1,
      "metadata": {
        "id": "s7OlYUtJjx11"
      },
      "outputs": [],
      "source": [
        "import string\n",
        "import os\n",
        "import numpy as np\n",
        "import matplotlib.pyplot as plt\n",
        "\n",
        "from tqdm.auto import tqdm\n",
        "\n",
        "import torch\n",
        "import torch.nn as nn\n",
        "\n",
        "from collections import Counter"
      ]
    },
    {
      "cell_type": "markdown",
      "metadata": {
        "id": "emCqbFmujx14"
      },
      "source": [
        "### Data loading: Shakespeare"
      ]
    },
    {
      "cell_type": "markdown",
      "metadata": {
        "id": "KslM_-OWjx15"
      },
      "source": [
        "Shakespeare sonnets are awailable at this [link](http://www.gutenberg.org/ebooks/1041?msg=welcome_stranger). In addition, they are stored in the same directory as this notebook (`sonnetes.txt`). Simple preprocessing is already done for you in the next cell: all technical info is dropped."
      ]
    },
    {
      "cell_type": "code",
      "execution_count": 2,
      "metadata": {
        "collapsed": true,
        "id": "Uo2U8sqBjx16",
        "colab": {
          "base_uri": "https://localhost:8080/"
        },
        "outputId": "c0c285b9-a7f7-419f-ba50-f3ff547109d5"
      },
      "outputs": [
        {
          "output_type": "stream",
          "name": "stdout",
          "text": [
            "--2022-12-22 21:09:57--  https://raw.githubusercontent.com/girafe-ai/ml-course/22f_basic/homeworks/lab02_deep_learning/sonnets.txt\n",
            "Resolving raw.githubusercontent.com (raw.githubusercontent.com)... 185.199.108.133, 185.199.109.133, 185.199.110.133, ...\n",
            "Connecting to raw.githubusercontent.com (raw.githubusercontent.com)|185.199.108.133|:443... connected.\n",
            "HTTP request sent, awaiting response... 200 OK\n",
            "Length: 119748 (117K) [text/plain]\n",
            "Saving to: ‘sonnets.txt’\n",
            "\n",
            "\rsonnets.txt           0%[                    ]       0  --.-KB/s               \rsonnets.txt         100%[===================>] 116.94K  --.-KB/s    in 0.02s   \n",
            "\n",
            "2022-12-22 21:09:57 (5.38 MB/s) - ‘sonnets.txt’ saved [119748/119748]\n",
            "\n"
          ]
        }
      ],
      "source": [
        "if not os.path.exists('sonnets.txt'):\n",
        "    !wget https://raw.githubusercontent.com/girafe-ai/ml-course/22f_basic/homeworks/lab02_deep_learning/sonnets.txt\n",
        "\n",
        "with open('sonnets.txt', 'r') as iofile:\n",
        "    text = iofile.readlines()\n",
        "    \n",
        "TEXT_START = 45\n",
        "TEXT_END = -368\n",
        "text = text[TEXT_START : TEXT_END]\n",
        "assert len(text) == 2616"
      ]
    },
    {
      "cell_type": "markdown",
      "metadata": {
        "id": "9NjWUWK5jx18"
      },
      "source": [
        "In opposite to the in-class practice, this time we want to predict complex text. Let's reduce the complexity of the task and lowercase all the symbols.\n",
        "\n",
        "Now variable `text` is a list of strings. Join all the strings into one and lowercase it."
      ]
    },
    {
      "cell_type": "code",
      "execution_count": 4,
      "metadata": {
        "id": "SEeJc3wQjx1-",
        "colab": {
          "base_uri": "https://localhost:8080/"
        },
        "outputId": "0c70b5bb-07a3-4346-9e90-0235e2202d3e"
      },
      "outputs": [
        {
          "output_type": "stream",
          "name": "stdout",
          "text": [
            "OK!\n"
          ]
        }
      ],
      "source": [
        "# Join all the strings into one and lowercase it\n",
        "# Put result into variable text.\n",
        "\n",
        "# Your great code here\n",
        "text = \"\".join(text).lower()\n",
        "assert len(text) == 100225, 'Are you sure you have concatenated all the strings?'\n",
        "assert not any([x in set(text) for x in string.ascii_uppercase]), 'Uppercase letters are present'\n",
        "print('OK!')"
      ]
    },
    {
      "cell_type": "markdown",
      "metadata": {
        "id": "xjFBa26gjx2A"
      },
      "source": [
        "### Data loading: \"Евгений Онегин\"\n"
      ]
    },
    {
      "cell_type": "code",
      "execution_count": 3,
      "metadata": {
        "id": "Ihj8EeDKjx2B"
      },
      "outputs": [],
      "source": [
        "#!wget https://raw.githubusercontent.com/attatrol/data_sources/master/onegin.txt\n",
        "    \n",
        "#with open('onegin.txt', 'r') as iofile:\n",
        "#    text = iofile.readlines()\n",
        "    \n",
        "#text = [x.replace('\\t\\t', '') for x in text]"
      ]
    },
    {
      "cell_type": "markdown",
      "metadata": {
        "id": "KnzuoLDZjx2E"
      },
      "source": [
        "In opposite to the in-class practice, this time we want to predict complex text. Let's reduce the complexity of the task and lowercase all the symbols.\n",
        "\n",
        "Now variable `text` is a list of strings. Join all the strings into one and lowercase it."
      ]
    },
    {
      "cell_type": "code",
      "execution_count": 5,
      "metadata": {
        "id": "uoQh5Yjyjx2G"
      },
      "outputs": [],
      "source": [
        "# Join all the strings into one and lowercase it\n",
        "# Put result into variable text.\n",
        "\n",
        "# Your great code here\n",
        "def getwords(text):\n",
        "    lines = text.split('\\n')\n",
        "    lines = [line.strip(r'\\\"') for line in lines]\n",
        "    words = ' '.join(lines).split()\n",
        "\n",
        "    punct = set(string.punctuation)\n",
        "    words = [''.join([char for char in list(word) if char not in punct]) for word in words]\n",
        "\n",
        "    return words\n",
        "\n",
        "text = \"\".join(text).lower()\n",
        "words = getwords(text)\n",
        "wordfreq = Counter(words)\n",
        "tokens = sorted(wordfreq, key=wordfreq.get)\n",
        "num_tokens = len(tokens)"
      ]
    },
    {
      "cell_type": "markdown",
      "metadata": {
        "id": "LnccIWnPjx2H"
      },
      "source": [
        "Put all the characters, that you've seen in the text, into variable `tokens`."
      ]
    },
    {
      "cell_type": "code",
      "execution_count": 6,
      "metadata": {
        "id": "ExrnVPiVjx2H"
      },
      "outputs": [],
      "source": [
        "#tokens = sorted(set(out))"
      ]
    },
    {
      "cell_type": "markdown",
      "metadata": {
        "id": "bW1iyluljx2I"
      },
      "source": [
        "Create dictionary `token_to_idx = {<char>: <index>}` and dictionary `idx_to_token = {<index>: <char>}`"
      ]
    },
    {
      "cell_type": "code",
      "execution_count": 7,
      "metadata": {
        "collapsed": true,
        "id": "OBxcg20wjx2J"
      },
      "outputs": [],
      "source": [
        "# dict <index>:<char>\n",
        "# Your great code here\n",
        "idx2token = {i:j for i,j in enumerate(tokens)}\n",
        "token2idx = {i:j for j,i in idx2token.items()}\n",
        "# dict <char>:<index>\n",
        "# Your great code here\n",
        "batch_size = 16\n",
        "seq_size = 32\n",
        "gradients_norm = 5\n",
        "device = torch.device('cuda' if torch.cuda.is_available() else 'cpu')"
      ]
    },
    {
      "cell_type": "markdown",
      "metadata": {
        "id": "g-uBm2d4jx2J"
      },
      "source": [
        "*Comment: in this task we have only 38 different tokens, so let's use one-hot encoding.*"
      ]
    },
    {
      "cell_type": "markdown",
      "metadata": {
        "id": "0R_cAGYxjx2K"
      },
      "source": [
        "### Building the model"
      ]
    },
    {
      "cell_type": "markdown",
      "metadata": {
        "id": "anb-dbDEjx2K"
      },
      "source": [
        "Now we want to build and train recurrent neural net which would be able to something similar to Shakespeare's poetry.\n",
        "\n",
        "Let's use vanilla RNN, similar to the one created during the lesson."
      ]
    },
    {
      "cell_type": "code",
      "execution_count": 8,
      "metadata": {
        "collapsed": true,
        "id": "KRe71zsIjx2L"
      },
      "outputs": [],
      "source": [
        "# Your code here\n",
        "class rnn_net(nn.Module):\n",
        "    def __init__(self, n_vocab, embedding_size=64, rnn_size=64):\n",
        "        super(rnn_net, self).__init__()\n",
        "        self.rnn_size = rnn_size\n",
        "\n",
        "        self.embedding = nn.Embedding(n_vocab, embedding_size)\n",
        "        self.lstm = nn.RNN(embedding_size, rnn_size, batch_first=True)\n",
        "        self.dense = nn.Linear(rnn_size, n_vocab)\n",
        "        \n",
        "    def forward(self, x, prev_state):\n",
        "        embed = self.embedding(x)\n",
        "        output, state = self.lstm(embed, prev_state)\n",
        "        logits = self.dense(output)\n",
        "\n",
        "        return logits, state\n",
        "    \n",
        "    def zero_state(self, batch_size):\n",
        "        return (torch.zeros(1, batch_size, self.rnn_size))\n",
        "\n",
        "def get_batches(words, token2idx, batch_size, seq_size):\n",
        "    word_ints = [token2idx[word] for word in words]\n",
        "    num_batches = int(len(word_ints) / (batch_size * seq_size))\n",
        "    Xs = word_ints[:num_batches*batch_size*seq_size]\n",
        "    Ys = np.zeros_like(Xs)\n",
        "    Ys[:-1] = Xs[1:]\n",
        "    Ys[-1] = Xs[0]\n",
        "    Xs = np.reshape(Xs, (num_batches*batch_size, seq_size))\n",
        "    Ys= np.reshape(Ys, (num_batches*batch_size, seq_size))\n",
        "    \n",
        "    for i in range(0, num_batches*batch_size, batch_size):\n",
        "        yield Xs[i:i+batch_size, :], Ys[i:i+batch_size, :]\n",
        "\n",
        "def plt1(loss):\n",
        "    plt.figure(figsize = (10 , 10))\n",
        "    plt.xlabel(\"Epoch\")\n",
        "    plt.ylabel(\"Loss\")\n",
        "\n",
        "    plt.plot(np.arange(len(loss)) + 1, loss, label=\"Training loss\")"
      ]
    },
    {
      "cell_type": "markdown",
      "metadata": {
        "id": "bFme8pTdjx2M"
      },
      "source": [
        "Plot the loss function (axis X: number of epochs, axis Y: loss function)."
      ]
    },
    {
      "cell_type": "code",
      "execution_count": 9,
      "metadata": {
        "collapsed": true,
        "id": "Yuk4rkmqjx2M"
      },
      "outputs": [],
      "source": [
        "# Your plot code here\n",
        "def train_rnn(net, words, vocab_to_int, int_to_vocab, n_vocab, n_epoch):\n",
        "    net = net.to(device)\n",
        "    net.train()\n",
        "\n",
        "    criterion = nn.CrossEntropyLoss()\n",
        "    optimizer = torch.optim.Adam(net.parameters(), lr=0.01)\n",
        "\n",
        "    loss_train = []\n",
        "    \n",
        "    for epoch in tqdm(range(n_epoch)):\n",
        "        batches = get_batches(words, vocab_to_int, batch_size, seq_size)\n",
        "        state_h = net.zero_state(batch_size)\n",
        "\n",
        "        state_h = state_h.to(device)\n",
        "        for x, y in batches:\n",
        "            x = torch.tensor(x).to(device)\n",
        "            y = torch.tensor(y).to(device)\n",
        "\n",
        "            optimizer.zero_grad()\n",
        "\n",
        "            logits, state_h = net(x, state_h)\n",
        "            loss = criterion(logits.transpose(1, 2), y)\n",
        "\n",
        "            state_h = state_h.detach()\n",
        "\n",
        "            loss_value = loss.item()\n",
        "            loss_train.append(loss_value)\n",
        "\n",
        "            loss.backward()            \n",
        "            optimizer.step()\n",
        "\n",
        "        print(f\"Epoch: {epoch}; Loss: {loss_value}\")\n",
        "\n",
        "    return loss_train\n",
        "\n",
        "\n",
        "def train_lstm(net, words, vocab_to_int, int_to_vocab, n_vocab, n_epoch):\n",
        "    net = net.to(device)\n",
        "    net.train()\n",
        "    criterion = nn.CrossEntropyLoss()\n",
        "    optimizer = torch.optim.Adam(net.parameters(), lr=0.01)\n",
        "    loss_train = []\n",
        "    for epoch in tqdm(range(n_epoch)):\n",
        "        batches = get_batches(words, vocab_to_int, batch_size, seq_size)\n",
        "        state_h, state_c = net.zero_state(batch_size)\n",
        "        state_h = state_h.to(device)\n",
        "        state_c = state_h.to(device)\n",
        "        for x, y in batches:\n",
        "            x = torch.tensor(x).to(device)\n",
        "            y = torch.tensor(y).to(device)\n",
        "            optimizer.zero_grad()\n",
        "            logits, (state_h, state_c) = net(x, (state_h, state_c))\n",
        "            loss = criterion(logits.transpose(1, 2), y)\n",
        "            state_h = state_h.detach()\n",
        "            state_c = state_h.detach()\n",
        "            loss_value = loss.item()\n",
        "            loss_train.append(loss_value)\n",
        "            loss.backward()\n",
        "            optimizer.step()\n",
        "        print(\"Epoch: \",end='')\n",
        "        print(epoch, end='    ')\n",
        "        print(\"Loss: \", end='')\n",
        "        print(loss_value)\n",
        "\n",
        "    return loss_train"
      ]
    },
    {
      "cell_type": "code",
      "source": [
        "rnn_model = rnn_net(num_tokens)\n",
        "loss = train_rnn(rnn_model, words, token2idx, idx2token, num_tokens, 50)"
      ],
      "metadata": {
        "id": "AWraKcIklM2Q",
        "outputId": "51399dd4-ebe3-448c-c8bb-4d8917ce62b5",
        "colab": {
          "base_uri": "https://localhost:8080/",
          "height": 947,
          "referenced_widgets": [
            "ea2b8805b6154a888e96630fd7ae50f7",
            "a70231322aa443e7950b22fa736e457d",
            "6ddcd7a2a5b446a08d8794de4db77baa",
            "7eae1f9e7f7847a89764523a1eb4bd8a",
            "e1c4c09d6a9642e89e2e7d7f222a9886",
            "d9f0c4b66a1a47ab83101b287729cd02",
            "bcc61439008942fe95ab2e71bac370e6",
            "b226f6834812465281074f3370e3957d",
            "0a5f08713fbd4f80b7d27893f689244c",
            "a92d08caf8bb44f7ba873f3b7c9b2632",
            "93046472e5684c26ac0a535423b3e164"
          ]
        }
      },
      "execution_count": 10,
      "outputs": [
        {
          "output_type": "display_data",
          "data": {
            "text/plain": [
              "  0%|          | 0/50 [00:00<?, ?it/s]"
            ],
            "application/vnd.jupyter.widget-view+json": {
              "version_major": 2,
              "version_minor": 0,
              "model_id": "ea2b8805b6154a888e96630fd7ae50f7"
            }
          },
          "metadata": {}
        },
        {
          "output_type": "stream",
          "name": "stdout",
          "text": [
            "Epoch: 0; Loss: 6.4526872634887695\n",
            "Epoch: 1; Loss: 6.082369327545166\n",
            "Epoch: 2; Loss: 5.81041955947876\n",
            "Epoch: 3; Loss: 5.321423530578613\n",
            "Epoch: 4; Loss: 4.963075637817383\n",
            "Epoch: 5; Loss: 4.623961925506592\n",
            "Epoch: 6; Loss: 4.35530424118042\n",
            "Epoch: 7; Loss: 4.105906963348389\n",
            "Epoch: 8; Loss: 3.8681674003601074\n",
            "Epoch: 9; Loss: 3.651679277420044\n",
            "Epoch: 10; Loss: 3.4795055389404297\n",
            "Epoch: 11; Loss: 3.313277244567871\n",
            "Epoch: 12; Loss: 3.1843061447143555\n",
            "Epoch: 13; Loss: 3.0526063442230225\n",
            "Epoch: 14; Loss: 2.9075467586517334\n",
            "Epoch: 15; Loss: 2.7502331733703613\n",
            "Epoch: 16; Loss: 2.6674740314483643\n",
            "Epoch: 17; Loss: 2.5719141960144043\n",
            "Epoch: 18; Loss: 2.4914212226867676\n",
            "Epoch: 19; Loss: 2.401137590408325\n",
            "Epoch: 20; Loss: 2.352701425552368\n",
            "Epoch: 21; Loss: 2.284087896347046\n",
            "Epoch: 22; Loss: 2.229673147201538\n",
            "Epoch: 23; Loss: 2.18222975730896\n",
            "Epoch: 24; Loss: 2.0916266441345215\n",
            "Epoch: 25; Loss: 2.0774643421173096\n",
            "Epoch: 26; Loss: 2.0452330112457275\n",
            "Epoch: 27; Loss: 1.979723334312439\n",
            "Epoch: 28; Loss: 1.9538642168045044\n",
            "Epoch: 29; Loss: 1.899893045425415\n",
            "Epoch: 30; Loss: 1.828629732131958\n",
            "Epoch: 31; Loss: 1.8230623006820679\n",
            "Epoch: 32; Loss: 1.7604607343673706\n",
            "Epoch: 33; Loss: 1.741935133934021\n",
            "Epoch: 34; Loss: 1.7702029943466187\n",
            "Epoch: 35; Loss: 1.7152327299118042\n",
            "Epoch: 36; Loss: 1.6657938957214355\n",
            "Epoch: 37; Loss: 1.6932586431503296\n",
            "Epoch: 38; Loss: 1.6126130819320679\n",
            "Epoch: 39; Loss: 1.6226727962493896\n",
            "Epoch: 40; Loss: 1.6206177473068237\n",
            "Epoch: 41; Loss: 1.5588825941085815\n",
            "Epoch: 42; Loss: 1.6007777452468872\n",
            "Epoch: 43; Loss: 1.5489451885223389\n",
            "Epoch: 44; Loss: 1.5629607439041138\n",
            "Epoch: 45; Loss: 1.5448969602584839\n",
            "Epoch: 46; Loss: 1.4981598854064941\n",
            "Epoch: 47; Loss: 1.5006465911865234\n",
            "Epoch: 48; Loss: 1.474374532699585\n",
            "Epoch: 49; Loss: 1.4619026184082031\n"
          ]
        }
      ]
    },
    {
      "cell_type": "code",
      "source": [
        "plt1(loss)"
      ],
      "metadata": {
        "id": "eDa0yXGomPgy",
        "outputId": "b904a6d1-3d37-40dc-e9d3-049bc1a124bd",
        "colab": {
          "base_uri": "https://localhost:8080/",
          "height": 606
        }
      },
      "execution_count": 11,
      "outputs": [
        {
          "output_type": "display_data",
          "data": {
            "text/plain": [
              "<Figure size 720x720 with 1 Axes>"
            ],
            "image/png": "[encoded data removed]"
          },
          "metadata": {
            "needs_background": "light"
          }
        }
      ]
    },
    {
      "cell_type": "code",
      "execution_count": 12,
      "metadata": {
        "id": "hXyodycRjx2N"
      },
      "outputs": [],
      "source": [
        "import torch.nn.functional as F\n",
        "\n",
        "MAX_LENGTH  = 128\n",
        "def generate_sample_rnn(char_rnn, seed_phrase=['hello'], max_length=MAX_LENGTH, temperature=1.0, token2idx=token2idx, idx2token=idx2token):\n",
        "    '''\n",
        "    ### Disclaimer: this is an example function for text generation.\n",
        "    ### You can either adapt it in your code or create your own function\n",
        "    \n",
        "    The function generates text given a phrase of length at least SEQ_LENGTH.\n",
        "    :param seed_phrase: prefix characters. The RNN is asked to continue the phrase\n",
        "    :param max_length: maximum output length, including seed_phrase\n",
        "    :param temperature: coefficient for sampling.  higher temperature produces more chaotic outputs, \n",
        "        smaller temperature converges to the single most likely output.\n",
        "        \n",
        "    Be careful with the model output. This model waits logits (not probabilities/log-probabilities)\n",
        "    of the next symbol.\n",
        "    '''\n",
        "    char_rnn.eval()\n",
        "    x_sequence = [token2idx[token] for token in seed_phrase]\n",
        "    x_sequence = torch.tensor([x_sequence], dtype=torch.int64)\n",
        "    hid_state = char_rnn.zero_state(1)\n",
        "    #feed the seed phrase, if any\n",
        "    for i in range(len(seed_phrase) - 1):\n",
        "        out, hid_state = char_rnn(x_sequence, hid_state)\n",
        "    #start generating\n",
        "    for i in range(max_length - len(seed_phrase)):\n",
        "        out, hid_state = char_rnn(x_sequence, hid_state)\n",
        "        p_next = F.softmax(out / temperature, dim=-1).data.numpy()[0][-1]\n",
        "\n",
        "        next_ix = np.random.choice(len(idx2token), p=p_next)\n",
        "        next_ix = torch.tensor([[next_ix]], dtype=torch.int64)\n",
        "\n",
        "        x_sequence = torch.cat([x_sequence, next_ix], dim=1)\n",
        "        \n",
        "    return ' '.join([idx2token[ix] for ix in x_sequence.data.numpy()[0]])"
      ]
    },
    {
      "cell_type": "code",
      "execution_count": 13,
      "metadata": {
        "id": "tu3fhfByjx2N",
        "outputId": "0e2a699a-a569-4774-f339-a6b02aeb6cee",
        "colab": {
          "base_uri": "https://localhost:8080/"
        }
      },
      "outputs": [
        {
          "output_type": "stream",
          "name": "stdout",
          "text": [
            "that thereby beautys dead than it till action lust is perjurd murderous\n"
          ]
        }
      ],
      "source": [
        "generated_text = generate_sample_rnn(rnn_model, seed_phrase=['that', 'thereby'], max_length=12, temperature=0.2)\n",
        "print(generated_text)"
      ]
    },
    {
      "cell_type": "markdown",
      "metadata": {
        "id": "uIXvm42Zjx2O"
      },
      "source": [
        "### More poetic model\n",
        "\n",
        "Let's use LSTM instead of vanilla RNN and compare the results."
      ]
    },
    {
      "cell_type": "markdown",
      "metadata": {
        "id": "ZYvMtsAejx2O"
      },
      "source": [
        "Plot the loss function of the number of epochs. Does the final loss become better?"
      ]
    },
    {
      "cell_type": "code",
      "execution_count": 15,
      "metadata": {
        "collapsed": true,
        "id": "VInCRY69jx2O"
      },
      "outputs": [],
      "source": [
        "# Your beautiful code here\n",
        "class lstm_net(nn.Module):\n",
        "    def __init__(self, n_vocab, embedding_size=64, lstm_size=64):\n",
        "        super(lstm_net, self).__init__()\n",
        "        self.lstm_size = lstm_size\n",
        "\n",
        "        self.embedding = nn.Embedding(n_vocab, embedding_size)\n",
        "        self.lstm = nn.LSTM(embedding_size, lstm_size, batch_first=True)\n",
        "        self.dense = nn.Linear(lstm_size, n_vocab)\n",
        "        \n",
        "    def forward(self, x, prev_state):\n",
        "        embed = self.embedding(x)\n",
        "        output, state = self.lstm(embed, prev_state)\n",
        "        logits = self.dense(output)\n",
        "\n",
        "        return logits, state\n",
        "    \n",
        "    def zero_state(self, batch_size):\n",
        "        return (torch.zeros(1, batch_size, self.lstm_size),torch.zeros(1, batch_size, self.lstm_size))\n",
        "\n",
        "def train_lstm(net, words, vocab_to_int, int_to_vocab, n_vocab, n_epoch):\n",
        "    net = net.to(device)\n",
        "    net.train()\n",
        "    criterion = nn.CrossEntropyLoss()\n",
        "    optimizer = torch.optim.Adam(net.parameters(), lr=0.01)\n",
        "    loss_train = []\n",
        "    for epoch in tqdm(range(n_epoch)):\n",
        "        batches = get_batches(words, vocab_to_int, batch_size, seq_size)\n",
        "        state_h, state_c = net.zero_state(batch_size)\n",
        "        state_h = state_h.to(device)\n",
        "        state_c = state_h.to(device)\n",
        "        for x, y in batches:\n",
        "            x = torch.tensor(x).to(device)\n",
        "            y = torch.tensor(y).to(device)\n",
        "            optimizer.zero_grad()\n",
        "            logits, (state_h, state_c) = net(x, (state_h, state_c))\n",
        "            loss = criterion(logits.transpose(1, 2), y)\n",
        "            state_h = state_h.detach()\n",
        "            state_c = state_h.detach()\n",
        "            loss_value = loss.item()\n",
        "            loss_train.append(loss_value)\n",
        "            loss.backward()\n",
        "            optimizer.step()\n",
        "        print(\"Epoch: \",end='')\n",
        "        print(epoch, end='    ')\n",
        "        print(\"Loss: \", end='')\n",
        "        print(loss_value)\n",
        "\n",
        "    return loss_train"
      ]
    },
    {
      "cell_type": "markdown",
      "metadata": {
        "id": "XINt1U3rjx2O"
      },
      "source": [
        "Generate text using the trained net with different `temperature` parameter: `[0.1, 0.2, 0.5, 1.0, 2.0]`.\n",
        "\n",
        "Evaluate the results visually, try to interpret them."
      ]
    },
    {
      "cell_type": "code",
      "execution_count": 16,
      "metadata": {
        "collapsed": true,
        "id": "5kJ6-8IAjx2O",
        "outputId": "54144be4-a825-46d8-c8a4-13362d72f550",
        "colab": {
          "base_uri": "https://localhost:8080/",
          "height": 1000,
          "referenced_widgets": [
            "090b6e27362c43c1a3fc58e2619ebdf4",
            "43ed0ad0a92a44ecbcc2223c4676e942",
            "1fc174f1f4f34b04a879c82863c0a573",
            "2c8bbd93f6a642b9beaf5028e2a1bde8",
            "1332a387f9f9414a91a5b6f74f8b7ae8",
            "053021816a5142cb8fdcd2874be440aa",
            "ae7849d0a6074553955bf3eb6bedcbb8",
            "fee512f485b641db80fb39812cc838f5",
            "e16bec132f9149f3beb8e98bdead93a4",
            "1fa77bb5db454b71a26cfddcd8dc0fc3",
            "b0d3887bda2b4002b014b376d6d4bfef"
          ]
        }
      },
      "outputs": [
        {
          "output_type": "display_data",
          "data": {
            "text/plain": [
              "  0%|          | 0/50 [00:00<?, ?it/s]"
            ],
            "application/vnd.jupyter.widget-view+json": {
              "version_major": 2,
              "version_minor": 0,
              "model_id": "090b6e27362c43c1a3fc58e2619ebdf4"
            }
          },
          "metadata": {}
        },
        {
          "output_type": "stream",
          "name": "stdout",
          "text": [
            "Epoch: 0    Loss: 6.490934371948242\n",
            "Epoch: 1    Loss: 6.061708927154541\n",
            "Epoch: 2    Loss: 5.742954730987549\n",
            "Epoch: 3    Loss: 5.359627723693848\n",
            "Epoch: 4    Loss: 5.019311904907227\n",
            "Epoch: 5    Loss: 4.712514400482178\n",
            "Epoch: 6    Loss: 4.433455467224121\n",
            "Epoch: 7    Loss: 4.175004482269287\n",
            "Epoch: 8    Loss: 3.969343423843384\n",
            "Epoch: 9    Loss: 3.7887823581695557\n",
            "Epoch: 10    Loss: 3.598344087600708\n",
            "Epoch: 11    Loss: 3.4576098918914795\n",
            "Epoch: 12    Loss: 3.292614221572876\n",
            "Epoch: 13    Loss: 3.1436574459075928\n",
            "Epoch: 14    Loss: 3.0166263580322266\n",
            "Epoch: 15    Loss: 2.8749337196350098\n",
            "Epoch: 16    Loss: 2.744932174682617\n",
            "Epoch: 17    Loss: 2.63083553314209\n",
            "Epoch: 18    Loss: 2.5388123989105225\n",
            "Epoch: 19    Loss: 2.4388058185577393\n",
            "Epoch: 20    Loss: 2.333564043045044\n",
            "Epoch: 21    Loss: 2.2371103763580322\n",
            "Epoch: 22    Loss: 2.1577725410461426\n",
            "Epoch: 23    Loss: 2.047550678253174\n",
            "Epoch: 24    Loss: 2.011030912399292\n",
            "Epoch: 25    Loss: 1.9480853080749512\n",
            "Epoch: 26    Loss: 1.8407903909683228\n",
            "Epoch: 27    Loss: 1.783332347869873\n",
            "Epoch: 28    Loss: 1.7131167650222778\n",
            "Epoch: 29    Loss: 1.600858211517334\n",
            "Epoch: 30    Loss: 1.5244295597076416\n",
            "Epoch: 31    Loss: 1.477645754814148\n",
            "Epoch: 32    Loss: 1.4174185991287231\n",
            "Epoch: 33    Loss: 1.384194016456604\n",
            "Epoch: 34    Loss: 1.337544322013855\n",
            "Epoch: 35    Loss: 1.2968487739562988\n",
            "Epoch: 36    Loss: 1.229886531829834\n",
            "Epoch: 37    Loss: 1.183105707168579\n",
            "Epoch: 38    Loss: 1.1243091821670532\n",
            "Epoch: 39    Loss: 1.0694787502288818\n",
            "Epoch: 40    Loss: 1.0480397939682007\n",
            "Epoch: 41    Loss: 0.9887630343437195\n",
            "Epoch: 42    Loss: 0.9364840984344482\n",
            "Epoch: 43    Loss: 0.8905094861984253\n",
            "Epoch: 44    Loss: 0.8665405511856079\n",
            "Epoch: 45    Loss: 0.8135946989059448\n",
            "Epoch: 46    Loss: 0.7761505842208862\n",
            "Epoch: 47    Loss: 0.7469679117202759\n",
            "Epoch: 48    Loss: 0.721506655216217\n",
            "Epoch: 49    Loss: 0.7136089205741882\n",
            "temperature = 0.1\n",
            "that thereby be it not said thy edge should blunter be but not my love of thine and what ist but by you have i not seen dwellers on form and favour lose all my best is thy love is in my madness might speak ill of thy worth with\n",
            "\n",
            "\n",
            "temperature = 0.2\n",
            "that thereby use of thee the lesser sin that mine eye is thine and wretched minutes kill yet fear the keen teeth from thy beauty being that thy love as rare as i true love thou usest but yet it fears thus far i am not lame poor nor despisd\n",
            "\n",
            "\n",
            "temperature = 0.5\n",
            "that thereby thou the lions paws and make for how a better spirit doth in their badness reign cxxii thy gift thy show my wellcontented day when in my verse loves old age black as the way when your countenance filld up his own hand painted hast thou the master\n",
            "\n",
            "\n",
            "temperature = 1.0\n",
            "that thereby first my thought had her breasts all my loves might uphold against the stormy gusts of must be stoln then need i hope some in their garments though newfangled ill some interest and thou to what sweets dost thou mayst in that bosom sits that on himself such\n",
            "\n",
            "\n",
            "temperature = 2.0\n",
            "that thereby be loves this evil themselves grow cxvi first all xl of thy sport cannot dispraise but dispatch but name his might too quick detain then releasing my verse is contents so mark shall change though making print more beautys pain though in they truth and eyes till unless\n",
            "\n",
            "\n"
          ]
        },
        {
          "output_type": "display_data",
          "data": {
            "text/plain": [
              "<Figure size 720x720 with 1 Axes>"
            ],
            "image/png": "[encoded data removed]"
          },
          "metadata": {
            "needs_background": "light"
          }
        }
      ],
      "source": [
        "# Text generation with different temperature values here\n",
        "def generate_sample_lstm(char_rnn, seed_phrase=['hello'], max_length=MAX_LENGTH, temperature=1.0, token2idx=token2idx, idx2token=idx2token):\n",
        "    '''\n",
        "    ### Disclaimer: this is an example function for text generation.\n",
        "    ### You can either adapt it in your code or create your own function\n",
        "    \n",
        "    The function generates text given a phrase of length at least SEQ_LENGTH.\n",
        "    :param seed_phrase: prefix characters. The RNN is asked to continue the phrase\n",
        "    :param max_length: maximum output length, including seed_phrase\n",
        "    :param temperature: coefficient for sampling.  higher temperature produces more chaotic outputs, \n",
        "        smaller temperature converges to the single most likely output.\n",
        "        \n",
        "    Be careful with the model output. This model waits logits (not probabilities/log-probabilities)\n",
        "    of the next symbol.\n",
        "    '''\n",
        "    char_rnn.eval()\n",
        "    x_sequence = [token2idx[token] for token in seed_phrase]\n",
        "    x_sequence = torch.tensor([x_sequence], dtype=torch.int64)\n",
        "    (hid_state_h, hid_state_c) = char_rnn.zero_state(1)\n",
        "\n",
        "    #feed the seed phrase, if any\n",
        "    for i in range(len(seed_phrase) - 1):\n",
        "        out, (hid_state_h, hid_state_c)  = char_rnn(x_sequence, (hid_state_h, hid_state_c))\n",
        "    #start generating\n",
        "    for _ in range(max_length - len(seed_phrase)):\n",
        "        out, (hid_state_h, hid_state_c) = char_rnn(x_sequence, (hid_state_h, hid_state_c))\n",
        "        p_next = F.softmax(out / temperature, dim=-1).data.numpy()[0][-1]\n",
        "\n",
        "        next_ix = np.random.choice(len(idx2token), p=p_next)\n",
        "        next_ix = torch.tensor([[next_ix]], dtype=torch.int64)\n",
        "\n",
        "        x_sequence = torch.cat([x_sequence, next_ix], dim=1)\n",
        "        \n",
        "    return ' '.join([idx2token[ix] for ix in x_sequence.data.numpy()[0]])\n",
        "lstm_model = lstm_net(num_tokens)\n",
        "loss = train_lstm(lstm_model, words, token2idx, idx2token, num_tokens, 50)\n",
        "plt1(loss)\n",
        "generate_sample_lstm(lstm_model, seed_phrase=['that', 'thereby'], max_length=12, temperature=0.2)\n",
        "temperatures = [0.1, 0.2, 0.5, 1.0, 2.0]\n",
        "seeds = [['that', 'thereby'], ['that', 'thereby'], ['that', 'thereby'], ['that', 'thereby'], ['that', 'thereby']]\n",
        "def make_temperature_test(model, temperatures, seeds, lngth=50):\n",
        "    for temp, seed in zip(temperatures, seeds):\n",
        "         print(f\"temperature = {temp}\")\n",
        "         print(generate_sample_lstm(model, seed_phrase=seed, max_length=lngth, temperature=temp))\n",
        "         print(\"\\n\")\n",
        "\n",
        "make_temperature_test(lstm_model, temperatures, seeds)"
      ]
    },
    {
      "cell_type": "markdown",
      "metadata": {
        "id": "gEI3wgRAjx2P"
      },
      "source": [
        "### Saving and loading models"
      ]
    },
    {
      "cell_type": "markdown",
      "metadata": {
        "id": "rRRNSyI8jx2P"
      },
      "source": [
        "Save the model to the disk, then load it and generate text. Examples are available [here](https://pytorch.org/tutorials/beginner/saving_loading_models.html])."
      ]
    },
    {
      "cell_type": "code",
      "execution_count": 17,
      "metadata": {
        "collapsed": true,
        "id": "yckJeCJwjx2P",
        "outputId": "6a600f94-5fd9-4ba9-b129-99e105c2e757",
        "colab": {
          "base_uri": "https://localhost:8080/"
        }
      },
      "outputs": [
        {
          "output_type": "stream",
          "name": "stdout",
          "text": [
            "temperature = 0.1\n",
            "that thereby be it not said thy edge should blunter be but not my love of times injurious hand crushd and oerworn when hours have draind his blood to blush through lively veins for she hath no exchequer now with his cheek the earth these rebel powers array why dost\n",
            "\n",
            "\n",
            "temperature = 0.2\n",
            "that thereby be it not said thy edge should blunter be but that i have then my thoughtsfrom far where i abide intend a zealous pilgrimage the greater being i have hoisted sail to all the winds which should transport me farthest from your great deserts repay forgot upon your\n",
            "\n",
            "\n",
            "temperature = 0.5\n",
            "that thereby be it not said thy edge should blunter be but not that the world unbless some say thy fault and i do call my barren rhyme now stand the other in a wondrous excellence those these beauty so thou art assured mine and life no longer than thy\n",
            "\n",
            "\n",
            "temperature = 1.0\n",
            "that thereby rose in thee these blenches from my glory intend a wretchs knife too base of though that i none could see for my possessing and like it ten the just pleasure had are at a poets rage and poets better state is so thy pen thy pictures sight\n",
            "\n",
            "\n",
            "temperature = 2.0\n",
            "that thereby bare mutual more robs it was part so whilst thou survive my body is she beautys saucy rose in thee doth live whose influence worth black new predict that doth times in me alone excuse for largess given itself me enough to tell pointing to other quick beauty\n",
            "\n",
            "\n"
          ]
        }
      ],
      "source": [
        "# Saving and loading code here\n",
        "torch.save(lstm_model, \"./lstm_model\")\n",
        "model_load = torch.load(\"./lstm_model\")\n",
        "make_temperature_test(model_load, temperatures, seeds)"
      ]
    },
    {
      "cell_type": "markdown",
      "metadata": {
        "id": "FSw_BXCXjx2P"
      },
      "source": [
        "### References\n",
        "1. <a href='http://karpathy.github.io/2015/05/21/rnn-effectiveness/'> Andrew Karpathy blog post about RNN. </a> \n",
        "There are several examples of genration: Shakespeare texts, Latex formulas, Linux Sourse Code and children names.\n",
        "2. <a href='https://github.com/karpathy/char-rnn'> Repo with char-rnn code </a>\n",
        "3. Cool repo with PyTorch examples: [link](https://github.com/spro/practical-pytorch`)"
      ]
    }
  ],
  "metadata": {
    "anaconda-cloud": {},
    "kernelspec": {
      "display_name": "Python 3",
      "language": "python",
      "name": "python3"
    },
    "language_info": {
      "codemirror_mode": {
        "name": "ipython",
        "version": 3
      },
      "file_extension": ".py",
      "mimetype": "text/x-python",
      "name": "python",
      "nbconvert_exporter": "python",
      "pygments_lexer": "ipython3",
      "version": "3.7.7"
    },
    "colab": {
      "provenance": [],
      "include_colab_link": true
    },
    "widgets": {
      "application/vnd.jupyter.widget-state+json": {
        "ea2b8805b6154a888e96630fd7ae50f7": {
          "model_module": "@jupyter-widgets/controls",
          "model_name": "HBoxModel",
          "model_module_version": "1.5.0",
          "state": {
            "_dom_classes": [],
            "_model_module": "@jupyter-widgets/controls",
            "_model_module_version": "1.5.0",
            "_model_name": "HBoxModel",
            "_view_count": null,
            "_view_module": "@jupyter-widgets/controls",
            "_view_module_version": "1.5.0",
            "_view_name": "HBoxView",
            "box_style": "",
            "children": [
              "IPY_MODEL_a70231322aa443e7950b22fa736e457d",
              "IPY_MODEL_6ddcd7a2a5b446a08d8794de4db77baa",
              "IPY_MODEL_7eae1f9e7f7847a89764523a1eb4bd8a"
            ],
            "layout": "IPY_MODEL_e1c4c09d6a9642e89e2e7d7f222a9886"
          }
        },
        "a70231322aa443e7950b22fa736e457d": {
          "model_module": "@jupyter-widgets/controls",
          "model_name": "HTMLModel",
          "model_module_version": "1.5.0",
          "state": {
            "_dom_classes": [],
            "_model_module": "@jupyter-widgets/controls",
            "_model_module_version": "1.5.0",
            "_model_name": "HTMLModel",
            "_view_count": null,
            "_view_module": "@jupyter-widgets/controls",
            "_view_module_version": "1.5.0",
            "_view_name": "HTMLView",
            "description": "",
            "description_tooltip": null,
            "layout": "IPY_MODEL_d9f0c4b66a1a47ab83101b287729cd02",
            "placeholder": "​",
            "style": "IPY_MODEL_bcc61439008942fe95ab2e71bac370e6",
            "value": "100%"
          }
        },
        "6ddcd7a2a5b446a08d8794de4db77baa": {
          "model_module": "@jupyter-widgets/controls",
          "model_name": "FloatProgressModel",
          "model_module_version": "1.5.0",
          "state": {
            "_dom_classes": [],
            "_model_module": "@jupyter-widgets/controls",
            "_model_module_version": "1.5.0",
            "_model_name": "FloatProgressModel",
            "_view_count": null,
            "_view_module": "@jupyter-widgets/controls",
            "_view_module_version": "1.5.0",
            "_view_name": "ProgressView",
            "bar_style": "success",
            "description": "",
            "description_tooltip": null,
            "layout": "IPY_MODEL_b226f6834812465281074f3370e3957d",
            "max": 50,
            "min": 0,
            "orientation": "horizontal",
            "style": "IPY_MODEL_0a5f08713fbd4f80b7d27893f689244c",
            "value": 50
          }
        },
        "7eae1f9e7f7847a89764523a1eb4bd8a": {
          "model_module": "@jupyter-widgets/controls",
          "model_name": "HTMLModel",
          "model_module_version": "1.5.0",
          "state": {
            "_dom_classes": [],
            "_model_module": "@jupyter-widgets/controls",
            "_model_module_version": "1.5.0",
            "_model_name": "HTMLModel",
            "_view_count": null,
            "_view_module": "@jupyter-widgets/controls",
            "_view_module_version": "1.5.0",
            "_view_name": "HTMLView",
            "description": "",
            "description_tooltip": null,
            "layout": "IPY_MODEL_a92d08caf8bb44f7ba873f3b7c9b2632",
            "placeholder": "​",
            "style": "IPY_MODEL_93046472e5684c26ac0a535423b3e164",
            "value": " 50/50 [02:08&lt;00:00,  2.45s/it]"
          }
        },
        "e1c4c09d6a9642e89e2e7d7f222a9886": {
          "model_module": "@jupyter-widgets/base",
          "model_name": "LayoutModel",
          "model_module_version": "1.2.0",
          "state": {
            "_model_module": "@jupyter-widgets/base",
            "_model_module_version": "1.2.0",
            "_model_name": "LayoutModel",
            "_view_count": null,
            "_view_module": "@jupyter-widgets/base",
            "_view_module_version": "1.2.0",
            "_view_name": "LayoutView",
            "align_content": null,
            "align_items": null,
            "align_self": null,
            "border": null,
            "bottom": null,
            "display": null,
            "flex": null,
            "flex_flow": null,
            "grid_area": null,
            "grid_auto_columns": null,
            "grid_auto_flow": null,
            "grid_auto_rows": null,
            "grid_column": null,
            "grid_gap": null,
            "grid_row": null,
            "grid_template_areas": null,
            "grid_template_columns": null,
            "grid_template_rows": null,
            "height": null,
            "justify_content": null,
            "justify_items": null,
            "left": null,
            "margin": null,
            "max_height": null,
            "max_width": null,
            "min_height": null,
            "min_width": null,
            "object_fit": null,
            "object_position": null,
            "order": null,
            "overflow": null,
            "overflow_x": null,
            "overflow_y": null,
            "padding": null,
            "right": null,
            "top": null,
            "visibility": null,
            "width": null
          }
        },
        "d9f0c4b66a1a47ab83101b287729cd02": {
          "model_module": "@jupyter-widgets/base",
          "model_name": "LayoutModel",
          "model_module_version": "1.2.0",
          "state": {
            "_model_module": "@jupyter-widgets/base",
            "_model_module_version": "1.2.0",
            "_model_name": "LayoutModel",
            "_view_count": null,
            "_view_module": "@jupyter-widgets/base",
            "_view_module_version": "1.2.0",
            "_view_name": "LayoutView",
            "align_content": null,
            "align_items": null,
            "align_self": null,
            "border": null,
            "bottom": null,
            "display": null,
            "flex": null,
            "flex_flow": null,
            "grid_area": null,
            "grid_auto_columns": null,
            "grid_auto_flow": null,
            "grid_auto_rows": null,
            "grid_column": null,
            "grid_gap": null,
            "grid_row": null,
            "grid_template_areas": null,
            "grid_template_columns": null,
            "grid_template_rows": null,
            "height": null,
            "justify_content": null,
            "justify_items": null,
            "left": null,
            "margin": null,
            "max_height": null,
            "max_width": null,
            "min_height": null,
            "min_width": null,
            "object_fit": null,
            "object_position": null,
            "order": null,
            "overflow": null,
            "overflow_x": null,
            "overflow_y": null,
            "padding": null,
            "right": null,
            "top": null,
            "visibility": null,
            "width": null
          }
        },
        "bcc61439008942fe95ab2e71bac370e6": {
          "model_module": "@jupyter-widgets/controls",
          "model_name": "DescriptionStyleModel",
          "model_module_version": "1.5.0",
          "state": {
            "_model_module": "@jupyter-widgets/controls",
            "_model_module_version": "1.5.0",
            "_model_name": "DescriptionStyleModel",
            "_view_count": null,
            "_view_module": "@jupyter-widgets/base",
            "_view_module_version": "1.2.0",
            "_view_name": "StyleView",
            "description_width": ""
          }
        },
        "b226f6834812465281074f3370e3957d": {
          "model_module": "@jupyter-widgets/base",
          "model_name": "LayoutModel",
          "model_module_version": "1.2.0",
          "state": {
            "_model_module": "@jupyter-widgets/base",
            "_model_module_version": "1.2.0",
            "_model_name": "LayoutModel",
            "_view_count": null,
            "_view_module": "@jupyter-widgets/base",
            "_view_module_version": "1.2.0",
            "_view_name": "LayoutView",
            "align_content": null,
            "align_items": null,
            "align_self": null,
            "border": null,
            "bottom": null,
            "display": null,
            "flex": null,
            "flex_flow": null,
            "grid_area": null,
            "grid_auto_columns": null,
            "grid_auto_flow": null,
            "grid_auto_rows": null,
            "grid_column": null,
            "grid_gap": null,
            "grid_row": null,
            "grid_template_areas": null,
            "grid_template_columns": null,
            "grid_template_rows": null,
            "height": null,
            "justify_content": null,
            "justify_items": null,
            "left": null,
            "margin": null,
            "max_height": null,
            "max_width": null,
            "min_height": null,
            "min_width": null,
            "object_fit": null,
            "object_position": null,
            "order": null,
            "overflow": null,
            "overflow_x": null,
            "overflow_y": null,
            "padding": null,
            "right": null,
            "top": null,
            "visibility": null,
            "width": null
          }
        },
        "0a5f08713fbd4f80b7d27893f689244c": {
          "model_module": "@jupyter-widgets/controls",
          "model_name": "ProgressStyleModel",
          "model_module_version": "1.5.0",
          "state": {
            "_model_module": "@jupyter-widgets/controls",
            "_model_module_version": "1.5.0",
            "_model_name": "ProgressStyleModel",
            "_view_count": null,
            "_view_module": "@jupyter-widgets/base",
            "_view_module_version": "1.2.0",
            "_view_name": "StyleView",
            "bar_color": null,
            "description_width": ""
          }
        },
        "a92d08caf8bb44f7ba873f3b7c9b2632": {
          "model_module": "@jupyter-widgets/base",
          "model_name": "LayoutModel",
          "model_module_version": "1.2.0",
          "state": {
            "_model_module": "@jupyter-widgets/base",
            "_model_module_version": "1.2.0",
            "_model_name": "LayoutModel",
            "_view_count": null,
            "_view_module": "@jupyter-widgets/base",
            "_view_module_version": "1.2.0",
            "_view_name": "LayoutView",
            "align_content": null,
            "align_items": null,
            "align_self": null,
            "border": null,
            "bottom": null,
            "display": null,
            "flex": null,
            "flex_flow": null,
            "grid_area": null,
            "grid_auto_columns": null,
            "grid_auto_flow": null,
            "grid_auto_rows": null,
            "grid_column": null,
            "grid_gap": null,
            "grid_row": null,
            "grid_template_areas": null,
            "grid_template_columns": null,
            "grid_template_rows": null,
            "height": null,
            "justify_content": null,
            "justify_items": null,
            "left": null,
            "margin": null,
            "max_height": null,
            "max_width": null,
            "min_height": null,
            "min_width": null,
            "object_fit": null,
            "object_position": null,
            "order": null,
            "overflow": null,
            "overflow_x": null,
            "overflow_y": null,
            "padding": null,
            "right": null,
            "top": null,
            "visibility": null,
            "width": null
          }
        },
        "93046472e5684c26ac0a535423b3e164": {
          "model_module": "@jupyter-widgets/controls",
          "model_name": "DescriptionStyleModel",
          "model_module_version": "1.5.0",
          "state": {
            "_model_module": "@jupyter-widgets/controls",
            "_model_module_version": "1.5.0",
            "_model_name": "DescriptionStyleModel",
            "_view_count": null,
            "_view_module": "@jupyter-widgets/base",
            "_view_module_version": "1.2.0",
            "_view_name": "StyleView",
            "description_width": ""
          }
        },
        "090b6e27362c43c1a3fc58e2619ebdf4": {
          "model_module": "@jupyter-widgets/controls",
          "model_name": "HBoxModel",
          "model_module_version": "1.5.0",
          "state": {
            "_dom_classes": [],
            "_model_module": "@jupyter-widgets/controls",
            "_model_module_version": "1.5.0",
            "_model_name": "HBoxModel",
            "_view_count": null,
            "_view_module": "@jupyter-widgets/controls",
            "_view_module_version": "1.5.0",
            "_view_name": "HBoxView",
            "box_style": "",
            "children": [
              "IPY_MODEL_43ed0ad0a92a44ecbcc2223c4676e942",
              "IPY_MODEL_1fc174f1f4f34b04a879c82863c0a573",
              "IPY_MODEL_2c8bbd93f6a642b9beaf5028e2a1bde8"
            ],
            "layout": "IPY_MODEL_1332a387f9f9414a91a5b6f74f8b7ae8"
          }
        },
        "43ed0ad0a92a44ecbcc2223c4676e942": {
          "model_module": "@jupyter-widgets/controls",
          "model_name": "HTMLModel",
          "model_module_version": "1.5.0",
          "state": {
            "_dom_classes": [],
            "_model_module": "@jupyter-widgets/controls",
            "_model_module_version": "1.5.0",
            "_model_name": "HTMLModel",
            "_view_count": null,
            "_view_module": "@jupyter-widgets/controls",
            "_view_module_version": "1.5.0",
            "_view_name": "HTMLView",
            "description": "",
            "description_tooltip": null,
            "layout": "IPY_MODEL_053021816a5142cb8fdcd2874be440aa",
            "placeholder": "​",
            "style": "IPY_MODEL_ae7849d0a6074553955bf3eb6bedcbb8",
            "value": "100%"
          }
        },
        "1fc174f1f4f34b04a879c82863c0a573": {
          "model_module": "@jupyter-widgets/controls",
          "model_name": "FloatProgressModel",
          "model_module_version": "1.5.0",
          "state": {
            "_dom_classes": [],
            "_model_module": "@jupyter-widgets/controls",
            "_model_module_version": "1.5.0",
            "_model_name": "FloatProgressModel",
            "_view_count": null,
            "_view_module": "@jupyter-widgets/controls",
            "_view_module_version": "1.5.0",
            "_view_name": "ProgressView",
            "bar_style": "success",
            "description": "",
            "description_tooltip": null,
            "layout": "IPY_MODEL_fee512f485b641db80fb39812cc838f5",
            "max": 50,
            "min": 0,
            "orientation": "horizontal",
            "style": "IPY_MODEL_e16bec132f9149f3beb8e98bdead93a4",
            "value": 50
          }
        },
        "2c8bbd93f6a642b9beaf5028e2a1bde8": {
          "model_module": "@jupyter-widgets/controls",
          "model_name": "HTMLModel",
          "model_module_version": "1.5.0",
          "state": {
            "_dom_classes": [],
            "_model_module": "@jupyter-widgets/controls",
            "_model_module_version": "1.5.0",
            "_model_name": "HTMLModel",
            "_view_count": null,
            "_view_module": "@jupyter-widgets/controls",
            "_view_module_version": "1.5.0",
            "_view_name": "HTMLView",
            "description": "",
            "description_tooltip": null,
            "layout": "IPY_MODEL_1fa77bb5db454b71a26cfddcd8dc0fc3",
            "placeholder": "​",
            "style": "IPY_MODEL_b0d3887bda2b4002b014b376d6d4bfef",
            "value": " 50/50 [02:12&lt;00:00,  2.60s/it]"
          }
        },
        "1332a387f9f9414a91a5b6f74f8b7ae8": {
          "model_module": "@jupyter-widgets/base",
          "model_name": "LayoutModel",
          "model_module_version": "1.2.0",
          "state": {
            "_model_module": "@jupyter-widgets/base",
            "_model_module_version": "1.2.0",
            "_model_name": "LayoutModel",
            "_view_count": null,
            "_view_module": "@jupyter-widgets/base",
            "_view_module_version": "1.2.0",
            "_view_name": "LayoutView",
            "align_content": null,
            "align_items": null,
            "align_self": null,
            "border": null,
            "bottom": null,
            "display": null,
            "flex": null,
            "flex_flow": null,
            "grid_area": null,
            "grid_auto_columns": null,
            "grid_auto_flow": null,
            "grid_auto_rows": null,
            "grid_column": null,
            "grid_gap": null,
            "grid_row": null,
            "grid_template_areas": null,
            "grid_template_columns": null,
            "grid_template_rows": null,
            "height": null,
            "justify_content": null,
            "justify_items": null,
            "left": null,
            "margin": null,
            "max_height": null,
            "max_width": null,
            "min_height": null,
            "min_width": null,
            "object_fit": null,
            "object_position": null,
            "order": null,
            "overflow": null,
            "overflow_x": null,
            "overflow_y": null,
            "padding": null,
            "right": null,
            "top": null,
            "visibility": null,
            "width": null
          }
        },
        "053021816a5142cb8fdcd2874be440aa": {
          "model_module": "@jupyter-widgets/base",
          "model_name": "LayoutModel",
          "model_module_version": "1.2.0",
          "state": {
            "_model_module": "@jupyter-widgets/base",
            "_model_module_version": "1.2.0",
            "_model_name": "LayoutModel",
            "_view_count": null,
            "_view_module": "@jupyter-widgets/base",
            "_view_module_version": "1.2.0",
            "_view_name": "LayoutView",
            "align_content": null,
            "align_items": null,
            "align_self": null,
            "border": null,
            "bottom": null,
            "display": null,
            "flex": null,
            "flex_flow": null,
            "grid_area": null,
            "grid_auto_columns": null,
            "grid_auto_flow": null,
            "grid_auto_rows": null,
            "grid_column": null,
            "grid_gap": null,
            "grid_row": null,
            "grid_template_areas": null,
            "grid_template_columns": null,
            "grid_template_rows": null,
            "height": null,
            "justify_content": null,
            "justify_items": null,
            "left": null,
            "margin": null,
            "max_height": null,
            "max_width": null,
            "min_height": null,
            "min_width": null,
            "object_fit": null,
            "object_position": null,
            "order": null,
            "overflow": null,
            "overflow_x": null,
            "overflow_y": null,
            "padding": null,
            "right": null,
            "top": null,
            "visibility": null,
            "width": null
          }
        },
        "ae7849d0a6074553955bf3eb6bedcbb8": {
          "model_module": "@jupyter-widgets/controls",
          "model_name": "DescriptionStyleModel",
          "model_module_version": "1.5.0",
          "state": {
            "_model_module": "@jupyter-widgets/controls",
            "_model_module_version": "1.5.0",
            "_model_name": "DescriptionStyleModel",
            "_view_count": null,
            "_view_module": "@jupyter-widgets/base",
            "_view_module_version": "1.2.0",
            "_view_name": "StyleView",
            "description_width": ""
          }
        },
        "fee512f485b641db80fb39812cc838f5": {
          "model_module": "@jupyter-widgets/base",
          "model_name": "LayoutModel",
          "model_module_version": "1.2.0",
          "state": {
            "_model_module": "@jupyter-widgets/base",
            "_model_module_version": "1.2.0",
            "_model_name": "LayoutModel",
            "_view_count": null,
            "_view_module": "@jupyter-widgets/base",
            "_view_module_version": "1.2.0",
            "_view_name": "LayoutView",
            "align_content": null,
            "align_items": null,
            "align_self": null,
            "border": null,
            "bottom": null,
            "display": null,
            "flex": null,
            "flex_flow": null,
            "grid_area": null,
            "grid_auto_columns": null,
            "grid_auto_flow": null,
            "grid_auto_rows": null,
            "grid_column": null,
            "grid_gap": null,
            "grid_row": null,
            "grid_template_areas": null,
            "grid_template_columns": null,
            "grid_template_rows": null,
            "height": null,
            "justify_content": null,
            "justify_items": null,
            "left": null,
            "margin": null,
            "max_height": null,
            "max_width": null,
            "min_height": null,
            "min_width": null,
            "object_fit": null,
            "object_position": null,
            "order": null,
            "overflow": null,
            "overflow_x": null,
            "overflow_y": null,
            "padding": null,
            "right": null,
            "top": null,
            "visibility": null,
            "width": null
          }
        },
        "e16bec132f9149f3beb8e98bdead93a4": {
          "model_module": "@jupyter-widgets/controls",
          "model_name": "ProgressStyleModel",
          "model_module_version": "1.5.0",
          "state": {
            "_model_module": "@jupyter-widgets/controls",
            "_model_module_version": "1.5.0",
            "_model_name": "ProgressStyleModel",
            "_view_count": null,
            "_view_module": "@jupyter-widgets/base",
            "_view_module_version": "1.2.0",
            "_view_name": "StyleView",
            "bar_color": null,
            "description_width": ""
          }
        },
        "1fa77bb5db454b71a26cfddcd8dc0fc3": {
          "model_module": "@jupyter-widgets/base",
          "model_name": "LayoutModel",
          "model_module_version": "1.2.0",
          "state": {
            "_model_module": "@jupyter-widgets/base",
            "_model_module_version": "1.2.0",
            "_model_name": "LayoutModel",
            "_view_count": null,
            "_view_module": "@jupyter-widgets/base",
            "_view_module_version": "1.2.0",
            "_view_name": "LayoutView",
            "align_content": null,
            "align_items": null,
            "align_self": null,
            "border": null,
            "bottom": null,
            "display": null,
            "flex": null,
            "flex_flow": null,
            "grid_area": null,
            "grid_auto_columns": null,
            "grid_auto_flow": null,
            "grid_auto_rows": null,
            "grid_column": null,
            "grid_gap": null,
            "grid_row": null,
            "grid_template_areas": null,
            "grid_template_columns": null,
            "grid_template_rows": null,
            "height": null,
            "justify_content": null,
            "justify_items": null,
            "left": null,
            "margin": null,
            "max_height": null,
            "max_width": null,
            "min_height": null,
            "min_width": null,
            "object_fit": null,
            "object_position": null,
            "order": null,
            "overflow": null,
            "overflow_x": null,
            "overflow_y": null,
            "padding": null,
            "right": null,
            "top": null,
            "visibility": null,
            "width": null
          }
        },
        "b0d3887bda2b4002b014b376d6d4bfef": {
          "model_module": "@jupyter-widgets/controls",
          "model_name": "DescriptionStyleModel",
          "model_module_version": "1.5.0",
          "state": {
            "_model_module": "@jupyter-widgets/controls",
            "_model_module_version": "1.5.0",
            "_model_name": "DescriptionStyleModel",
            "_view_count": null,
            "_view_module": "@jupyter-widgets/base",
            "_view_module_version": "1.2.0",
            "_view_name": "StyleView",
            "description_width": ""
          }
        }
      }
    }
  },
  "nbformat": 4,
  "nbformat_minor": 0
}
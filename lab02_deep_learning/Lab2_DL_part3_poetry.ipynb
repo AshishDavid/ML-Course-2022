{
  "cells": [
    {
      "cell_type": "markdown",
      "metadata": {
        "id": "rPNyOT_ejx1r"
      },
      "source": [
        "## Lab 2"
      ]
    },
    {
      "cell_type": "markdown",
      "metadata": {
        "id": "CQvMGpnwjx1y"
      },
      "source": [
        "### Part 3. Poetry generation\n",
        "\n",
        "Let's try to generate some poetry using RNNs. \n",
        "\n",
        "You have several choices here: \n",
        "\n",
        "* The Shakespeare sonnets, file `sonnets.txt` available in the notebook directory.\n",
        "\n",
        "* Роман в стихах \"Евгений Онегин\" Александра Сергеевича Пушкина. В предобработанном виде доступен по [ссылке](https://github.com/attatrol/data_sources/blob/master/onegin.txt).\n",
        "\n",
        "* Some other text source, if it will be approved by the course staff.\n",
        "\n",
        "Text generation can be designed in several steps:\n",
        "    \n",
        "1. Data loading.\n",
        "2. Dictionary generation.\n",
        "3. Data preprocessing.\n",
        "4. Model (neural network) training.\n",
        "5. Text generation (model evaluation).\n"
      ]
    },
    {
      "cell_type": "code",
      "execution_count": 126,
      "metadata": {
        "id": "s7OlYUtJjx11"
      },
      "outputs": [],
      "source": [
        "import string\n",
        "import os\n",
        "import numpy as np\n",
        "import matplotlib.pyplot as plt\n",
        "\n",
        "from tqdm.auto import tqdm\n",
        "\n",
        "import torch\n",
        "import torch.nn as nn\n",
        "\n",
        "from collections import Counter"
      ]
    },
    {
      "cell_type": "markdown",
      "metadata": {
        "id": "emCqbFmujx14"
      },
      "source": [
        "### Data loading: Shakespeare"
      ]
    },
    {
      "cell_type": "markdown",
      "metadata": {
        "id": "KslM_-OWjx15"
      },
      "source": [
        "Shakespeare sonnets are awailable at this [link](http://www.gutenberg.org/ebooks/1041?msg=welcome_stranger). In addition, they are stored in the same directory as this notebook (`sonnetes.txt`). Simple preprocessing is already done for you in the next cell: all technical info is dropped."
      ]
    },
    {
      "cell_type": "code",
      "execution_count": 127,
      "metadata": {
        "collapsed": true,
        "id": "Uo2U8sqBjx16"
      },
      "outputs": [],
      "source": [
        "if not os.path.exists('sonnets.txt'):\n",
        "    !wget https://raw.githubusercontent.com/girafe-ai/ml-course/22f_basic/homeworks/lab02_deep_learning/sonnets.txt\n",
        "\n",
        "with open('sonnets.txt', 'r') as iofile:\n",
        "    text = iofile.readlines()\n",
        "    \n",
        "TEXT_START = 45\n",
        "TEXT_END = -368\n",
        "text = text[TEXT_START : TEXT_END]\n",
        "assert len(text) == 2616"
      ]
    },
    {
      "cell_type": "markdown",
      "metadata": {
        "id": "9NjWUWK5jx18"
      },
      "source": [
        "In opposite to the in-class practice, this time we want to predict complex text. Let's reduce the complexity of the task and lowercase all the symbols.\n",
        "\n",
        "Now variable `text` is a list of strings. Join all the strings into one and lowercase it."
      ]
    },
    {
      "cell_type": "code",
      "execution_count": null,
      "metadata": {
        "id": "SEeJc3wQjx1-"
      },
      "outputs": [],
      "source": [
        "# Join all the strings into one and lowercase it\n",
        "# Put result into variable text.\n",
        "\n",
        "# Your great code here\n",
        "\n",
        "assert len(text) == 100225, 'Are you sure you have concatenated all the strings?'\n",
        "assert not any([x in set(text) for x in string.ascii_uppercase]), 'Uppercase letters are present'\n",
        "print('OK!')"
      ]
    },
    {
      "cell_type": "markdown",
      "metadata": {
        "id": "xjFBa26gjx2A"
      },
      "source": [
        "### Data loading: \"Евгений Онегин\"\n"
      ]
    },
    {
      "cell_type": "code",
      "execution_count": null,
      "metadata": {
        "id": "Ihj8EeDKjx2B",
        "outputId": "14c34e52-3629-432c-b25e-887f3606bd42"
      },
      
      "source": [
        "!wget https://raw.githubusercontent.com/attatrol/data_sources/master/onegin.txt\n",
        "    \n",
        "with open('onegin.txt', 'r') as iofile:\n",
        "    text = iofile.readlines()\n",
        "    \n",
        "text = [x.replace('\\t\\t', '') for x in text]"
      ]
    },
    {
      "cell_type": "markdown",
      "metadata": {
        "id": "KnzuoLDZjx2E"
      },
      "source": [
        "In opposite to the in-class practice, this time we want to predict complex text. Let's reduce the complexity of the task and lowercase all the symbols.\n",
        "\n",
        "Now variable `text` is a list of strings. Join all the strings into one and lowercase it."
      ]
    },
    {
      "cell_type": "code",
      "execution_count": 129,
      "metadata": {
        "id": "uoQh5Yjyjx2G"
      },
      "outputs": [],
      "source": [
        "# Join all the strings into one and lowercase it\n",
        "# Put result into variable text.\n",
        "\n",
        "# Your great code here\n",
        "def getwords(text):\n",
        "    lines = text.split('\\n')\n",
        "    lines = [line.strip(r'\\\"') for line in lines]\n",
        "    words = ' '.join(lines).split()\n",
        "\n",
        "    punct = set(string.punctuation)\n",
        "    words = [''.join([char for char in list(word) if char not in punct]) for word in words]\n",
        "\n",
        "    return words\n",
        "\n",
        "text = \"\".join(text).lower()\n",
        "words = getwords(text)\n",
        "wordfreq = Counter(words)\n",
        "tokens = sorted(wordfreq, key=wordfreq.get)\n",
        "num_tokens = len(tokens)"
      ]
    },
    {
      "cell_type": "markdown",
      "metadata": {
        "id": "LnccIWnPjx2H"
      },
      "source": [
        "Put all the characters, that you've seen in the text, into variable `tokens`."
      ]
    },
    {
      "cell_type": "code",
      "execution_count": null,
      "metadata": {
        "id": "ExrnVPiVjx2H"
      },
      "outputs": [],
      "source": [
        "#tokens = sorted(set(out))"
      ]
    },
    {
      "cell_type": "markdown",
      "metadata": {
        "id": "bW1iyluljx2I"
      },
      "source": [
        "Create dictionary `token_to_idx = {<char>: <index>}` and dictionary `idx_to_token = {<index>: <char>}`"
      ]
    },
    {
      "cell_type": "code",
      "execution_count": 132,
      "metadata": {
        "collapsed": true,
        "id": "OBxcg20wjx2J"
      },
      "outputs": [],
      "source": [
        "# dict <index>:<char>\n",
        "# Your great code here\n",
        "idx2token = {i:j for i,j in enumerate(tokens)}\n",
        "token2idx = {i:j for j,i in idx2token.items()}\n",
        "# dict <char>:<index>\n",
        "# Your great code here\n",
        "batch_size = 16\n",
        "seq_size = 32\n",
        "gradients_norm = 5\n",
        "device = torch.device('cuda' if torch.cuda.is_available() else 'cpu')"
      ]
    },
    {
      "cell_type": "markdown",
      "metadata": {
        "id": "g-uBm2d4jx2J"
      },
      "source": [
        "*Comment: in this task we have only 38 different tokens, so let's use one-hot encoding.*"
      ]
    },
    {
      "cell_type": "markdown",
      "metadata": {
        "id": "0R_cAGYxjx2K"
      },
      "source": [
        "### Building the model"
      ]
    },
    {
      "cell_type": "markdown",
      "metadata": {
        "id": "anb-dbDEjx2K"
      },
      "source": [
        "Now we want to build and train recurrent neural net which would be able to something similar to Shakespeare's poetry.\n",
        "\n",
        "Let's use vanilla RNN, similar to the one created during the lesson."
      ]
    },
    {
      "cell_type": "code",
      "execution_count": 134,
      "metadata": {
        "collapsed": true,
        "id": "KRe71zsIjx2L"
      },
      "outputs": [],
      "source": [
        "# Your code here\n",
        "class rnn_net(nn.Module):\n",
        "    def __init__(self, n_vocab, embedding_size=64, rnn_size=64):\n",
        "        super(rnn_net, self).__init__()\n",
        "        self.rnn_size = rnn_size\n",
        "\n",
        "        self.embedding = nn.Embedding(n_vocab, embedding_size)\n",
        "        self.lstm = nn.RNN(embedding_size, rnn_size, batch_first=True)\n",
        "        self.dense = nn.Linear(rnn_size, n_vocab)\n",
        "        \n",
        "    def forward(self, x, prev_state):\n",
        "        embed = self.embedding(x)\n",
        "        output, state = self.lstm(embed, prev_state)\n",
        "        logits = self.dense(output)\n",
        "\n",
        "        return logits, state\n",
        "    \n",
        "    def zero_state(self, batch_size):\n",
        "        return (torch.zeros(1, batch_size, self.rnn_size))\n",
        "\n",
        "def get_batches(words, token2idx, batch_size, seq_size):\n",
        "    word_ints = [token2idx[word] for word in words]\n",
        "    num_batches = int(len(word_ints) / (batch_size * seq_size))\n",
        "    Xs = word_ints[:num_batches*batch_size*seq_size]\n",
        "    Ys = np.zeros_like(Xs)\n",
        "    Ys[:-1] = Xs[1:]\n",
        "    Ys[-1] = Xs[0]\n",
        "    Xs = np.reshape(Xs, (num_batches*batch_size, seq_size))\n",
        "    Ys= np.reshape(Ys, (num_batches*batch_size, seq_size))\n",
        "    \n",
        "    for i in range(0, num_batches*batch_size, batch_size):\n",
        "        yield Xs[i:i+batch_size, :], Ys[i:i+batch_size, :]\n",
        "\n",
        "def plt1(loss):\n",
        "    plt.figure(figsize = (10 , 10))\n",
        "    plt.xlabel(\"Epoch\")\n",
        "    plt.ylabel(\"Loss\")\n",
        "\n",
        "    plt.plot(np.arange(len(loss)) + 1, loss, label=\"Training loss\")"
      ]
    },
    {
      "cell_type": "markdown",
      "metadata": {
        "id": "bFme8pTdjx2M"
      },
      "source": [
        "Plot the loss function (axis X: number of epochs, axis Y: loss function)."
      ]
    },
    {
      "cell_type": "code",
      "execution_count": 135,
      "metadata": {
        "collapsed": true,
        "id": "Yuk4rkmqjx2M"
      },
      "outputs": [],
      "source": [
        "# Your plot code here\n",
        "def train_rnn(net, words, vocab_to_int, int_to_vocab, n_vocab, n_epoch):\n",
        "    net = net.to(device)\n",
        "    net.train()\n",
        "\n",
        "    criterion = nn.CrossEntropyLoss()\n",
        "    optimizer = torch.optim.Adam(net.parameters(), lr=0.01)\n",
        "\n",
        "    loss_train = []\n",
        "    \n",
        "    for epoch in tqdm(range(n_epoch)):\n",
        "        batches = get_batches(words, vocab_to_int, batch_size, seq_size)\n",
        "        state_h = net.zero_state(batch_size)\n",
        "\n",
        "        state_h = state_h.to(device)\n",
        "        for x, y in batches:\n",
        "            x = torch.tensor(x).to(device)\n",
        "            y = torch.tensor(y).to(device)\n",
        "\n",
        "            optimizer.zero_grad()\n",
        "\n",
        "            logits, state_h = net(x, state_h)\n",
        "            loss = criterion(logits.transpose(1, 2), y)\n",
        "\n",
        "            state_h = state_h.detach()\n",
        "\n",
        "            loss_value = loss.item()\n",
        "            loss_train.append(loss_value)\n",
        "\n",
        "            loss.backward()            \n",
        "            optimizer.step()\n",
        "\n",
        "        print(f\"Epoch: {epoch}; Loss: {loss_value}\")\n",
        "\n",
        "    return loss_train\n",
        "\n",
        "\n",
        "def train_lstm(net, words, vocab_to_int, int_to_vocab, n_vocab, n_epoch):\n",
        "    net = net.to(device)\n",
        "    net.train()\n",
        "    criterion = nn.CrossEntropyLoss()\n",
        "    optimizer = torch.optim.Adam(net.parameters(), lr=0.01)\n",
        "    loss_train = []\n",
        "    for epoch in tqdm(range(n_epoch)):\n",
        "        batches = get_batches(words, vocab_to_int, batch_size, seq_size)\n",
        "        state_h, state_c = net.zero_state(batch_size)\n",
        "        state_h = state_h.to(device)\n",
        "        state_c = state_h.to(device)\n",
        "        for x, y in batches:\n",
        "            x = torch.tensor(x).to(device)\n",
        "            y = torch.tensor(y).to(device)\n",
        "            optimizer.zero_grad()\n",
        "            logits, (state_h, state_c) = net(x, (state_h, state_c))\n",
        "            loss = criterion(logits.transpose(1, 2), y)\n",
        "            state_h = state_h.detach()\n",
        "            state_c = state_h.detach()\n",
        "            loss_value = loss.item()\n",
        "            loss_train.append(loss_value)\n",
        "            loss.backward()\n",
        "            optimizer.step()\n",
        "        print(\"Epoch: \",end='')\n",
        "        print(epoch, end='    ')\n",
        "        print(\"Loss: \", end='')\n",
        "        print(loss_value)\n",
        "\n",
        "    return loss_train"
      ]
    },
    {
      "cell_type": "code",
      "source": [
        "rnn_model = rnn_net(num_tokens)\n",
        "loss = train_rnn(rnn_model, words, token2idx, idx2token, num_tokens, 50)"
      ],
      "metadata": {
        "id": "AWraKcIklM2Q",
        "outputId": "6c43b341-d2d9-4e4e-ce2b-f8caadd59d6f",
        "colab": {
          "base_uri": "https://localhost:8080/",
          "height": 947,
          "referenced_widgets": [
            "910eef281952467f86cab72e594fc163",
            "9c8509de05f744c6850078baac11f950",
            "468ea92f48ba49898e857b5af40b1954",
            "9a2a36791cac4c8dbf21a0e937f06216",
            "c3cd41c1331f48e2823e8e36c7d167b0",
            "2f654004339b4519b4f7df1e189122f3",
            "759118845a0a4ac6a21134cebd0f89a7",
            "0fbc7a3c4b1648f9a8aca6e9f0889391",
            "af801438fd8c47b487b4197ae9b0959e",
            "0ed437b704d44994ad3780e5bed75249",
            "bd1d08a6d6744897bea4cca4030fe9ac"
          ]
        }
      },
      "execution_count": 136,
      "outputs": [
        {
          "output_type": "display_data",
          "data": {
            "text/plain": [
              "  0%|          | 0/50 [00:00<?, ?it/s]"
            ],
            "application/vnd.jupyter.widget-view+json": {
              "version_major": 2,
              "version_minor": 0,
              "model_id": "910eef281952467f86cab72e594fc163"
            }
          },
          "metadata": {}
        },
        {
          "output_type": "stream",
          "name": "stdout",
          "text": [
            "Epoch: 0; Loss: 6.469067096710205\n",
            "Epoch: 1; Loss: 6.002410888671875\n",
            "Epoch: 2; Loss: 5.539708614349365\n",
            "Epoch: 3; Loss: 5.047208786010742\n",
            "Epoch: 4; Loss: 4.67360258102417\n",
            "Epoch: 5; Loss: 4.341364860534668\n",
            "Epoch: 6; Loss: 4.044158458709717\n",
            "Epoch: 7; Loss: 3.7356748580932617\n",
            "Epoch: 8; Loss: 3.5573067665100098\n",
            "Epoch: 9; Loss: 3.35201358795166\n",
            "Epoch: 10; Loss: 3.162217378616333\n",
            "Epoch: 11; Loss: 3.002612352371216\n",
            "Epoch: 12; Loss: 2.8587119579315186\n",
            "Epoch: 13; Loss: 2.751497983932495\n",
            "Epoch: 14; Loss: 2.584247350692749\n",
            "Epoch: 15; Loss: 2.482203483581543\n",
            "Epoch: 16; Loss: 2.352057933807373\n",
            "Epoch: 17; Loss: 2.2577152252197266\n",
            "Epoch: 18; Loss: 2.148023843765259\n",
            "Epoch: 19; Loss: 2.1171627044677734\n",
            "Epoch: 20; Loss: 2.0546023845672607\n",
            "Epoch: 21; Loss: 1.9692118167877197\n",
            "Epoch: 22; Loss: 2.004014253616333\n",
            "Epoch: 23; Loss: 1.8494077920913696\n",
            "Epoch: 24; Loss: 1.806672215461731\n",
            "Epoch: 25; Loss: 1.7059910297393799\n",
            "Epoch: 26; Loss: 1.7113498449325562\n",
            "Epoch: 27; Loss: 1.6484054327011108\n",
            "Epoch: 28; Loss: 1.6615538597106934\n",
            "Epoch: 29; Loss: 1.6180671453475952\n",
            "Epoch: 30; Loss: 1.6162457466125488\n",
            "Epoch: 31; Loss: 1.5507056713104248\n",
            "Epoch: 32; Loss: 1.5226699113845825\n",
            "Epoch: 33; Loss: 1.5126574039459229\n",
            "Epoch: 34; Loss: 1.468058705329895\n",
            "Epoch: 35; Loss: 1.4261765480041504\n",
            "Epoch: 36; Loss: 1.4739587306976318\n",
            "Epoch: 37; Loss: 1.3872398138046265\n",
            "Epoch: 38; Loss: 1.3333611488342285\n",
            "Epoch: 39; Loss: 1.3396286964416504\n",
            "Epoch: 40; Loss: 1.355786919593811\n",
            "Epoch: 41; Loss: 1.256361484527588\n",
            "Epoch: 42; Loss: 1.2503422498703003\n",
            "Epoch: 43; Loss: 1.265083909034729\n",
            "Epoch: 44; Loss: 1.2572249174118042\n",
            "Epoch: 45; Loss: 1.2376880645751953\n",
            "Epoch: 46; Loss: 1.1611177921295166\n",
            "Epoch: 47; Loss: 1.1716305017471313\n",
            "Epoch: 48; Loss: 1.1530566215515137\n",
            "Epoch: 49; Loss: 1.1764460802078247\n"
          ]
        }
      ]
    },
    {
      "cell_type": "code",
      "source": [
        "plt1(loss)"
      ],
      "metadata": {
        "id": "eDa0yXGomPgy",
        "outputId": "eceb60c6-e050-42af-dc3b-f10b5a165379",
        "colab": {
          "base_uri": "https://localhost:8080/",
          "height": 611
        }
      },
      "execution_count": 141,
      "outputs": [
        {
          "output_type": "display_data",
          "data": {
            "text/plain": [
              "<Figure size 720x720 with 1 Axes>"
            ],
            "image/png": "[encoded data removed]"
          },
          "metadata": {
            "needs_background": "light"
          }
        }
      ]
    },
    {
      "cell_type": "code",
      "execution_count": 137,
      "metadata": {
        "id": "hXyodycRjx2N"
      },
      "outputs": [],
      "source": [
        "import torch.nn.functional as F\n",
        "\n",
        "MAX_LENGTH  = 128\n",
        "def generate_sample_rnn(char_rnn, seed_phrase=['hello'], max_length=MAX_LENGTH, temperature=1.0, token2idx=token2idx, idx2token=idx2token):\n",
        "    '''\n",
        "    ### Disclaimer: this is an example function for text generation.\n",
        "    ### You can either adapt it in your code or create your own function\n",
        "    \n",
        "    The function generates text given a phrase of length at least SEQ_LENGTH.\n",
        "    :param seed_phrase: prefix characters. The RNN is asked to continue the phrase\n",
        "    :param max_length: maximum output length, including seed_phrase\n",
        "    :param temperature: coefficient for sampling.  higher temperature produces more chaotic outputs, \n",
        "        smaller temperature converges to the single most likely output.\n",
        "        \n",
        "    Be careful with the model output. This model waits logits (not probabilities/log-probabilities)\n",
        "    of the next symbol.\n",
        "    '''\n",
        "    char_rnn.eval()\n",
        "    x_sequence = [token2idx[token] for token in seed_phrase]\n",
        "    x_sequence = torch.tensor([x_sequence], dtype=torch.int64)\n",
        "    hid_state = char_rnn.zero_state(1)\n",
        "    #feed the seed phrase, if any\n",
        "    for i in range(len(seed_phrase) - 1):\n",
        "        out, hid_state = char_rnn(x_sequence, hid_state)\n",
        "    #start generating\n",
        "    for i in range(max_length - len(seed_phrase)):\n",
        "        out, hid_state = char_rnn(x_sequence, hid_state)\n",
        "        p_next = F.softmax(out / temperature, dim=-1).data.numpy()[0][-1]\n",
        "\n",
        "        next_ix = np.random.choice(len(idx2token), p=p_next)\n",
        "        next_ix = torch.tensor([[next_ix]], dtype=torch.int64)\n",
        "\n",
        "        x_sequence = torch.cat([x_sequence, next_ix], dim=1)\n",
        "        \n",
        "    return ' '.join([idx2token[ix] for ix in x_sequence.data.numpy()[0]])"
      ]
    },
    {
      "cell_type": "code",
      "execution_count": 138,
      "metadata": {
        "id": "tu3fhfByjx2N",
        "outputId": "86d4fc3c-e04b-4071-9878-0f2dc1a83ccb",
        "colab": {
          "base_uri": "https://localhost:8080/"
        }
      },
      "outputs": [
        {
          "output_type": "stream",
          "name": "stdout",
          "text": [
            "that thereby speak or state itself confounded to decay ruin o do\n"
          ]
        }
      ],
      "source": [
        "generated_text = generate_sample_rnn(rnn_model, seed_phrase=['that', 'thereby'], max_length=12, temperature=0.2)\n",
        "print(generated_text)"
      ]
    },
    {
      "cell_type": "markdown",
      "metadata": {
        "id": "uIXvm42Zjx2O"
      },
      "source": [
        "### More poetic model\n",
        "\n",
        "Let's use LSTM instead of vanilla RNN and compare the results."
      ]
    },
    {
      "cell_type": "markdown",
      "metadata": {
        "id": "ZYvMtsAejx2O"
      },
      "source": [
        "Plot the loss function of the number of epochs. Does the final loss become better?"
      ]
    },
    {
      "cell_type": "code",
      "execution_count": 145,
      "metadata": {
        "collapsed": true,
        "id": "VInCRY69jx2O",
        "outputId": "da528ccc-fbc8-43ab-fc23-83645fd1e93b",
        "colab": {
          "base_uri": "https://localhost:8080/",
          "height": 947,
          "referenced_widgets": [
            "72ffad08050c416dbc4dad8b69de1c9d",
            "2914d8fc080d4d68baaa9ade44448c27",
            "f0b2503a499248e09dcd4764726f0b96",
            "0537d9b534b648e28824a46307bb2302",
            "2dbe818734504e22b2f2d5cbdd22e356",
            "808334a989a44d5482b328cb371bfb88",
            "f3321358ab3b44eb9bfa887267403392",
            "3c4db428da90488a8e23dadab6e3b496",
            "e3927e6b6b014f1f8f8fabd0f52a441e",
            "e672c4a1d31543dfae4b96b44eac09a3",
            "0e29aa24bc0f4096bddc35f97183ede5"
          ]
        }
      },
      "outputs": [
        {
          "output_type": "display_data",
          "data": {
            "text/plain": [
              "  0%|          | 0/50 [00:00<?, ?it/s]"
            ],
            "application/vnd.jupyter.widget-view+json": {
              "version_major": 2,
              "version_minor": 0,
              "model_id": "72ffad08050c416dbc4dad8b69de1c9d"
            }
          },
          "metadata": {}
        },
        {
          "output_type": "stream",
          "name": "stdout",
          "text": [
            "Epoch: 0    Loss: 6.465970516204834\n",
            "Epoch: 1    Loss: 6.042343616485596\n",
            "Epoch: 2    Loss: 5.716616630554199\n",
            "Epoch: 3    Loss: 5.35408353805542\n",
            "Epoch: 4    Loss: 5.033448696136475\n",
            "Epoch: 5    Loss: 4.705842018127441\n",
            "Epoch: 6    Loss: 4.4117112159729\n",
            "Epoch: 7    Loss: 4.153268337249756\n",
            "Epoch: 8    Loss: 3.9358582496643066\n",
            "Epoch: 9    Loss: 3.7521286010742188\n",
            "Epoch: 10    Loss: 3.5684010982513428\n",
            "Epoch: 11    Loss: 3.4055428504943848\n",
            "Epoch: 12    Loss: 3.240706443786621\n",
            "Epoch: 13    Loss: 3.090336322784424\n",
            "Epoch: 14    Loss: 2.942079782485962\n",
            "Epoch: 15    Loss: 2.8248355388641357\n",
            "Epoch: 16    Loss: 2.7227892875671387\n",
            "Epoch: 17    Loss: 2.608670473098755\n",
            "Epoch: 18    Loss: 2.4728593826293945\n",
            "Epoch: 19    Loss: 2.374709367752075\n",
            "Epoch: 20    Loss: 2.2831857204437256\n",
            "Epoch: 21    Loss: 2.204503297805786\n",
            "Epoch: 22    Loss: 2.096933603286743\n",
            "Epoch: 23    Loss: 1.9969087839126587\n",
            "Epoch: 24    Loss: 1.9437155723571777\n",
            "Epoch: 25    Loss: 1.8674595355987549\n",
            "Epoch: 26    Loss: 1.7495697736740112\n",
            "Epoch: 27    Loss: 1.6924256086349487\n",
            "Epoch: 28    Loss: 1.6193112134933472\n",
            "Epoch: 29    Loss: 1.5515456199645996\n",
            "Epoch: 30    Loss: 1.4759180545806885\n",
            "Epoch: 31    Loss: 1.4445182085037231\n",
            "Epoch: 32    Loss: 1.3964354991912842\n",
            "Epoch: 33    Loss: 1.3302825689315796\n",
            "Epoch: 34    Loss: 1.2728508710861206\n",
            "Epoch: 35    Loss: 1.2192397117614746\n",
            "Epoch: 36    Loss: 1.1964397430419922\n",
            "Epoch: 37    Loss: 1.1440200805664062\n",
            "Epoch: 38    Loss: 1.1352893114089966\n",
            "Epoch: 39    Loss: 1.1059175729751587\n",
            "Epoch: 40    Loss: 1.0629764795303345\n",
            "Epoch: 41    Loss: 1.0407965183258057\n",
            "Epoch: 42    Loss: 0.9955716729164124\n",
            "Epoch: 43    Loss: 0.960725724697113\n",
            "Epoch: 44    Loss: 0.8975284695625305\n",
            "Epoch: 45    Loss: 0.8558492660522461\n",
            "Epoch: 46    Loss: 0.8082512617111206\n",
            "Epoch: 47    Loss: 0.7991863489151001\n",
            "Epoch: 48    Loss: 0.7509585618972778\n",
            "Epoch: 49    Loss: 0.7504329681396484\n"
          ]
        }
      ],
      "source": [
        "# Your beautiful code here\n",
        "class lstm_net(nn.Module):\n",
        "    def __init__(self, n_vocab, embedding_size=64, lstm_size=64):\n",
        "        super(lstm_net, self).__init__()\n",
        "        self.lstm_size = lstm_size\n",
        "\n",
        "        self.embedding = nn.Embedding(n_vocab, embedding_size)\n",
        "        self.lstm = nn.LSTM(embedding_size, lstm_size, batch_first=True)\n",
        "        self.dense = nn.Linear(lstm_size, n_vocab)\n",
        "        \n",
        "    def forward(self, x, prev_state):\n",
        "        embed = self.embedding(x)\n",
        "        output, state = self.lstm(embed, prev_state)\n",
        "        logits = self.dense(output)\n",
        "\n",
        "        return logits, state\n",
        "    \n",
        "    def zero_state(self, batch_size):\n",
        "        return (torch.zeros(1, batch_size, self.lstm_size),torch.zeros(1, batch_size, self.lstm_size))\n",
        "\n",
        "def train_lstm(net, words, vocab_to_int, int_to_vocab, n_vocab, n_epoch):\n",
        "    net = net.to(device)\n",
        "    net.train()\n",
        "    criterion = nn.CrossEntropyLoss()\n",
        "    optimizer = torch.optim.Adam(net.parameters(), lr=0.01)\n",
        "    loss_train = []\n",
        "    for epoch in tqdm(range(n_epoch)):\n",
        "        batches = get_batches(words, vocab_to_int, batch_size, seq_size)\n",
        "        state_h, state_c = net.zero_state(batch_size)\n",
        "        state_h = state_h.to(device)\n",
        "        state_c = state_h.to(device)\n",
        "        for x, y in batches:\n",
        "            x = torch.tensor(x).to(device)\n",
        "            y = torch.tensor(y).to(device)\n",
        "            optimizer.zero_grad()\n",
        "            logits, (state_h, state_c) = net(x, (state_h, state_c))\n",
        "            loss = criterion(logits.transpose(1, 2), y)\n",
        "            state_h = state_h.detach()\n",
        "            state_c = state_h.detach()\n",
        "            loss_value = loss.item()\n",
        "            loss_train.append(loss_value)\n",
        "            loss.backward()\n",
        "            optimizer.step()\n",
        "        print(\"Epoch: \",end='')\n",
        "        print(epoch, end='    ')\n",
        "        print(\"Loss: \", end='')\n",
        "        print(loss_value)\n",
        "\n",
        "    return loss_train\n",
        "\n",
        "lstm_model = lstm_net(num_tokens)\n",
        "loss = train_lstm(lstm_model, words, token2idx, idx2token, num_tokens, 50)"
      ]
    },
    {
      "cell_type": "markdown",
      "metadata": {
        "id": "XINt1U3rjx2O"
      },
      "source": [
        "Generate text using the trained net with different `temperature` parameter: `[0.1, 0.2, 0.5, 1.0, 2.0]`.\n",
        "\n",
        "Evaluate the results visually, try to interpret them."
      ]
    },
    {
      "cell_type": "code",
      "execution_count": 146,
      "metadata": {
        "collapsed": true,
        "id": "5kJ6-8IAjx2O",
        "outputId": "371c671c-df57-4b72-a821-7b6e62a17d5b",
        "colab": {
          "base_uri": "https://localhost:8080/",
          "height": 1000,
          "referenced_widgets": [
            "22e5bfcf966e4633be745ba9dd604234",
            "4f87eaa4c8fb4b93892342548afb3a22",
            "804301e13277449494b44570a470144b",
            "8fbac36a3c8c40569abada2a9fec0c03",
            "7c8d98cc3fd94900bbdecf261f01b824",
            "a75c0e2b42484df79aaa130c8c146ea0",
            "75c65a5fcb644ba591a42b42caf5c35f",
            "f3cf29ba7cae4d808642474fe9fed889",
            "6a080e60bef643d38c9fe5c9c27b2745",
            "87553c5312f841a0b71ad97cc55f6cce",
            "abd9fcec9d204f9d8ac488b201c1ef1f"
          ]
        }
      },
      "outputs": [
        {
          "output_type": "display_data",
          "data": {
            "text/plain": [
              "  0%|          | 0/50 [00:00<?, ?it/s]"
            ],
            "application/vnd.jupyter.widget-view+json": {
              "version_major": 2,
              "version_minor": 0,
              "model_id": "22e5bfcf966e4633be745ba9dd604234"
            }
          },
          "metadata": {}
        },
        {
          "output_type": "stream",
          "name": "stdout",
          "text": [
            "Epoch: 0    Loss: 6.468198299407959\n",
            "Epoch: 1    Loss: 6.031378746032715\n",
            "Epoch: 2    Loss: 5.680670738220215\n",
            "Epoch: 3    Loss: 5.317447662353516\n",
            "Epoch: 4    Loss: 4.982308864593506\n",
            "Epoch: 5    Loss: 4.631969451904297\n",
            "Epoch: 6    Loss: 4.331197738647461\n",
            "Epoch: 7    Loss: 4.065923690795898\n",
            "Epoch: 8    Loss: 3.8604159355163574\n",
            "Epoch: 9    Loss: 3.6448729038238525\n",
            "Epoch: 10    Loss: 3.462714433670044\n",
            "Epoch: 11    Loss: 3.3201208114624023\n",
            "Epoch: 12    Loss: 3.162750244140625\n",
            "Epoch: 13    Loss: 2.998642921447754\n",
            "Epoch: 14    Loss: 2.8415234088897705\n",
            "Epoch: 15    Loss: 2.6814472675323486\n",
            "Epoch: 16    Loss: 2.5647542476654053\n",
            "Epoch: 17    Loss: 2.4439406394958496\n",
            "Epoch: 18    Loss: 2.326272487640381\n",
            "Epoch: 19    Loss: 2.233764886856079\n",
            "Epoch: 20    Loss: 2.14083194732666\n",
            "Epoch: 21    Loss: 2.046684980392456\n",
            "Epoch: 22    Loss: 1.9726189374923706\n",
            "Epoch: 23    Loss: 1.887067198753357\n",
            "Epoch: 24    Loss: 1.820831537246704\n",
            "Epoch: 25    Loss: 1.7504287958145142\n",
            "Epoch: 26    Loss: 1.6842880249023438\n",
            "Epoch: 27    Loss: 1.615091323852539\n",
            "Epoch: 28    Loss: 1.5425928831100464\n",
            "Epoch: 29    Loss: 1.4633666276931763\n",
            "Epoch: 30    Loss: 1.4111124277114868\n",
            "Epoch: 31    Loss: 1.3486920595169067\n",
            "Epoch: 32    Loss: 1.3039478063583374\n",
            "Epoch: 33    Loss: 1.2427948713302612\n",
            "Epoch: 34    Loss: 1.2118765115737915\n",
            "Epoch: 35    Loss: 1.1617043018341064\n",
            "Epoch: 36    Loss: 1.1199405193328857\n",
            "Epoch: 37    Loss: 1.0724430084228516\n",
            "Epoch: 38    Loss: 1.0637577772140503\n",
            "Epoch: 39    Loss: 0.9978570342063904\n",
            "Epoch: 40    Loss: 0.9328125715255737\n",
            "Epoch: 41    Loss: 0.915294349193573\n",
            "Epoch: 42    Loss: 0.8512455821037292\n",
            "Epoch: 43    Loss: 0.8644481301307678\n",
            "Epoch: 44    Loss: 0.837307870388031\n",
            "Epoch: 45    Loss: 0.7995911240577698\n",
            "Epoch: 46    Loss: 0.772643506526947\n",
            "Epoch: 47    Loss: 0.7378780841827393\n",
            "Epoch: 48    Loss: 0.6997915506362915\n",
            "Epoch: 49    Loss: 0.6553699374198914\n",
            "temperature = 0.1\n",
            "that thereby beautys rose might never die but in my love that keeps mine eye awake mine own true it thy might spendst thou thy fury on some worthless song darkening thy fair appearance lies to side this title is impannelled a quest of thoughts all tenants to say thy\n",
            "\n",
            "\n",
            "temperature = 0.2\n",
            "that thereby beautys rose might never die but in my mind when bodys works expired for then my thoughtsfrom far where i abide intend a zealous pilgrimage it but since i am near slain kill me outright with looks and rid my heart thy pictures sight would bar my heart\n",
            "\n",
            "\n",
            "temperature = 0.5\n",
            "that thereby beautys rose might never die but in that bosom sits that on himself such murdrous shame commits x for shame for i have sworn thee fair the worser spirit a woman colourd ill to come so should my false heart blessed at every part the canker blooms five\n",
            "\n",
            "\n",
            "temperature = 1.0\n",
            "that thereby compare a miser a couplement of proud compare with sun and moon with loss and shalt by their scarlet ornaments and seald so far what they see save now i have writ not love for canker vice the sweetest buds doth feast and every fair from fair sometime\n",
            "\n",
            "\n",
            "temperature = 2.0\n",
            "that thereby shall number must each sell desert and words set that mine ear confounds in possession but slave or from mine away oer the wide eye awake his good dear show hanging which mortgagd i wink then find but you lxiii within today thou shalt find cxlix ocean more\n",
            "\n",
            "\n"
          ]
        }
      ],
      "source": [
        "# Text generation with different temperature values here\n",
        "def generate_sample_lstm(char_rnn, seed_phrase=['hello'], max_length=MAX_LENGTH, temperature=1.0, token2idx=token2idx, idx2token=idx2token):\n",
        "    '''\n",
        "    ### Disclaimer: this is an example function for text generation.\n",
        "    ### You can either adapt it in your code or create your own function\n",
        "    \n",
        "    The function generates text given a phrase of length at least SEQ_LENGTH.\n",
        "    :param seed_phrase: prefix characters. The RNN is asked to continue the phrase\n",
        "    :param max_length: maximum output length, including seed_phrase\n",
        "    :param temperature: coefficient for sampling.  higher temperature produces more chaotic outputs, \n",
        "        smaller temperature converges to the single most likely output.\n",
        "        \n",
        "    Be careful with the model output. This model waits logits (not probabilities/log-probabilities)\n",
        "    of the next symbol.\n",
        "    '''\n",
        "    char_rnn.eval()\n",
        "    x_sequence = [token2idx[token] for token in seed_phrase]\n",
        "    x_sequence = torch.tensor([x_sequence], dtype=torch.int64)\n",
        "    (hid_state_h, hid_state_c) = char_rnn.zero_state(1)\n",
        "\n",
        "    #feed the seed phrase, if any\n",
        "    for i in range(len(seed_phrase) - 1):\n",
        "        out, (hid_state_h, hid_state_c)  = char_rnn(x_sequence, (hid_state_h, hid_state_c))\n",
        "    #start generating\n",
        "    for _ in range(max_length - len(seed_phrase)):\n",
        "        out, (hid_state_h, hid_state_c) = char_rnn(x_sequence, (hid_state_h, hid_state_c))\n",
        "        p_next = F.softmax(out / temperature, dim=-1).data.numpy()[0][-1]\n",
        "\n",
        "        next_ix = np.random.choice(len(idx2token), p=p_next)\n",
        "        next_ix = torch.tensor([[next_ix]], dtype=torch.int64)\n",
        "\n",
        "        x_sequence = torch.cat([x_sequence, next_ix], dim=1)\n",
        "        \n",
        "    return ' '.join([idx2token[ix] for ix in x_sequence.data.numpy()[0]])\n",
        "lstm_model = lstm_net(num_tokens)\n",
        "loss = train_lstm(lstm_model, words, token2idx, idx2token, num_tokens, 50)\n",
        "plt1(loss)\n",
        "generate_sample_lstm(lstm_model, seed_phrase=['that', 'thereby'], max_length=12, temperature=0.2)\n",
        "temperatures = [0.1, 0.2, 0.5, 1.0, 2.0]\n",
        "seeds = [['that', 'thereby'], ['that', 'thereby'], ['that', 'thereby'], ['that', 'thereby'], ['that', 'thereby']]\n",
        "def make_temperature_test(model, temperatures, seeds, lngth=50):\n",
        "    for temp, seed in zip(temperatures, seeds):\n",
        "         print(f\"temperature = {temp}\")\n",
        "         print(generate_sample_lstm(model, seed_phrase=seed, max_length=lngth, temperature=temp))\n",
        "         print(\"\\n\")\n",
        "\n",
        "make_temperature_test(lstm_model, temperatures, seeds)"
      ]
    },
    {
      "cell_type": "markdown",
      "metadata": {
        "id": "gEI3wgRAjx2P"
      },
      "source": [
        "### Saving and loading models"
      ]
    },
    {
      "cell_type": "markdown",
      "metadata": {
        "id": "rRRNSyI8jx2P"
      },
      "source": [
        "Save the model to the disk, then load it and generate text. Examples are available [here](https://pytorch.org/tutorials/beginner/saving_loading_models.html])."
      ]
    },
    {
      "cell_type": "code",
      "execution_count": 147,
      "metadata": {
        "collapsed": true,
        "id": "yckJeCJwjx2P",
        "outputId": "d92b6026-64e7-40ee-c50b-642e7cc17678",
        "colab": {
          "base_uri": "https://localhost:8080/"
        }
      },
      "outputs": [
        {
          "output_type": "stream",
          "name": "stdout",
          "text": [
            "temperature = 0.1\n",
            "that thereby beautys rose might never die but in my love that keeps mine eye awake mine own true it thy beauty can say it is not false like a dialhand steal from his own vision holds what it was not counted fair and true varying to trust but when\n",
            "\n",
            "\n",
            "temperature = 0.2\n",
            "that thereby beautys rose might never die but in my heart to make me xxxviii how heavy saturn laughd and leapd with him yet nor the lays of birds nor the time do i not glance aside to newfound methods and to compounds strange why should i haste me i\n",
            "\n",
            "\n",
            "temperature = 0.5\n",
            "that thereby beautys rose might never die but in my love that keeps mine eye awake mine own when it might show my heart thy tables my i do fawn upon nay if thou lourst on my love disgrace were it not to be receives reproach of being and the\n",
            "\n",
            "\n",
            "temperature = 1.0\n",
            "that thereby beautys rose might will do abhor with me to me though not assaild and for me since mourning you your love to crave being made so near no longer than all my own thoughts or thought i have not love ten not when i whom thine eye when\n",
            "\n",
            "\n",
            "temperature = 2.0\n",
            "that thereby tongue lxviii thy image too none bring forth earth sings hymns at thou gavst graven thee black false in these all my verse far might for so near fortunes general xxxvi shall me now my good should separation i alone what of youth with in posterity with fleece\n",
            "\n",
            "\n"
          ]
        }
      ],
      "source": [
        "# Saving and loading code here\n",
        "torch.save(lstm_model, \"./lstm_model\")\n",
        "model_load = torch.load(\"./lstm_model\")\n",
        "make_temperature_test(model_load, temperatures, seeds)"
      ]
    },
    {
      "cell_type": "markdown",
      "metadata": {
        "id": "FSw_BXCXjx2P"
      },
      "source": [
        "### References\n",
        "1. <a href='http://karpathy.github.io/2015/05/21/rnn-effectiveness/'> Andrew Karpathy blog post about RNN. </a> \n",
        "There are several examples of genration: Shakespeare texts, Latex formulas, Linux Sourse Code and children names.\n",
        "2. <a href='https://github.com/karpathy/char-rnn'> Repo with char-rnn code </a>\n",
        "3. Cool repo with PyTorch examples: [link](https://github.com/spro/practical-pytorch`)"
      ]
    }
  ],
  "metadata": {
    "anaconda-cloud": {},
    "kernelspec": {
      "display_name": "Python 3",
      "language": "python",
      "name": "python3"
    },
    "language_info": {
      "codemirror_mode": {
        "name": "ipython",
        "version": 3
      },
      "file_extension": ".py",
      "mimetype": "text/x-python",
      "name": "python",
      "nbconvert_exporter": "python",
      "pygments_lexer": "ipython3",
      "version": "3.7.7"
    },
    "colab": {
      "provenance": []
    },
    "widgets": {
      "application/vnd.jupyter.widget-state+json": {
        "910eef281952467f86cab72e594fc163": {
          "model_module": "@jupyter-widgets/controls",
          "model_name": "HBoxModel",
          "model_module_version": "1.5.0",
          "state": {
            "_dom_classes": [],
            "_model_module": "@jupyter-widgets/controls",
            "_model_module_version": "1.5.0",
            "_model_name": "HBoxModel",
            "_view_count": null,
            "_view_module": "@jupyter-widgets/controls",
            "_view_module_version": "1.5.0",
            "_view_name": "HBoxView",
            "box_style": "",
            "children": [
              "IPY_MODEL_9c8509de05f744c6850078baac11f950",
              "IPY_MODEL_468ea92f48ba49898e857b5af40b1954",
              "IPY_MODEL_9a2a36791cac4c8dbf21a0e937f06216"
            ],
            "layout": "IPY_MODEL_c3cd41c1331f48e2823e8e36c7d167b0"
          }
        },
        "9c8509de05f744c6850078baac11f950": {
          "model_module": "@jupyter-widgets/controls",
          "model_name": "HTMLModel",
          "model_module_version": "1.5.0",
          "state": {
            "_dom_classes": [],
            "_model_module": "@jupyter-widgets/controls",
            "_model_module_version": "1.5.0",
            "_model_name": "HTMLModel",
            "_view_count": null,
            "_view_module": "@jupyter-widgets/controls",
            "_view_module_version": "1.5.0",
            "_view_name": "HTMLView",
            "description": "",
            "description_tooltip": null,
            "layout": "IPY_MODEL_2f654004339b4519b4f7df1e189122f3",
            "placeholder": "​",
            "style": "IPY_MODEL_759118845a0a4ac6a21134cebd0f89a7",
            "value": "100%"
          }
        },
        "468ea92f48ba49898e857b5af40b1954": {
          "model_module": "@jupyter-widgets/controls",
          "model_name": "FloatProgressModel",
          "model_module_version": "1.5.0",
          "state": {
            "_dom_classes": [],
            "_model_module": "@jupyter-widgets/controls",
            "_model_module_version": "1.5.0",
            "_model_name": "FloatProgressModel",
            "_view_count": null,
            "_view_module": "@jupyter-widgets/controls",
            "_view_module_version": "1.5.0",
            "_view_name": "ProgressView",
            "bar_style": "success",
            "description": "",
            "description_tooltip": null,
            "layout": "IPY_MODEL_0fbc7a3c4b1648f9a8aca6e9f0889391",
            "max": 50,
            "min": 0,
            "orientation": "horizontal",
            "style": "IPY_MODEL_af801438fd8c47b487b4197ae9b0959e",
            "value": 50
          }
        },
        "9a2a36791cac4c8dbf21a0e937f06216": {
          "model_module": "@jupyter-widgets/controls",
          "model_name": "HTMLModel",
          "model_module_version": "1.5.0",
          "state": {
            "_dom_classes": [],
            "_model_module": "@jupyter-widgets/controls",
            "_model_module_version": "1.5.0",
            "_model_name": "HTMLModel",
            "_view_count": null,
            "_view_module": "@jupyter-widgets/controls",
            "_view_module_version": "1.5.0",
            "_view_name": "HTMLView",
            "description": "",
            "description_tooltip": null,
            "layout": "IPY_MODEL_0ed437b704d44994ad3780e5bed75249",
            "placeholder": "​",
            "style": "IPY_MODEL_bd1d08a6d6744897bea4cca4030fe9ac",
            "value": " 50/50 [01:26&lt;00:00,  1.92s/it]"
          }
        },
        "c3cd41c1331f48e2823e8e36c7d167b0": {
          "model_module": "@jupyter-widgets/base",
          "model_name": "LayoutModel",
          "model_module_version": "1.2.0",
          "state": {
            "_model_module": "@jupyter-widgets/base",
            "_model_module_version": "1.2.0",
            "_model_name": "LayoutModel",
            "_view_count": null,
            "_view_module": "@jupyter-widgets/base",
            "_view_module_version": "1.2.0",
            "_view_name": "LayoutView",
            "align_content": null,
            "align_items": null,
            "align_self": null,
            "border": null,
            "bottom": null,
            "display": null,
            "flex": null,
            "flex_flow": null,
            "grid_area": null,
            "grid_auto_columns": null,
            "grid_auto_flow": null,
            "grid_auto_rows": null,
            "grid_column": null,
            "grid_gap": null,
            "grid_row": null,
            "grid_template_areas": null,
            "grid_template_columns": null,
            "grid_template_rows": null,
            "height": null,
            "justify_content": null,
            "justify_items": null,
            "left": null,
            "margin": null,
            "max_height": null,
            "max_width": null,
            "min_height": null,
            "min_width": null,
            "object_fit": null,
            "object_position": null,
            "order": null,
            "overflow": null,
            "overflow_x": null,
            "overflow_y": null,
            "padding": null,
            "right": null,
            "top": null,
            "visibility": null,
            "width": null
          }
        },
        "2f654004339b4519b4f7df1e189122f3": {
          "model_module": "@jupyter-widgets/base",
          "model_name": "LayoutModel",
          "model_module_version": "1.2.0",
          "state": {
            "_model_module": "@jupyter-widgets/base",
            "_model_module_version": "1.2.0",
            "_model_name": "LayoutModel",
            "_view_count": null,
            "_view_module": "@jupyter-widgets/base",
            "_view_module_version": "1.2.0",
            "_view_name": "LayoutView",
            "align_content": null,
            "align_items": null,
            "align_self": null,
            "border": null,
            "bottom": null,
            "display": null,
            "flex": null,
            "flex_flow": null,
            "grid_area": null,
            "grid_auto_columns": null,
            "grid_auto_flow": null,
            "grid_auto_rows": null,
            "grid_column": null,
            "grid_gap": null,
            "grid_row": null,
            "grid_template_areas": null,
            "grid_template_columns": null,
            "grid_template_rows": null,
            "height": null,
            "justify_content": null,
            "justify_items": null,
            "left": null,
            "margin": null,
            "max_height": null,
            "max_width": null,
            "min_height": null,
            "min_width": null,
            "object_fit": null,
            "object_position": null,
            "order": null,
            "overflow": null,
            "overflow_x": null,
            "overflow_y": null,
            "padding": null,
            "right": null,
            "top": null,
            "visibility": null,
            "width": null
          }
        },
        "759118845a0a4ac6a21134cebd0f89a7": {
          "model_module": "@jupyter-widgets/controls",
          "model_name": "DescriptionStyleModel",
          "model_module_version": "1.5.0",
          "state": {
            "_model_module": "@jupyter-widgets/controls",
            "_model_module_version": "1.5.0",
            "_model_name": "DescriptionStyleModel",
            "_view_count": null,
            "_view_module": "@jupyter-widgets/base",
            "_view_module_version": "1.2.0",
            "_view_name": "StyleView",
            "description_width": ""
          }
        },
        "0fbc7a3c4b1648f9a8aca6e9f0889391": {
          "model_module": "@jupyter-widgets/base",
          "model_name": "LayoutModel",
          "model_module_version": "1.2.0",
          "state": {
            "_model_module": "@jupyter-widgets/base",
            "_model_module_version": "1.2.0",
            "_model_name": "LayoutModel",
            "_view_count": null,
            "_view_module": "@jupyter-widgets/base",
            "_view_module_version": "1.2.0",
            "_view_name": "LayoutView",
            "align_content": null,
            "align_items": null,
            "align_self": null,
            "border": null,
            "bottom": null,
            "display": null,
            "flex": null,
            "flex_flow": null,
            "grid_area": null,
            "grid_auto_columns": null,
            "grid_auto_flow": null,
            "grid_auto_rows": null,
            "grid_column": null,
            "grid_gap": null,
            "grid_row": null,
            "grid_template_areas": null,
            "grid_template_columns": null,
            "grid_template_rows": null,
            "height": null,
            "justify_content": null,
            "justify_items": null,
            "left": null,
            "margin": null,
            "max_height": null,
            "max_width": null,
            "min_height": null,
            "min_width": null,
            "object_fit": null,
            "object_position": null,
            "order": null,
            "overflow": null,
            "overflow_x": null,
            "overflow_y": null,
            "padding": null,
            "right": null,
            "top": null,
            "visibility": null,
            "width": null
          }
        },
        "af801438fd8c47b487b4197ae9b0959e": {
          "model_module": "@jupyter-widgets/controls",
          "model_name": "ProgressStyleModel",
          "model_module_version": "1.5.0",
          "state": {
            "_model_module": "@jupyter-widgets/controls",
            "_model_module_version": "1.5.0",
            "_model_name": "ProgressStyleModel",
            "_view_count": null,
            "_view_module": "@jupyter-widgets/base",
            "_view_module_version": "1.2.0",
            "_view_name": "StyleView",
            "bar_color": null,
            "description_width": ""
          }
        },
        "0ed437b704d44994ad3780e5bed75249": {
          "model_module": "@jupyter-widgets/base",
          "model_name": "LayoutModel",
          "model_module_version": "1.2.0",
          "state": {
            "_model_module": "@jupyter-widgets/base",
            "_model_module_version": "1.2.0",
            "_model_name": "LayoutModel",
            "_view_count": null,
            "_view_module": "@jupyter-widgets/base",
            "_view_module_version": "1.2.0",
            "_view_name": "LayoutView",
            "align_content": null,
            "align_items": null,
            "align_self": null,
            "border": null,
            "bottom": null,
            "display": null,
            "flex": null,
            "flex_flow": null,
            "grid_area": null,
            "grid_auto_columns": null,
            "grid_auto_flow": null,
            "grid_auto_rows": null,
            "grid_column": null,
            "grid_gap": null,
            "grid_row": null,
            "grid_template_areas": null,
            "grid_template_columns": null,
            "grid_template_rows": null,
            "height": null,
            "justify_content": null,
            "justify_items": null,
            "left": null,
            "margin": null,
            "max_height": null,
            "max_width": null,
            "min_height": null,
            "min_width": null,
            "object_fit": null,
            "object_position": null,
            "order": null,
            "overflow": null,
            "overflow_x": null,
            "overflow_y": null,
            "padding": null,
            "right": null,
            "top": null,
            "visibility": null,
            "width": null
          }
        },
        "bd1d08a6d6744897bea4cca4030fe9ac": {
          "model_module": "@jupyter-widgets/controls",
          "model_name": "DescriptionStyleModel",
          "model_module_version": "1.5.0",
          "state": {
            "_model_module": "@jupyter-widgets/controls",
            "_model_module_version": "1.5.0",
            "_model_name": "DescriptionStyleModel",
            "_view_count": null,
            "_view_module": "@jupyter-widgets/base",
            "_view_module_version": "1.2.0",
            "_view_name": "StyleView",
            "description_width": ""
          }
        },
        "72ffad08050c416dbc4dad8b69de1c9d": {
          "model_module": "@jupyter-widgets/controls",
          "model_name": "HBoxModel",
          "model_module_version": "1.5.0",
          "state": {
            "_dom_classes": [],
            "_model_module": "@jupyter-widgets/controls",
            "_model_module_version": "1.5.0",
            "_model_name": "HBoxModel",
            "_view_count": null,
            "_view_module": "@jupyter-widgets/controls",
            "_view_module_version": "1.5.0",
            "_view_name": "HBoxView",
            "box_style": "",
            "children": [
              "IPY_MODEL_2914d8fc080d4d68baaa9ade44448c27",
              "IPY_MODEL_f0b2503a499248e09dcd4764726f0b96",
              "IPY_MODEL_0537d9b534b648e28824a46307bb2302"
            ],
            "layout": "IPY_MODEL_2dbe818734504e22b2f2d5cbdd22e356"
          }
        },
        "2914d8fc080d4d68baaa9ade44448c27": {
          "model_module": "@jupyter-widgets/controls",
          "model_name": "HTMLModel",
          "model_module_version": "1.5.0",
          "state": {
            "_dom_classes": [],
            "_model_module": "@jupyter-widgets/controls",
            "_model_module_version": "1.5.0",
            "_model_name": "HTMLModel",
            "_view_count": null,
            "_view_module": "@jupyter-widgets/controls",
            "_view_module_version": "1.5.0",
            "_view_name": "HTMLView",
            "description": "",
            "description_tooltip": null,
            "layout": "IPY_MODEL_808334a989a44d5482b328cb371bfb88",
            "placeholder": "​",
            "style": "IPY_MODEL_f3321358ab3b44eb9bfa887267403392",
            "value": "100%"
          }
        },
        "f0b2503a499248e09dcd4764726f0b96": {
          "model_module": "@jupyter-widgets/controls",
          "model_name": "FloatProgressModel",
          "model_module_version": "1.5.0",
          "state": {
            "_dom_classes": [],
            "_model_module": "@jupyter-widgets/controls",
            "_model_module_version": "1.5.0",
            "_model_name": "FloatProgressModel",
            "_view_count": null,
            "_view_module": "@jupyter-widgets/controls",
            "_view_module_version": "1.5.0",
            "_view_name": "ProgressView",
            "bar_style": "success",
            "description": "",
            "description_tooltip": null,
            "layout": "IPY_MODEL_3c4db428da90488a8e23dadab6e3b496",
            "max": 50,
            "min": 0,
            "orientation": "horizontal",
            "style": "IPY_MODEL_e3927e6b6b014f1f8f8fabd0f52a441e",
            "value": 50
          }
        },
        "0537d9b534b648e28824a46307bb2302": {
          "model_module": "@jupyter-widgets/controls",
          "model_name": "HTMLModel",
          "model_module_version": "1.5.0",
          "state": {
            "_dom_classes": [],
            "_model_module": "@jupyter-widgets/controls",
            "_model_module_version": "1.5.0",
            "_model_name": "HTMLModel",
            "_view_count": null,
            "_view_module": "@jupyter-widgets/controls",
            "_view_module_version": "1.5.0",
            "_view_name": "HTMLView",
            "description": "",
            "description_tooltip": null,
            "layout": "IPY_MODEL_e672c4a1d31543dfae4b96b44eac09a3",
            "placeholder": "​",
            "style": "IPY_MODEL_0e29aa24bc0f4096bddc35f97183ede5",
            "value": " 50/50 [01:36&lt;00:00,  1.89s/it]"
          }
        },
        "2dbe818734504e22b2f2d5cbdd22e356": {
          "model_module": "@jupyter-widgets/base",
          "model_name": "LayoutModel",
          "model_module_version": "1.2.0",
          "state": {
            "_model_module": "@jupyter-widgets/base",
            "_model_module_version": "1.2.0",
            "_model_name": "LayoutModel",
            "_view_count": null,
            "_view_module": "@jupyter-widgets/base",
            "_view_module_version": "1.2.0",
            "_view_name": "LayoutView",
            "align_content": null,
            "align_items": null,
            "align_self": null,
            "border": null,
            "bottom": null,
            "display": null,
            "flex": null,
            "flex_flow": null,
            "grid_area": null,
            "grid_auto_columns": null,
            "grid_auto_flow": null,
            "grid_auto_rows": null,
            "grid_column": null,
            "grid_gap": null,
            "grid_row": null,
            "grid_template_areas": null,
            "grid_template_columns": null,
            "grid_template_rows": null,
            "height": null,
            "justify_content": null,
            "justify_items": null,
            "left": null,
            "margin": null,
            "max_height": null,
            "max_width": null,
            "min_height": null,
            "min_width": null,
            "object_fit": null,
            "object_position": null,
            "order": null,
            "overflow": null,
            "overflow_x": null,
            "overflow_y": null,
            "padding": null,
            "right": null,
            "top": null,
            "visibility": null,
            "width": null
          }
        },
        "808334a989a44d5482b328cb371bfb88": {
          "model_module": "@jupyter-widgets/base",
          "model_name": "LayoutModel",
          "model_module_version": "1.2.0",
          "state": {
            "_model_module": "@jupyter-widgets/base",
            "_model_module_version": "1.2.0",
            "_model_name": "LayoutModel",
            "_view_count": null,
            "_view_module": "@jupyter-widgets/base",
            "_view_module_version": "1.2.0",
            "_view_name": "LayoutView",
            "align_content": null,
            "align_items": null,
            "align_self": null,
            "border": null,
            "bottom": null,
            "display": null,
            "flex": null,
            "flex_flow": null,
            "grid_area": null,
            "grid_auto_columns": null,
            "grid_auto_flow": null,
            "grid_auto_rows": null,
            "grid_column": null,
            "grid_gap": null,
            "grid_row": null,
            "grid_template_areas": null,
            "grid_template_columns": null,
            "grid_template_rows": null,
            "height": null,
            "justify_content": null,
            "justify_items": null,
            "left": null,
            "margin": null,
            "max_height": null,
            "max_width": null,
            "min_height": null,
            "min_width": null,
            "object_fit": null,
            "object_position": null,
            "order": null,
            "overflow": null,
            "overflow_x": null,
            "overflow_y": null,
            "padding": null,
            "right": null,
            "top": null,
            "visibility": null,
            "width": null
          }
        },
        "f3321358ab3b44eb9bfa887267403392": {
          "model_module": "@jupyter-widgets/controls",
          "model_name": "DescriptionStyleModel",
          "model_module_version": "1.5.0",
          "state": {
            "_model_module": "@jupyter-widgets/controls",
            "_model_module_version": "1.5.0",
            "_model_name": "DescriptionStyleModel",
            "_view_count": null,
            "_view_module": "@jupyter-widgets/base",
            "_view_module_version": "1.2.0",
            "_view_name": "StyleView",
            "description_width": ""
          }
        },
        "3c4db428da90488a8e23dadab6e3b496": {
          "model_module": "@jupyter-widgets/base",
          "model_name": "LayoutModel",
          "model_module_version": "1.2.0",
          "state": {
            "_model_module": "@jupyter-widgets/base",
            "_model_module_version": "1.2.0",
            "_model_name": "LayoutModel",
            "_view_count": null,
            "_view_module": "@jupyter-widgets/base",
            "_view_module_version": "1.2.0",
            "_view_name": "LayoutView",
            "align_content": null,
            "align_items": null,
            "align_self": null,
            "border": null,
            "bottom": null,
            "display": null,
            "flex": null,
            "flex_flow": null,
            "grid_area": null,
            "grid_auto_columns": null,
            "grid_auto_flow": null,
            "grid_auto_rows": null,
            "grid_column": null,
            "grid_gap": null,
            "grid_row": null,
            "grid_template_areas": null,
            "grid_template_columns": null,
            "grid_template_rows": null,
            "height": null,
            "justify_content": null,
            "justify_items": null,
            "left": null,
            "margin": null,
            "max_height": null,
            "max_width": null,
            "min_height": null,
            "min_width": null,
            "object_fit": null,
            "object_position": null,
            "order": null,
            "overflow": null,
            "overflow_x": null,
            "overflow_y": null,
            "padding": null,
            "right": null,
            "top": null,
            "visibility": null,
            "width": null
          }
        },
        "e3927e6b6b014f1f8f8fabd0f52a441e": {
          "model_module": "@jupyter-widgets/controls",
          "model_name": "ProgressStyleModel",
          "model_module_version": "1.5.0",
          "state": {
            "_model_module": "@jupyter-widgets/controls",
            "_model_module_version": "1.5.0",
            "_model_name": "ProgressStyleModel",
            "_view_count": null,
            "_view_module": "@jupyter-widgets/base",
            "_view_module_version": "1.2.0",
            "_view_name": "StyleView",
            "bar_color": null,
            "description_width": ""
          }
        },
        "e672c4a1d31543dfae4b96b44eac09a3": {
          "model_module": "@jupyter-widgets/base",
          "model_name": "LayoutModel",
          "model_module_version": "1.2.0",
          "state": {
            "_model_module": "@jupyter-widgets/base",
            "_model_module_version": "1.2.0",
            "_model_name": "LayoutModel",
            "_view_count": null,
            "_view_module": "@jupyter-widgets/base",
            "_view_module_version": "1.2.0",
            "_view_name": "LayoutView",
            "align_content": null,
            "align_items": null,
            "align_self": null,
            "border": null,
            "bottom": null,
            "display": null,
            "flex": null,
            "flex_flow": null,
            "grid_area": null,
            "grid_auto_columns": null,
            "grid_auto_flow": null,
            "grid_auto_rows": null,
            "grid_column": null,
            "grid_gap": null,
            "grid_row": null,
            "grid_template_areas": null,
            "grid_template_columns": null,
            "grid_template_rows": null,
            "height": null,
            "justify_content": null,
            "justify_items": null,
            "left": null,
            "margin": null,
            "max_height": null,
            "max_width": null,
            "min_height": null,
            "min_width": null,
            "object_fit": null,
            "object_position": null,
            "order": null,
            "overflow": null,
            "overflow_x": null,
            "overflow_y": null,
            "padding": null,
            "right": null,
            "top": null,
            "visibility": null,
            "width": null
          }
        },
        "0e29aa24bc0f4096bddc35f97183ede5": {
          "model_module": "@jupyter-widgets/controls",
          "model_name": "DescriptionStyleModel",
          "model_module_version": "1.5.0",
          "state": {
            "_model_module": "@jupyter-widgets/controls",
            "_model_module_version": "1.5.0",
            "_model_name": "DescriptionStyleModel",
            "_view_count": null,
            "_view_module": "@jupyter-widgets/base",
            "_view_module_version": "1.2.0",
            "_view_name": "StyleView",
            "description_width": ""
          }
        },
        "22e5bfcf966e4633be745ba9dd604234": {
          "model_module": "@jupyter-widgets/controls",
          "model_name": "HBoxModel",
          "model_module_version": "1.5.0",
          "state": {
            "_dom_classes": [],
            "_model_module": "@jupyter-widgets/controls",
            "_model_module_version": "1.5.0",
            "_model_name": "HBoxModel",
            "_view_count": null,
            "_view_module": "@jupyter-widgets/controls",
            "_view_module_version": "1.5.0",
            "_view_name": "HBoxView",
            "box_style": "",
            "children": [
              "IPY_MODEL_4f87eaa4c8fb4b93892342548afb3a22",
              "IPY_MODEL_804301e13277449494b44570a470144b",
              "IPY_MODEL_8fbac36a3c8c40569abada2a9fec0c03"
            ],
            "layout": "IPY_MODEL_7c8d98cc3fd94900bbdecf261f01b824"
          }
        },
        "4f87eaa4c8fb4b93892342548afb3a22": {
          "model_module": "@jupyter-widgets/controls",
          "model_name": "HTMLModel",
          "model_module_version": "1.5.0",
          "state": {
            "_dom_classes": [],
            "_model_module": "@jupyter-widgets/controls",
            "_model_module_version": "1.5.0",
            "_model_name": "HTMLModel",
            "_view_count": null,
            "_view_module": "@jupyter-widgets/controls",
            "_view_module_version": "1.5.0",
            "_view_name": "HTMLView",
            "description": "",
            "description_tooltip": null,
            "layout": "IPY_MODEL_a75c0e2b42484df79aaa130c8c146ea0",
            "placeholder": "​",
            "style": "IPY_MODEL_75c65a5fcb644ba591a42b42caf5c35f",
            "value": "100%"
          }
        },
        "804301e13277449494b44570a470144b": {
          "model_module": "@jupyter-widgets/controls",
          "model_name": "FloatProgressModel",
          "model_module_version": "1.5.0",
          "state": {
            "_dom_classes": [],
            "_model_module": "@jupyter-widgets/controls",
            "_model_module_version": "1.5.0",
            "_model_name": "FloatProgressModel",
            "_view_count": null,
            "_view_module": "@jupyter-widgets/controls",
            "_view_module_version": "1.5.0",
            "_view_name": "ProgressView",
            "bar_style": "success",
            "description": "",
            "description_tooltip": null,
            "layout": "IPY_MODEL_f3cf29ba7cae4d808642474fe9fed889",
            "max": 50,
            "min": 0,
            "orientation": "horizontal",
            "style": "IPY_MODEL_6a080e60bef643d38c9fe5c9c27b2745",
            "value": 50
          }
        },
        "8fbac36a3c8c40569abada2a9fec0c03": {
          "model_module": "@jupyter-widgets/controls",
          "model_name": "HTMLModel",
          "model_module_version": "1.5.0",
          "state": {
            "_dom_classes": [],
            "_model_module": "@jupyter-widgets/controls",
            "_model_module_version": "1.5.0",
            "_model_name": "HTMLModel",
            "_view_count": null,
            "_view_module": "@jupyter-widgets/controls",
            "_view_module_version": "1.5.0",
            "_view_name": "HTMLView",
            "description": "",
            "description_tooltip": null,
            "layout": "IPY_MODEL_87553c5312f841a0b71ad97cc55f6cce",
            "placeholder": "​",
            "style": "IPY_MODEL_abd9fcec9d204f9d8ac488b201c1ef1f",
            "value": " 50/50 [01:41&lt;00:00,  2.98s/it]"
          }
        },
        "7c8d98cc3fd94900bbdecf261f01b824": {
          "model_module": "@jupyter-widgets/base",
          "model_name": "LayoutModel",
          "model_module_version": "1.2.0",
          "state": {
            "_model_module": "@jupyter-widgets/base",
            "_model_module_version": "1.2.0",
            "_model_name": "LayoutModel",
            "_view_count": null,
            "_view_module": "@jupyter-widgets/base",
            "_view_module_version": "1.2.0",
            "_view_name": "LayoutView",
            "align_content": null,
            "align_items": null,
            "align_self": null,
            "border": null,
            "bottom": null,
            "display": null,
            "flex": null,
            "flex_flow": null,
            "grid_area": null,
            "grid_auto_columns": null,
            "grid_auto_flow": null,
            "grid_auto_rows": null,
            "grid_column": null,
            "grid_gap": null,
            "grid_row": null,
            "grid_template_areas": null,
            "grid_template_columns": null,
            "grid_template_rows": null,
            "height": null,
            "justify_content": null,
            "justify_items": null,
            "left": null,
            "margin": null,
            "max_height": null,
            "max_width": null,
            "min_height": null,
            "min_width": null,
            "object_fit": null,
            "object_position": null,
            "order": null,
            "overflow": null,
            "overflow_x": null,
            "overflow_y": null,
            "padding": null,
            "right": null,
            "top": null,
            "visibility": null,
            "width": null
          }
        },
        "a75c0e2b42484df79aaa130c8c146ea0": {
          "model_module": "@jupyter-widgets/base",
          "model_name": "LayoutModel",
          "model_module_version": "1.2.0",
          "state": {
            "_model_module": "@jupyter-widgets/base",
            "_model_module_version": "1.2.0",
            "_model_name": "LayoutModel",
            "_view_count": null,
            "_view_module": "@jupyter-widgets/base",
            "_view_module_version": "1.2.0",
            "_view_name": "LayoutView",
            "align_content": null,
            "align_items": null,
            "align_self": null,
            "border": null,
            "bottom": null,
            "display": null,
            "flex": null,
            "flex_flow": null,
            "grid_area": null,
            "grid_auto_columns": null,
            "grid_auto_flow": null,
            "grid_auto_rows": null,
            "grid_column": null,
            "grid_gap": null,
            "grid_row": null,
            "grid_template_areas": null,
            "grid_template_columns": null,
            "grid_template_rows": null,
            "height": null,
            "justify_content": null,
            "justify_items": null,
            "left": null,
            "margin": null,
            "max_height": null,
            "max_width": null,
            "min_height": null,
            "min_width": null,
            "object_fit": null,
            "object_position": null,
            "order": null,
            "overflow": null,
            "overflow_x": null,
            "overflow_y": null,
            "padding": null,
            "right": null,
            "top": null,
            "visibility": null,
            "width": null
          }
        },
        "75c65a5fcb644ba591a42b42caf5c35f": {
          "model_module": "@jupyter-widgets/controls",
          "model_name": "DescriptionStyleModel",
          "model_module_version": "1.5.0",
          "state": {
            "_model_module": "@jupyter-widgets/controls",
            "_model_module_version": "1.5.0",
            "_model_name": "DescriptionStyleModel",
            "_view_count": null,
            "_view_module": "@jupyter-widgets/base",
            "_view_module_version": "1.2.0",
            "_view_name": "StyleView",
            "description_width": ""
          }
        },
        "f3cf29ba7cae4d808642474fe9fed889": {
          "model_module": "@jupyter-widgets/base",
          "model_name": "LayoutModel",
          "model_module_version": "1.2.0",
          "state": {
            "_model_module": "@jupyter-widgets/base",
            "_model_module_version": "1.2.0",
            "_model_name": "LayoutModel",
            "_view_count": null,
            "_view_module": "@jupyter-widgets/base",
            "_view_module_version": "1.2.0",
            "_view_name": "LayoutView",
            "align_content": null,
            "align_items": null,
            "align_self": null,
            "border": null,
            "bottom": null,
            "display": null,
            "flex": null,
            "flex_flow": null,
            "grid_area": null,
            "grid_auto_columns": null,
            "grid_auto_flow": null,
            "grid_auto_rows": null,
            "grid_column": null,
            "grid_gap": null,
            "grid_row": null,
            "grid_template_areas": null,
            "grid_template_columns": null,
            "grid_template_rows": null,
            "height": null,
            "justify_content": null,
            "justify_items": null,
            "left": null,
            "margin": null,
            "max_height": null,
            "max_width": null,
            "min_height": null,
            "min_width": null,
            "object_fit": null,
            "object_position": null,
            "order": null,
            "overflow": null,
            "overflow_x": null,
            "overflow_y": null,
            "padding": null,
            "right": null,
            "top": null,
            "visibility": null,
            "width": null
          }
        },
        "6a080e60bef643d38c9fe5c9c27b2745": {
          "model_module": "@jupyter-widgets/controls",
          "model_name": "ProgressStyleModel",
          "model_module_version": "1.5.0",
          "state": {
            "_model_module": "@jupyter-widgets/controls",
            "_model_module_version": "1.5.0",
            "_model_name": "ProgressStyleModel",
            "_view_count": null,
            "_view_module": "@jupyter-widgets/base",
            "_view_module_version": "1.2.0",
            "_view_name": "StyleView",
            "bar_color": null,
            "description_width": ""
          }
        },
        "87553c5312f841a0b71ad97cc55f6cce": {
          "model_module": "@jupyter-widgets/base",
          "model_name": "LayoutModel",
          "model_module_version": "1.2.0",
          "state": {
            "_model_module": "@jupyter-widgets/base",
            "_model_module_version": "1.2.0",
            "_model_name": "LayoutModel",
            "_view_count": null,
            "_view_module": "@jupyter-widgets/base",
            "_view_module_version": "1.2.0",
            "_view_name": "LayoutView",
            "align_content": null,
            "align_items": null,
            "align_self": null,
            "border": null,
            "bottom": null,
            "display": null,
            "flex": null,
            "flex_flow": null,
            "grid_area": null,
            "grid_auto_columns": null,
            "grid_auto_flow": null,
            "grid_auto_rows": null,
            "grid_column": null,
            "grid_gap": null,
            "grid_row": null,
            "grid_template_areas": null,
            "grid_template_columns": null,
            "grid_template_rows": null,
            "height": null,
            "justify_content": null,
            "justify_items": null,
            "left": null,
            "margin": null,
            "max_height": null,
            "max_width": null,
            "min_height": null,
            "min_width": null,
            "object_fit": null,
            "object_position": null,
            "order": null,
            "overflow": null,
            "overflow_x": null,
            "overflow_y": null,
            "padding": null,
            "right": null,
            "top": null,
            "visibility": null,
            "width": null
          }
        },
        "abd9fcec9d204f9d8ac488b201c1ef1f": {
          "model_module": "@jupyter-widgets/controls",
          "model_name": "DescriptionStyleModel",
          "model_module_version": "1.5.0",
          "state": {
            "_model_module": "@jupyter-widgets/controls",
            "_model_module_version": "1.5.0",
            "_model_name": "DescriptionStyleModel",
            "_view_count": null,
            "_view_module": "@jupyter-widgets/base",
            "_view_module_version": "1.2.0",
            "_view_name": "StyleView",
            "description_width": ""
          }
        }
      }
    }
  },
  "nbformat": 4,
  "nbformat_minor": 0
}

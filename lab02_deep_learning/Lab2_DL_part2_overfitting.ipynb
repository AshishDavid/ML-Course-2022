{
  "cells": [
    {
      "cell_type": "markdown",
      "metadata": {
        "id": "NFmOh482SyEF"
      },
      "source": [
        "## Lab 2\n",
        "### Part 2: Dealing with overfitting"
      ]
    },
    {
      "cell_type": "markdown",
      "metadata": {
        "id": "AjzAuO3oSvsI"
      },
      "source": [
        "Today we work with [Fashion-MNIST dataset](https://github.com/zalandoresearch/fashion-mnist) (*hint: it is available in `torchvision`*).\n",
        "\n",
        "Your goal for today:\n",
        "1. Train a FC (fully-connected) network that achieves >= 0.885 test accuracy.\n",
        "2. Cause considerable overfitting by modifying the network (e.g. increasing the number of network parameters and/or layers) and demonstrate in in the appropriate way (e.g. plot loss and accurasy on train and validation set w.r.t. network complexity).\n",
        "3. Try to deal with overfitting (at least partially) by using regularization techniques (Dropout/Batchnorm/...) and demonstrate the results.\n",
        "\n",
        "__Please, write a small report describing your ideas, tries and achieved results in the end of this file.__\n",
        "\n",
        "*Note*: Tasks 2 and 3 are interrelated, in task 3 your goal is to make the network from task 2 less prone to overfitting. Task 1 is independent from 2 and 3.\n",
        "\n",
        "*Note 2*: We recomment to use Google Colab or other machine with GPU acceleration."
      ]
    },
    {
      "cell_type": "code",
      "execution_count": 47,
      "metadata": {
        "id": "_KBld6VOSwhW"
      },
      "outputs": [],
      "source": [
        "import torch\n",
        "import torch.nn as nn\n",
        "import torchvision\n",
        "import torchvision.transforms as transforms\n",
        "import torchsummary\n",
        "from IPython.display import clear_output\n",
        "from matplotlib import pyplot as plt\n",
        "from matplotlib.pyplot import figure\n",
        "import numpy as np\n",
        "import os\n",
        "\n",
        "\n",
        "device = 'cuda:0' if torch.cuda.is_available() else 'cpu'"
      ]
    },
    {
      "cell_type": "code",
      "execution_count": 2,
      "metadata": {
        "colab": {
          "base_uri": "https://localhost:8080/"
        },
        "id": "EdLOG0XqS_g5",
        "outputId": "4aae5e1f-53d7-482b-cdde-3eacc950e3a5"
      },
      "outputs": [
        {
          "output_type": "stream",
          "name": "stdout",
          "text": [
            "Directory fmnist is created!\n"
          ]
        }
      ],
      "source": [
        "# Technical function\n",
        "def mkdir(path):\n",
        "    if not os.path.exists(root_path):\n",
        "        os.mkdir(root_path)\n",
        "        print('Directory', path, 'is created!')\n",
        "    else:\n",
        "        print('Directory', path, 'already exists!')\n",
        "        \n",
        "root_path = 'fmnist'\n",
        "mkdir(root_path)"
      ]
    },
    {
      "cell_type": "code",
      "execution_count": 48,
      "metadata": {
        "id": "qt6LE7XaTDT9"
      },
      "outputs": [],
      "source": [
        "download = True\n",
        "train_transform = transforms.ToTensor()\n",
        "test_transform = transforms.ToTensor()\n",
        "transforms.Compose((transforms.ToTensor()))\n",
        "\n",
        "\n",
        "fmnist_dataset_train = torchvision.datasets.FashionMNIST(root_path, \n",
        "                                                        train=True, \n",
        "                                                        transform=train_transform,\n",
        "                                                        target_transform=None,\n",
        "                                                        download=download)\n",
        "fmnist_dataset_test = torchvision.datasets.FashionMNIST(root_path, \n",
        "                                                       train=False, \n",
        "                                                       transform=test_transform,\n",
        "                                                       target_transform=None,\n",
        "                                                       download=download)"
      ]
    },
    {
      "cell_type": "code",
      "execution_count": 49,
      "metadata": {
        "id": "71YP0SPwTIxD"
      },
      "outputs": [],
      "source": [
        "train_loader = torch.utils.data.DataLoader(fmnist_dataset_train, \n",
        "                                           batch_size=128,\n",
        "                                           shuffle=True,\n",
        "                                           num_workers=2)\n",
        "test_loader = torch.utils.data.DataLoader(fmnist_dataset_test,\n",
        "                                          batch_size=256,\n",
        "                                          shuffle=False,\n",
        "                                          num_workers=2)"
      ]
    },
    {
      "cell_type": "code",
      "execution_count": 50,
      "metadata": {
        "colab": {
          "base_uri": "https://localhost:8080/"
        },
        "id": "v_YFmF7NTWrQ",
        "outputId": "9e3cb0c0-d936-4459-8578-5ad5cd84c14a"
      },
      "outputs": [
        {
          "output_type": "execute_result",
          "data": {
            "text/plain": [
              "10000"
            ]
          },
          "metadata": {},
          "execution_count": 50
        }
      ],
      "source": [
        "len(fmnist_dataset_test)"
      ]
    },
    {
      "cell_type": "code",
      "execution_count": 52,
      "metadata": {
        "colab": {
          "base_uri": "https://localhost:8080/"
        },
        "id": "aHca15bOTY4B",
        "outputId": "5f4d96f9-1817-4adb-8967-81f06ff3831a"
      },
      "outputs": [
        {
          "output_type": "stream",
          "name": "stdout",
          "text": [
            "torch.Size([128, 1, 28, 28])\n",
            "torch.Size([128])\n",
            "128\n"
          ]
        }
      ],
      "source": [
        "for img, label in train_loader:\n",
        "    print(img.shape)\n",
        "#     print(img)\n",
        "    print(label.shape)\n",
        "    print(label.size(0))\n",
        "    break"
      ]
    },
    {
      "cell_type": "markdown",
      "metadata": {
        "id": "b6OOOffHTfX5"
      },
      "source": [
        "### Task 1\n",
        "Train a network that achieves $\\geq 0.885$ test accuracy. It's fine to use only Linear (`nn.Linear`) layers and activations/dropout/batchnorm. Convolutional layers might be a great use, but we will meet them a bit later."
      ]
    },
    {
      "cell_type": "code",
      "execution_count": 53,
      "metadata": {
        "id": "ftpkTjxlTcFx"
      },
      "outputs": [],
      "source": [
        "class TinyNeuralNetwork(nn.Module):\n",
        "    def __init__(self, input_shape=28*28, num_classes=10, input_channels=1):\n",
        "        super(self.__class__, self).__init__()\n",
        "        self.model = nn.Sequential(\n",
        "            nn.Flatten(), # This layer converts image into a vector to use Linear layers afterwards\n",
        "            # Your network structure comes here\n",
        "            nn.Linear(input_shape, 128),\n",
        "            nn.ReLU(),\n",
        "            nn.Linear(128, 128),\n",
        "            nn.ReLU(),\n",
        "            nn.Linear(128, num_classes)\n",
        "        )\n",
        "        \n",
        "    def forward(self, inp):       \n",
        "        out = self.model(inp)\n",
        "        return out"
      ]
    },
    {
      "cell_type": "code",
      "execution_count": 54,
      "metadata": {
        "id": "fHmu2RrroWMo",
        "outputId": "d1cd8ef1-db03-4125-80a0-3000102d8318",
        "colab": {
          "base_uri": "https://localhost:8080/"
        }
      },
      "outputs": [
        {
          "output_type": "stream",
          "name": "stdout",
          "text": [
            "----------------------------------------------------------------\n",
            "        Layer (type)               Output Shape         Param #\n",
            "================================================================\n",
            "           Flatten-1                  [-1, 784]               0\n",
            "            Linear-2                  [-1, 128]         100,480\n",
            "              ReLU-3                  [-1, 128]               0\n",
            "            Linear-4                  [-1, 128]          16,512\n",
            "              ReLU-5                  [-1, 128]               0\n",
            "            Linear-6                   [-1, 10]           1,290\n",
            "================================================================\n",
            "Total params: 118,282\n",
            "Trainable params: 118,282\n",
            "Non-trainable params: 0\n",
            "----------------------------------------------------------------\n",
            "Input size (MB): 0.00\n",
            "Forward/backward pass size (MB): 0.01\n",
            "Params size (MB): 0.45\n",
            "Estimated Total Size (MB): 0.46\n",
            "----------------------------------------------------------------\n"
          ]
        }
      ],
      "source": [
        "torchsummary.summary(TinyNeuralNetwork().to(device), (28*28,))"
      ]
    },
    {
      "cell_type": "markdown",
      "metadata": {
        "id": "544PGKEnjPr5"
      },
      "source": [
        "Your experiments come here:"
      ]
    },
    {
      "cell_type": "code",
      "execution_count": 55,
      "metadata": {
        "colab": {
          "base_uri": "https://localhost:8080/"
        },
        "id": "i3POFj90Ti-6",
        "outputId": "fa4bba7a-9936-4252-8035-c0a4551988d7"
      },
      "outputs": [
        {
          "output_type": "stream",
          "name": "stdout",
          "text": [
            "epoch 0\n",
            "training loss:     0.6001486126929204\n",
            "validation accuracy:     0.84013671875\n",
            "epoch 1\n",
            "training loss:     0.4097531468692873\n",
            "validation accuracy:     0.852734375\n",
            "epoch 2\n",
            "training loss:     0.3610448728619354\n",
            "validation accuracy:     0.85849609375\n",
            "epoch 3\n",
            "training loss:     0.33542456581140123\n",
            "validation accuracy:     0.8662109375\n",
            "epoch 4\n",
            "training loss:     0.31501499787449583\n",
            "validation accuracy:     0.86982421875\n",
            "epoch 5\n",
            "training loss:     0.29935844236218345\n",
            "validation accuracy:     0.87919921875\n",
            "epoch 6\n",
            "training loss:     0.283377301813697\n",
            "validation accuracy:     0.8794921875\n",
            "epoch 7\n",
            "training loss:     0.27512030392440395\n",
            "validation accuracy:     0.88037109375\n",
            "epoch 8\n",
            "training loss:     0.2637983915298732\n",
            "validation accuracy:     0.88134765625\n",
            "epoch 9\n",
            "training loss:     0.25081489997695505\n",
            "validation accuracy:     0.88095703125\n",
            "epoch 10\n",
            "training loss:     0.24577661298676087\n",
            "validation accuracy:     0.881640625\n",
            "epoch 11\n",
            "training loss:     0.2390161592092341\n",
            "validation accuracy:     0.8830078125\n",
            "epoch 12\n",
            "training loss:     0.23248640927615197\n",
            "validation accuracy:     0.88935546875\n",
            "epoch 13\n",
            "training loss:     0.22281636116601256\n",
            "validation accuracy:     0.88984375\n",
            "epoch 14\n",
            "training loss:     0.21676962401694072\n",
            "validation accuracy:     0.8814453125\n"
          ]
        }
      ],
      "source": [
        "model = TinyNeuralNetwork().to(device)\n",
        "opt = torch.optim.Adam(model.parameters())\n",
        "loss_function = nn.CrossEntropyLoss()\n",
        "\n",
        "def train_model(model, train_loader, val_loader, loss_fn, opt, n_epochs: int, device=device):\n",
        "    loss_training, loss_val, acc_val = [], [], []\n",
        "    for epoch in range(n_epochs):\n",
        "        ep_loss_training, ep_val_loss, ep_acc_val = [], [], []\n",
        "        ep_val_loss = []\n",
        "        ep_acc_val = []\n",
        "        model.train(True)\n",
        "        for X_batch, y_batch in train_loader:\n",
        "            opt.zero_grad()\n",
        "            X_batch, y_batch = X_batch.to(device), y_batch.to(device)\n",
        "            out = model(X_batch)   \n",
        "            loss = loss_fn(out, y_batch)\n",
        "            loss.backward()\n",
        "            opt.step()\n",
        "            ep_loss_training.append(loss.item())\n",
        "        model.train(False) \n",
        "        with torch.no_grad():\n",
        "            for X_batch, y_batch in val_loader:           \n",
        "                X_batch, y_batch = X_batch.to(device), y_batch.to(device)\n",
        "                out = model(X_batch)\n",
        "                loss = loss_fn(out, y_batch)\n",
        "                ep_val_loss.append(loss.item())\n",
        "                y_pred = out.max(dim=1)[1]\n",
        "                ep_acc_val.append(np.sum(y_batch.cpu().numpy() == y_pred.cpu().numpy().astype(float))/ len(y_batch.cpu()))\n",
        "        print(\"epoch \", end='')\n",
        "        print(epoch)\n",
        "\n",
        "        loss_training.append(np.mean(ep_loss_training))\n",
        "        loss_val.append(np.mean(ep_val_loss))\n",
        "        acc_val.append(np.mean(ep_acc_val))\n",
        "\n",
        "        print(\"training loss:     \", end='') \n",
        "        print(loss_training[-1])\n",
        "        print(\"validation accuracy:     \", end='')\n",
        "        print(acc_val[-1])\n",
        "    return loss_training, loss_val, acc_val\n",
        "\n",
        "n_epochs = 15\n",
        "import time\n",
        "loss_training, loss_val, acc_val = train_model(model, train_loader, test_loader, loss_function, opt, n_epochs)"
      ]
    },
    {
      "cell_type": "markdown",
      "metadata": {
        "id": "L7ISqkjmCPB1"
      },
      "source": [
        "### Task 2: Overfit it.\n",
        "Build a network that will overfit to this dataset. Demonstrate the overfitting in the appropriate way (e.g. plot loss and accurasy on train and test set w.r.t. network complexity).\n",
        "\n",
        "*Note:* you also might decrease the size of `train` dataset to enforce the overfitting and speed up the computations."
      ]
    },
    {
      "cell_type": "code",
      "execution_count": 56,
      "metadata": {
        "id": "H12uAWiGBwJx"
      },
      "outputs": [],
      "source": [
        "class OverfittingNeuralNetwork(nn.Module):\n",
        "    def __init__(self, input_shape=28*28, num_classes=10, input_channels=1):\n",
        "        super(self.__class__, self).__init__()\n",
        "        self.model = nn.Sequential(\n",
        "            nn.Flatten(), # This layer converts image into a vector to use Linear layers afterwards\n",
        "            # Your network structure comes here\n",
        "            nn.Linear(input_shape, 500),\n",
        "            nn.LeakyReLU(),\n",
        "            nn.Linear(500,300),\n",
        "            nn.LeakyReLU(),\n",
        "            nn.Linear(300, 100),\n",
        "            nn.LeakyReLU(),\n",
        "            nn.Linear(100,10),\n",
        "            nn.LeakyReLU(),\n",
        "            nn.Linear(10,num_classes)\n",
        "        )\n",
        "        \n",
        "    def forward(self, inp):       \n",
        "        out = self.model(inp)\n",
        "        return out"
      ]
    },
    {
      "cell_type": "code",
      "execution_count": 57,
      "metadata": {
        "colab": {
          "base_uri": "https://localhost:8080/"
        },
        "id": "JgXAKCpvCwqH",
        "outputId": "693705f3-8a57-4362-8e0a-2f16a6e0d323"
      },
      "outputs": [
        {
          "output_type": "stream",
          "name": "stdout",
          "text": [
            "----------------------------------------------------------------\n",
            "        Layer (type)               Output Shape         Param #\n",
            "================================================================\n",
            "           Flatten-1                  [-1, 784]               0\n",
            "            Linear-2                  [-1, 500]         392,500\n",
            "         LeakyReLU-3                  [-1, 500]               0\n",
            "            Linear-4                  [-1, 300]         150,300\n",
            "         LeakyReLU-5                  [-1, 300]               0\n",
            "            Linear-6                  [-1, 100]          30,100\n",
            "         LeakyReLU-7                  [-1, 100]               0\n",
            "            Linear-8                   [-1, 10]           1,010\n",
            "         LeakyReLU-9                   [-1, 10]               0\n",
            "           Linear-10                   [-1, 10]             110\n",
            "================================================================\n",
            "Total params: 574,020\n",
            "Trainable params: 574,020\n",
            "Non-trainable params: 0\n",
            "----------------------------------------------------------------\n",
            "Input size (MB): 0.00\n",
            "Forward/backward pass size (MB): 0.02\n",
            "Params size (MB): 2.19\n",
            "Estimated Total Size (MB): 2.21\n",
            "----------------------------------------------------------------\n"
          ]
        }
      ],
      "source": [
        "torchsummary.summary(OverfittingNeuralNetwork().to(device), (28*28,))"
      ]
    },
    {
      "cell_type": "code",
      "execution_count": 58,
      "metadata": {
        "id": "9xK5nljuoWMs",
        "outputId": "63fd45fd-ac1d-4898-9e6e-b05523d82b33",
        "colab": {
          "base_uri": "https://localhost:8080/"
        }
      },
      "outputs": [
        {
          "output_type": "stream",
          "name": "stdout",
          "text": [
            "epoch 0\n",
            "training loss:     0.6712527637923958\n",
            "validation accuracy:     0.8431640625\n",
            "epoch 1\n",
            "training loss:     0.393494827724469\n",
            "validation accuracy:     0.84716796875\n",
            "epoch 2\n",
            "training loss:     0.3447919708769967\n",
            "validation accuracy:     0.8681640625\n",
            "epoch 3\n",
            "training loss:     0.3170072427118765\n",
            "validation accuracy:     0.876953125\n",
            "epoch 4\n",
            "training loss:     0.30006606463811547\n",
            "validation accuracy:     0.866796875\n",
            "epoch 5\n",
            "training loss:     0.2810200858853265\n",
            "validation accuracy:     0.87392578125\n",
            "epoch 6\n",
            "training loss:     0.2683188936381198\n",
            "validation accuracy:     0.88046875\n",
            "epoch 7\n",
            "training loss:     0.2555237873467301\n",
            "validation accuracy:     0.8787109375\n",
            "epoch 8\n",
            "training loss:     0.24324150798099636\n",
            "validation accuracy:     0.881640625\n",
            "epoch 9\n",
            "training loss:     0.23513505253583383\n",
            "validation accuracy:     0.887109375\n",
            "epoch 10\n",
            "training loss:     0.22319048789264298\n",
            "validation accuracy:     0.88974609375\n",
            "epoch 11\n",
            "training loss:     0.21609236504922288\n",
            "validation accuracy:     0.8861328125\n",
            "epoch 12\n",
            "training loss:     0.20676288868127857\n",
            "validation accuracy:     0.8923828125\n",
            "epoch 13\n",
            "training loss:     0.19885387076243663\n",
            "validation accuracy:     0.88056640625\n",
            "epoch 14\n",
            "training loss:     0.19268791547525665\n",
            "validation accuracy:     0.89091796875\n",
            "epoch 15\n",
            "training loss:     0.18736527775968315\n",
            "validation accuracy:     0.89208984375\n",
            "epoch 16\n",
            "training loss:     0.18057480482245558\n",
            "validation accuracy:     0.8857421875\n",
            "epoch 17\n",
            "training loss:     0.1731967078819712\n",
            "validation accuracy:     0.89287109375\n",
            "epoch 18\n",
            "training loss:     0.16576632518948778\n",
            "validation accuracy:     0.89013671875\n",
            "epoch 19\n",
            "training loss:     0.16244318904970756\n",
            "validation accuracy:     0.88896484375\n",
            "epoch 20\n",
            "training loss:     0.15372234546362973\n",
            "validation accuracy:     0.897265625\n",
            "epoch 21\n",
            "training loss:     0.15193258198911447\n",
            "validation accuracy:     0.89453125\n",
            "epoch 22\n",
            "training loss:     0.14511457085609436\n",
            "validation accuracy:     0.88427734375\n",
            "epoch 23\n",
            "training loss:     0.14436726685144755\n",
            "validation accuracy:     0.8955078125\n",
            "epoch 24\n",
            "training loss:     0.1353018018387274\n",
            "validation accuracy:     0.89580078125\n"
          ]
        }
      ],
      "source": [
        "model = OverfittingNeuralNetwork().to(device)\n",
        "opt = torch.optim.Adam(model.parameters())\n",
        "loss_func = nn.CrossEntropyLoss()\n",
        "\n",
        "# Your experiments, come here\n",
        "n_epochs = 25\n",
        "train_loss, val_loss, val_accuracy = train_model(model, train_loader, test_loader, loss_func, opt, n_epochs)"
      ]
    },
    {
      "cell_type": "code",
      "source": [
        "fig, axes = plt.subplots(1, 2, figsize=(15, 5))\n",
        "axes[0].set_title('Loss')\n",
        "axes[0].plot(train_loss, label='train')\n",
        "axes[0].plot(val_loss, label='validation')\n",
        "axes[0].legend()\n",
        "axes[1].set_title('Validation accuracy')\n",
        "axes[1].plot(val_accuracy)\n",
        "print(np.max(val_accuracy))"
      ],
      "metadata": {
        "id": "gmXDQiqMwv8k",
        "outputId": "cf612144-9935-41bb-90c2-2107091fe40b",
        "colab": {
          "base_uri": "https://localhost:8080/",
          "height": 354
        }
      },
      "execution_count": 34,
      "outputs": [
        {
          "output_type": "stream",
          "name": "stdout",
          "text": [
            "0.8986328125\n"
          ]
        },
        {
          "output_type": "display_data",
          "data": {
            "text/plain": [
              "<Figure size 1080x360 with 2 Axes>"
            ],
            "image/png": "[encoded data removed]"
          },
          "metadata": {
            "needs_background": "light"
          }
        }
      ]
    },
    {
      "cell_type": "markdown",
      "metadata": {
        "id": "TJjJMD2joWMs"
      },
      "source": [
        "### Task 3: Fix it.\n",
        "Fix the overfitted network from the previous step (at least partially) by using regularization techniques (Dropout/Batchnorm/...) and demonstrate the results. "
      ]
    },
    {
      "cell_type": "code",
      "execution_count": 35,
      "metadata": {
        "id": "tKt0IWsJoWMt"
      },
      "outputs": [],
      "source": [
        "class FixedNeuralNetwork(nn.Module):\n",
        "    def __init__(self, input_shape=28*28, num_classes=10, input_channels=1):\n",
        "        super(self.__class__, self).__init__()\n",
        "        self.model = nn.Sequential(\n",
        "            nn.Flatten(), # This layer converts image into a vector to use Linear layers afterwards\n",
        "            # Your network structure comes here\n",
        "            nn.Linear(input_shape, 600),\n",
        "            nn.BatchNorm1d(600),\n",
        "            nn.LeakyReLU(),\n",
        "            nn.Dropout(),\n",
        "            nn.Linear(600,500),\n",
        "            nn.BatchNorm1d(500),\n",
        "            nn.LeakyReLU(),\n",
        "            nn.Dropout(),\n",
        "            nn.Linear(500, 400),\n",
        "            nn.BatchNorm1d(400),\n",
        "            nn.LeakyReLU(),\n",
        "            nn.Dropout(),\n",
        "            nn.Linear(400,300),\n",
        "            nn.BatchNorm1d(300),\n",
        "            nn.LeakyReLU(),\n",
        "            nn.Dropout(),\n",
        "            nn.Linear(300,200),\n",
        "            nn.BatchNorm1d(200),\n",
        "            nn.LeakyReLU(),\n",
        "            nn.Dropout(), \n",
        "            nn.Linear(200,100),\n",
        "            nn.BatchNorm1d(100),\n",
        "            nn.LeakyReLU(),\n",
        "            nn.Dropout(),\n",
        "            nn.Linear(100,10)\n",
        "        )\n",
        "        \n",
        "    def forward(self, inp):       \n",
        "        out = self.model(inp)\n",
        "        return out"
      ]
    },
    {
      "cell_type": "code",
      "execution_count": 36,
      "metadata": {
        "id": "CQjd2838oWMt",
        "outputId": "8c4d47ba-a0df-4983-ac89-5887cef4dd5e",
        "colab": {
          "base_uri": "https://localhost:8080/"
        }
      },
      "outputs": [
        {
          "output_type": "stream",
          "name": "stdout",
          "text": [
            "----------------------------------------------------------------\n",
            "        Layer (type)               Output Shape         Param #\n",
            "================================================================\n",
            "           Flatten-1                  [-1, 784]               0\n",
            "            Linear-2                  [-1, 600]         471,000\n",
            "       BatchNorm1d-3                  [-1, 600]           1,200\n",
            "         LeakyReLU-4                  [-1, 600]               0\n",
            "           Dropout-5                  [-1, 600]               0\n",
            "            Linear-6                  [-1, 500]         300,500\n",
            "       BatchNorm1d-7                  [-1, 500]           1,000\n",
            "         LeakyReLU-8                  [-1, 500]               0\n",
            "           Dropout-9                  [-1, 500]               0\n",
            "           Linear-10                  [-1, 400]         200,400\n",
            "      BatchNorm1d-11                  [-1, 400]             800\n",
            "        LeakyReLU-12                  [-1, 400]               0\n",
            "          Dropout-13                  [-1, 400]               0\n",
            "           Linear-14                  [-1, 300]         120,300\n",
            "      BatchNorm1d-15                  [-1, 300]             600\n",
            "        LeakyReLU-16                  [-1, 300]               0\n",
            "          Dropout-17                  [-1, 300]               0\n",
            "           Linear-18                  [-1, 200]          60,200\n",
            "      BatchNorm1d-19                  [-1, 200]             400\n",
            "        LeakyReLU-20                  [-1, 200]               0\n",
            "          Dropout-21                  [-1, 200]               0\n",
            "           Linear-22                  [-1, 100]          20,100\n",
            "      BatchNorm1d-23                  [-1, 100]             200\n",
            "        LeakyReLU-24                  [-1, 100]               0\n",
            "          Dropout-25                  [-1, 100]               0\n",
            "           Linear-26                   [-1, 10]           1,010\n",
            "================================================================\n",
            "Total params: 1,177,710\n",
            "Trainable params: 1,177,710\n",
            "Non-trainable params: 0\n",
            "----------------------------------------------------------------\n",
            "Input size (MB): 0.00\n",
            "Forward/backward pass size (MB): 0.07\n",
            "Params size (MB): 4.49\n",
            "Estimated Total Size (MB): 4.57\n",
            "----------------------------------------------------------------\n"
          ]
        }
      ],
      "source": [
        "torchsummary.summary(FixedNeuralNetwork().to(device), (28*28,))"
      ]
    },
    {
      "cell_type": "code",
      "execution_count": 37,
      "metadata": {
        "id": "HTRztc0moWMu",
        "outputId": "e03dfeec-705f-4b35-966e-cea5c194adac",
        "colab": {
          "base_uri": "https://localhost:8080/"
        }
      },
      "outputs": [
        {
          "output_type": "stream",
          "name": "stdout",
          "text": [
            "Epoch 1 of 20 took 9.064s\n",
            "\t  training loss: 0.946158\n",
            "\tvalidation loss: 0.519649\n",
            "\tvalidation accuracy: 0.811\n",
            "Epoch 2 of 20 took 9.802s\n",
            "\t  training loss: 0.587013\n",
            "\tvalidation loss: 0.474981\n",
            "\tvalidation accuracy: 0.830\n",
            "Epoch 3 of 20 took 9.705s\n",
            "\t  training loss: 0.525097\n",
            "\tvalidation loss: 0.420111\n",
            "\tvalidation accuracy: 0.855\n",
            "Epoch 4 of 20 took 9.084s\n",
            "\t  training loss: 0.477704\n",
            "\tvalidation loss: 0.387078\n",
            "\tvalidation accuracy: 0.866\n",
            "Epoch 5 of 20 took 9.119s\n",
            "\t  training loss: 0.453583\n",
            "\tvalidation loss: 0.378172\n",
            "\tvalidation accuracy: 0.870\n",
            "Epoch 6 of 20 took 9.075s\n",
            "\t  training loss: 0.438957\n",
            "\tvalidation loss: 0.367828\n",
            "\tvalidation accuracy: 0.867\n",
            "Epoch 7 of 20 took 9.069s\n",
            "\t  training loss: 0.424263\n",
            "\tvalidation loss: 0.353945\n",
            "\tvalidation accuracy: 0.874\n",
            "Epoch 8 of 20 took 8.990s\n",
            "\t  training loss: 0.409486\n",
            "\tvalidation loss: 0.362882\n",
            "\tvalidation accuracy: 0.873\n",
            "Epoch 9 of 20 took 9.077s\n",
            "\t  training loss: 0.400452\n",
            "\tvalidation loss: 0.348353\n",
            "\tvalidation accuracy: 0.875\n",
            "Epoch 10 of 20 took 9.065s\n",
            "\t  training loss: 0.389504\n",
            "\tvalidation loss: 0.348641\n",
            "\tvalidation accuracy: 0.877\n",
            "Epoch 11 of 20 took 9.163s\n",
            "\t  training loss: 0.379240\n",
            "\tvalidation loss: 0.361888\n",
            "\tvalidation accuracy: 0.871\n",
            "Epoch 12 of 20 took 9.190s\n",
            "\t  training loss: 0.375218\n",
            "\tvalidation loss: 0.329608\n",
            "\tvalidation accuracy: 0.885\n",
            "Epoch 13 of 20 took 9.157s\n",
            "\t  training loss: 0.360008\n",
            "\tvalidation loss: 0.330661\n",
            "\tvalidation accuracy: 0.882\n",
            "Epoch 14 of 20 took 9.136s\n",
            "\t  training loss: 0.359913\n",
            "\tvalidation loss: 0.343581\n",
            "\tvalidation accuracy: 0.882\n",
            "Epoch 15 of 20 took 9.364s\n",
            "\t  training loss: 0.351618\n",
            "\tvalidation loss: 0.337364\n",
            "\tvalidation accuracy: 0.882\n",
            "Epoch 16 of 20 took 8.982s\n",
            "\t  training loss: 0.347765\n",
            "\tvalidation loss: 0.323993\n",
            "\tvalidation accuracy: 0.887\n",
            "Epoch 17 of 20 took 9.324s\n",
            "\t  training loss: 0.338650\n",
            "\tvalidation loss: 0.331121\n",
            "\tvalidation accuracy: 0.883\n",
            "Epoch 18 of 20 took 9.146s\n",
            "\t  training loss: 0.335754\n",
            "\tvalidation loss: 0.328369\n",
            "\tvalidation accuracy: 0.884\n",
            "Epoch 19 of 20 took 9.016s\n",
            "\t  training loss: 0.328135\n",
            "\tvalidation loss: 0.317323\n",
            "\tvalidation accuracy: 0.889\n",
            "Epoch 20 of 20 took 9.112s\n",
            "\t  training loss: 0.326117\n",
            "\tvalidation loss: 0.318736\n",
            "\tvalidation accuracy: 0.889\n"
          ]
        }
      ],
      "source": [
        "model = FixedNeuralNetwork().to(device)\n",
        "opt = torch.optim.Adam(model.parameters())\n",
        "loss_func = nn.CrossEntropyLoss()\n",
        "\n",
        "# Your experiments, come here\n",
        "n_epochs = 20\n",
        "train_loss, val_loss, val_accuracy = train_model(model, train_loader, test_loader, loss_func, opt, n_epochs)"
      ]
    },
    {
      "cell_type": "code",
      "source": [
        "fig, axes = plt.subplots(1, 2, figsize=(15, 5))\n",
        "axes[0].set_title('Loss')\n",
        "axes[0].plot(train_loss, label='train')\n",
        "axes[0].plot(val_loss, label='validation')\n",
        "axes[0].legend()\n",
        "axes[1].set_title('Validation accuracy')\n",
        "axes[1].plot(val_accuracy)\n",
        "print(np.max(val_accuracy))"
      ],
      "metadata": {
        "id": "M8XwoHz5ynIq",
        "outputId": "1807e3db-7e81-452e-d73b-b0bc8f16a600",
        "colab": {
          "base_uri": "https://localhost:8080/",
          "height": 354
        }
      },
      "execution_count": 38,
      "outputs": [
        {
          "output_type": "stream",
          "name": "stdout",
          "text": [
            "0.889453125\n"
          ]
        },
        {
          "output_type": "display_data",
          "data": {
            "text/plain": [
              "<Figure size 1080x360 with 2 Axes>"
            ],
            "image/png": "[encoded data removed]"
          },
          "metadata": {
            "needs_background": "light"
          }
        }
      ]
    },
    {
      "cell_type": "markdown",
      "metadata": {
        "id": "dMui_uLJ7G0d"
      },
      "source": [
        "### Conclusions:\n",
        "_Write down small report with your conclusions and your ideas._\n",
        "\n",
        "The training accuracy increases with increase in number of epochs.\n",
        "The effectiveness of tools like batchnorm and dropout in reducing overfitting also serves as evidence of how well these techniques work in creating better models.\n"
      ]
    }
  ],
  "metadata": {
    "accelerator": "GPU",
    "colab": {
      "name": "Overfit it.ipynb",
      "provenance": []
    },
    "kernelspec": {
      "display_name": "Python 3",
      "language": "python",
      "name": "python3"
    },
    "language_info": {
      "codemirror_mode": {
        "name": "ipython",
        "version": 3
      },
      "file_extension": ".py",
      "mimetype": "text/x-python",
      "name": "python",
      "nbconvert_exporter": "python",
      "pygments_lexer": "ipython3",
      "version": "3.7.7"
    }
  },
  "nbformat": 4,
  "nbformat_minor": 0
}